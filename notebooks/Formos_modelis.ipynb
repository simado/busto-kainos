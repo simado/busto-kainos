{
  "nbformat": 4,
  "nbformat_minor": 0,
  "metadata": {
    "colab": {
      "name": "Api.ipynb",
      "provenance": [],
      "collapsed_sections": []
    },
    "kernelspec": {
      "name": "python3",
      "display_name": "Python 3"
    }
  },
  "cells": [
    {
      "cell_type": "markdown",
      "metadata": {
        "id": "N5PB7pQq1QLV",
        "colab_type": "text"
      },
      "source": [
        "### Formos modelis"
      ]
    },
    {
      "cell_type": "code",
      "metadata": {
        "id": "ljC2HYmXXxpD",
        "colab_type": "code",
        "colab": {}
      },
      "source": [
        "import pandas as pd\n",
        "import numpy as np\n",
        "import seaborn as sns\n",
        "import matplotlib.pyplot as plt\n",
        "from sklearn.linear_model import LinearRegression\n",
        "from sklearn.model_selection import train_test_split\n",
        "from sklearn.metrics import mean_absolute_error\n",
        "import re"
      ],
      "execution_count": 0,
      "outputs": []
    },
    {
      "cell_type": "code",
      "metadata": {
        "id": "1BZ9DNR2XuFN",
        "colab_type": "code",
        "outputId": "36768708-06c1-42c0-88de-0ecbacb5d81b",
        "colab": {
          "resources": {
            "http://localhost:8080/nbextensions/google.colab/files.js": {
              "data": "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",
              "ok": true,
              "headers": [
                [
                  "content-type",
                  "application/javascript"
                ]
              ],
              "status": 200,
              "status_text": ""
            }
          },
          "base_uri": "https://localhost:8080/",
          "height": 71
        }
      },
      "source": [
        "from google.colab import files\n",
        "uploaded = files.upload()"
      ],
      "execution_count": 2,
      "outputs": [
        {
          "output_type": "display_data",
          "data": {
            "text/html": [
              "\n",
              "     <input type=\"file\" id=\"files-980558e9-43d4-4ee0-b3d4-1be10135cd4d\" name=\"files[]\" multiple disabled />\n",
              "     <output id=\"result-980558e9-43d4-4ee0-b3d4-1be10135cd4d\">\n",
              "      Upload widget is only available when the cell has been executed in the\n",
              "      current browser session. Please rerun this cell to enable.\n",
              "      </output>\n",
              "      <script src=\"/nbextensions/google.colab/files.js\"></script> "
            ],
            "text/plain": [
              "<IPython.core.display.HTML object>"
            ]
          },
          "metadata": {
            "tags": []
          }
        },
        {
          "output_type": "stream",
          "text": [
            "Saving Butai_pardavimui.csv to Butai_pardavimui.csv\n"
          ],
          "name": "stdout"
        }
      ]
    },
    {
      "cell_type": "code",
      "metadata": {
        "id": "XnFSJAWtYAB-",
        "colab_type": "code",
        "outputId": "726d834a-c690-49bc-9f62-7b5552f37b85",
        "colab": {
          "base_uri": "https://localhost:8080/",
          "height": 419
        }
      },
      "source": [
        "data_p=pd.read_csv('Butai_pardavimui.csv', index_col='Unnamed: 0')\n",
        "df_p=pd.DataFrame(data_p)\n",
        "df_p=df_p.drop(['Kvadrato kaina'], axis=1)\n",
        "df_p\n",
        "\n",
        "#Kadangi butų skelbimuose yra butū bendrabučių tipuose ar skelbimų kurie yra uždeti kaip už nuomos kainą, \n",
        "# išmetame butus, kurių kaina yra žemesnė nei 10k.\n"
      ],
      "execution_count": 3,
      "outputs": [
        {
          "output_type": "execute_result",
          "data": {
            "text/html": [
              "<div>\n",
              "<style scoped>\n",
              "    .dataframe tbody tr th:only-of-type {\n",
              "        vertical-align: middle;\n",
              "    }\n",
              "\n",
              "    .dataframe tbody tr th {\n",
              "        vertical-align: top;\n",
              "    }\n",
              "\n",
              "    .dataframe thead th {\n",
              "        text-align: right;\n",
              "    }\n",
              "</style>\n",
              "<table border=\"1\" class=\"dataframe\">\n",
              "  <thead>\n",
              "    <tr style=\"text-align: right;\">\n",
              "      <th></th>\n",
              "      <th>Rajonas</th>\n",
              "      <th>Gatve</th>\n",
              "      <th>Kaina</th>\n",
              "      <th>Kambariai</th>\n",
              "      <th>Plotas</th>\n",
              "      <th>Aukstas</th>\n",
              "      <th>Is viso aukstu</th>\n",
              "    </tr>\n",
              "  </thead>\n",
              "  <tbody>\n",
              "    <tr>\n",
              "      <th>0</th>\n",
              "      <td>Lazdynėliai</td>\n",
              "      <td>Bukčių g.</td>\n",
              "      <td>69070</td>\n",
              "      <td>2</td>\n",
              "      <td>40.46</td>\n",
              "      <td>2</td>\n",
              "      <td>5</td>\n",
              "    </tr>\n",
              "    <tr>\n",
              "      <th>1</th>\n",
              "      <td>Pašilaičiai</td>\n",
              "      <td>Budiniškių g.</td>\n",
              "      <td>74200</td>\n",
              "      <td>2</td>\n",
              "      <td>46.41</td>\n",
              "      <td>1</td>\n",
              "      <td>5</td>\n",
              "    </tr>\n",
              "    <tr>\n",
              "      <th>2</th>\n",
              "      <td>Balsiai</td>\n",
              "      <td>Želmenų g.</td>\n",
              "      <td>99000</td>\n",
              "      <td>4</td>\n",
              "      <td>94.00</td>\n",
              "      <td>1</td>\n",
              "      <td>1</td>\n",
              "    </tr>\n",
              "    <tr>\n",
              "      <th>3</th>\n",
              "      <td>Bajorai</td>\n",
              "      <td>Bajorų kel.</td>\n",
              "      <td>108800</td>\n",
              "      <td>4</td>\n",
              "      <td>69.51</td>\n",
              "      <td>2</td>\n",
              "      <td>6</td>\n",
              "    </tr>\n",
              "    <tr>\n",
              "      <th>4</th>\n",
              "      <td>Antakalnis</td>\n",
              "      <td>Vytauto Žalakevičiaus g.</td>\n",
              "      <td>155000</td>\n",
              "      <td>2</td>\n",
              "      <td>63.11</td>\n",
              "      <td>3</td>\n",
              "      <td>7</td>\n",
              "    </tr>\n",
              "    <tr>\n",
              "      <th>...</th>\n",
              "      <td>...</td>\n",
              "      <td>...</td>\n",
              "      <td>...</td>\n",
              "      <td>...</td>\n",
              "      <td>...</td>\n",
              "      <td>...</td>\n",
              "      <td>...</td>\n",
              "    </tr>\n",
              "    <tr>\n",
              "      <th>3199</th>\n",
              "      <td>Naujamiestis</td>\n",
              "      <td>Savanorių pr.</td>\n",
              "      <td>57000</td>\n",
              "      <td>3</td>\n",
              "      <td>56.82</td>\n",
              "      <td>2</td>\n",
              "      <td>5</td>\n",
              "    </tr>\n",
              "    <tr>\n",
              "      <th>3200</th>\n",
              "      <td>Senamiestis</td>\n",
              "      <td>Gaono g.</td>\n",
              "      <td>304000</td>\n",
              "      <td>2</td>\n",
              "      <td>115.72</td>\n",
              "      <td>2</td>\n",
              "      <td>3</td>\n",
              "    </tr>\n",
              "    <tr>\n",
              "      <th>3201</th>\n",
              "      <td>Naujininkai</td>\n",
              "      <td>Naugarduko g.</td>\n",
              "      <td>15308</td>\n",
              "      <td>1</td>\n",
              "      <td>25.89</td>\n",
              "      <td>1</td>\n",
              "      <td>1</td>\n",
              "    </tr>\n",
              "    <tr>\n",
              "      <th>3202</th>\n",
              "      <td>Fabijoniškės</td>\n",
              "      <td>S. Stanevičiaus g.</td>\n",
              "      <td>47787</td>\n",
              "      <td>3</td>\n",
              "      <td>67.00</td>\n",
              "      <td>5</td>\n",
              "      <td>5</td>\n",
              "    </tr>\n",
              "    <tr>\n",
              "      <th>3203</th>\n",
              "      <td>Žvėrynas</td>\n",
              "      <td>Birutės g.</td>\n",
              "      <td>193000</td>\n",
              "      <td>2</td>\n",
              "      <td>69.90</td>\n",
              "      <td>1</td>\n",
              "      <td>2</td>\n",
              "    </tr>\n",
              "  </tbody>\n",
              "</table>\n",
              "<p>3204 rows × 7 columns</p>\n",
              "</div>"
            ],
            "text/plain": [
              "           Rajonas                     Gatve  ...  Aukstas  Is viso aukstu\n",
              "0      Lazdynėliai                 Bukčių g.  ...        2               5\n",
              "1      Pašilaičiai             Budiniškių g.  ...        1               5\n",
              "2          Balsiai                Želmenų g.  ...        1               1\n",
              "3          Bajorai               Bajorų kel.  ...        2               6\n",
              "4       Antakalnis  Vytauto Žalakevičiaus g.  ...        3               7\n",
              "...            ...                       ...  ...      ...             ...\n",
              "3199  Naujamiestis             Savanorių pr.  ...        2               5\n",
              "3200   Senamiestis                  Gaono g.  ...        2               3\n",
              "3201   Naujininkai             Naugarduko g.  ...        1               1\n",
              "3202  Fabijoniškės        S. Stanevičiaus g.  ...        5               5\n",
              "3203      Žvėrynas                Birutės g.  ...        1               2\n",
              "\n",
              "[3204 rows x 7 columns]"
            ]
          },
          "metadata": {
            "tags": []
          },
          "execution_count": 3
        }
      ]
    },
    {
      "cell_type": "code",
      "metadata": {
        "id": "53c7FEz_YFQt",
        "colab_type": "code",
        "outputId": "2bc8d8f2-d1d5-483d-a7a6-a5cd50ef9c26",
        "colab": {
          "base_uri": "https://localhost:8080/",
          "height": 307
        }
      },
      "source": [
        "sns.distplot(df_p['Kaina'])"
      ],
      "execution_count": 4,
      "outputs": [
        {
          "output_type": "execute_result",
          "data": {
            "text/plain": [
              "<matplotlib.axes._subplots.AxesSubplot at 0x7ff16bc0fdd8>"
            ]
          },
          "metadata": {
            "tags": []
          },
          "execution_count": 4
        },
        {
          "output_type": "display_data",
          "data": {
            "image/png": "[encoded data removed]",
            "text/plain": [
              "<Figure size 432x288 with 1 Axes>"
            ]
          },
          "metadata": {
            "tags": []
          }
        }
      ]
    },
    {
      "cell_type": "code",
      "metadata": {
        "id": "5E8CmpOVYTyk",
        "colab_type": "code",
        "outputId": "27657112-1560-4806-b1ae-06db9c88776e",
        "colab": {
          "base_uri": "https://localhost:8080/",
          "height": 419
        }
      },
      "source": [
        "df_p=df_p.loc[df_p['Kaina']<350000]\n",
        "df_p=df_p.loc[df_p['Kaina']>15000]\n",
        "df_p"
      ],
      "execution_count": 5,
      "outputs": [
        {
          "output_type": "execute_result",
          "data": {
            "text/html": [
              "<div>\n",
              "<style scoped>\n",
              "    .dataframe tbody tr th:only-of-type {\n",
              "        vertical-align: middle;\n",
              "    }\n",
              "\n",
              "    .dataframe tbody tr th {\n",
              "        vertical-align: top;\n",
              "    }\n",
              "\n",
              "    .dataframe thead th {\n",
              "        text-align: right;\n",
              "    }\n",
              "</style>\n",
              "<table border=\"1\" class=\"dataframe\">\n",
              "  <thead>\n",
              "    <tr style=\"text-align: right;\">\n",
              "      <th></th>\n",
              "      <th>Rajonas</th>\n",
              "      <th>Gatve</th>\n",
              "      <th>Kaina</th>\n",
              "      <th>Kambariai</th>\n",
              "      <th>Plotas</th>\n",
              "      <th>Aukstas</th>\n",
              "      <th>Is viso aukstu</th>\n",
              "    </tr>\n",
              "  </thead>\n",
              "  <tbody>\n",
              "    <tr>\n",
              "      <th>0</th>\n",
              "      <td>Lazdynėliai</td>\n",
              "      <td>Bukčių g.</td>\n",
              "      <td>69070</td>\n",
              "      <td>2</td>\n",
              "      <td>40.46</td>\n",
              "      <td>2</td>\n",
              "      <td>5</td>\n",
              "    </tr>\n",
              "    <tr>\n",
              "      <th>1</th>\n",
              "      <td>Pašilaičiai</td>\n",
              "      <td>Budiniškių g.</td>\n",
              "      <td>74200</td>\n",
              "      <td>2</td>\n",
              "      <td>46.41</td>\n",
              "      <td>1</td>\n",
              "      <td>5</td>\n",
              "    </tr>\n",
              "    <tr>\n",
              "      <th>2</th>\n",
              "      <td>Balsiai</td>\n",
              "      <td>Želmenų g.</td>\n",
              "      <td>99000</td>\n",
              "      <td>4</td>\n",
              "      <td>94.00</td>\n",
              "      <td>1</td>\n",
              "      <td>1</td>\n",
              "    </tr>\n",
              "    <tr>\n",
              "      <th>3</th>\n",
              "      <td>Bajorai</td>\n",
              "      <td>Bajorų kel.</td>\n",
              "      <td>108800</td>\n",
              "      <td>4</td>\n",
              "      <td>69.51</td>\n",
              "      <td>2</td>\n",
              "      <td>6</td>\n",
              "    </tr>\n",
              "    <tr>\n",
              "      <th>4</th>\n",
              "      <td>Antakalnis</td>\n",
              "      <td>Vytauto Žalakevičiaus g.</td>\n",
              "      <td>155000</td>\n",
              "      <td>2</td>\n",
              "      <td>63.11</td>\n",
              "      <td>3</td>\n",
              "      <td>7</td>\n",
              "    </tr>\n",
              "    <tr>\n",
              "      <th>...</th>\n",
              "      <td>...</td>\n",
              "      <td>...</td>\n",
              "      <td>...</td>\n",
              "      <td>...</td>\n",
              "      <td>...</td>\n",
              "      <td>...</td>\n",
              "      <td>...</td>\n",
              "    </tr>\n",
              "    <tr>\n",
              "      <th>3199</th>\n",
              "      <td>Naujamiestis</td>\n",
              "      <td>Savanorių pr.</td>\n",
              "      <td>57000</td>\n",
              "      <td>3</td>\n",
              "      <td>56.82</td>\n",
              "      <td>2</td>\n",
              "      <td>5</td>\n",
              "    </tr>\n",
              "    <tr>\n",
              "      <th>3200</th>\n",
              "      <td>Senamiestis</td>\n",
              "      <td>Gaono g.</td>\n",
              "      <td>304000</td>\n",
              "      <td>2</td>\n",
              "      <td>115.72</td>\n",
              "      <td>2</td>\n",
              "      <td>3</td>\n",
              "    </tr>\n",
              "    <tr>\n",
              "      <th>3201</th>\n",
              "      <td>Naujininkai</td>\n",
              "      <td>Naugarduko g.</td>\n",
              "      <td>15308</td>\n",
              "      <td>1</td>\n",
              "      <td>25.89</td>\n",
              "      <td>1</td>\n",
              "      <td>1</td>\n",
              "    </tr>\n",
              "    <tr>\n",
              "      <th>3202</th>\n",
              "      <td>Fabijoniškės</td>\n",
              "      <td>S. Stanevičiaus g.</td>\n",
              "      <td>47787</td>\n",
              "      <td>3</td>\n",
              "      <td>67.00</td>\n",
              "      <td>5</td>\n",
              "      <td>5</td>\n",
              "    </tr>\n",
              "    <tr>\n",
              "      <th>3203</th>\n",
              "      <td>Žvėrynas</td>\n",
              "      <td>Birutės g.</td>\n",
              "      <td>193000</td>\n",
              "      <td>2</td>\n",
              "      <td>69.90</td>\n",
              "      <td>1</td>\n",
              "      <td>2</td>\n",
              "    </tr>\n",
              "  </tbody>\n",
              "</table>\n",
              "<p>3002 rows × 7 columns</p>\n",
              "</div>"
            ],
            "text/plain": [
              "           Rajonas                     Gatve  ...  Aukstas  Is viso aukstu\n",
              "0      Lazdynėliai                 Bukčių g.  ...        2               5\n",
              "1      Pašilaičiai             Budiniškių g.  ...        1               5\n",
              "2          Balsiai                Želmenų g.  ...        1               1\n",
              "3          Bajorai               Bajorų kel.  ...        2               6\n",
              "4       Antakalnis  Vytauto Žalakevičiaus g.  ...        3               7\n",
              "...            ...                       ...  ...      ...             ...\n",
              "3199  Naujamiestis             Savanorių pr.  ...        2               5\n",
              "3200   Senamiestis                  Gaono g.  ...        2               3\n",
              "3201   Naujininkai             Naugarduko g.  ...        1               1\n",
              "3202  Fabijoniškės        S. Stanevičiaus g.  ...        5               5\n",
              "3203      Žvėrynas                Birutės g.  ...        1               2\n",
              "\n",
              "[3002 rows x 7 columns]"
            ]
          },
          "metadata": {
            "tags": []
          },
          "execution_count": 5
        }
      ]
    },
    {
      "cell_type": "code",
      "metadata": {
        "id": "lo76W8oPYb_D",
        "colab_type": "code",
        "outputId": "78215853-d85f-40c1-b8aa-727cff2136bd",
        "colab": {
          "base_uri": "https://localhost:8080/",
          "height": 307
        }
      },
      "source": [
        "sns.distplot(df_p['Kaina'])"
      ],
      "execution_count": 6,
      "outputs": [
        {
          "output_type": "execute_result",
          "data": {
            "text/plain": [
              "<matplotlib.axes._subplots.AxesSubplot at 0x7ff16b6449b0>"
            ]
          },
          "metadata": {
            "tags": []
          },
          "execution_count": 6
        },
        {
          "output_type": "display_data",
          "data": {
            "image/png": "[encoded data removed]",
            "text/plain": [
              "<Figure size 432x288 with 1 Axes>"
            ]
          },
          "metadata": {
            "tags": []
          }
        }
      ]
    },
    {
      "cell_type": "code",
      "metadata": {
        "id": "-LhsHvxfYtFJ",
        "colab_type": "code",
        "outputId": "efcacb8e-7859-43a4-e0e0-417b38069b63",
        "colab": {
          "base_uri": "https://localhost:8080/",
          "height": 419
        }
      },
      "source": [
        "mean = df_p['Kaina'].mean()\n",
        "std = df_p['Kaina'].std()\n",
        "df_p = df_p.loc[(mean - 3*std <= df_p['Kaina']) & (df_p['Kaina'] <= mean + 3*std)]\n",
        "df_p"
      ],
      "execution_count": 7,
      "outputs": [
        {
          "output_type": "execute_result",
          "data": {
            "text/html": [
              "<div>\n",
              "<style scoped>\n",
              "    .dataframe tbody tr th:only-of-type {\n",
              "        vertical-align: middle;\n",
              "    }\n",
              "\n",
              "    .dataframe tbody tr th {\n",
              "        vertical-align: top;\n",
              "    }\n",
              "\n",
              "    .dataframe thead th {\n",
              "        text-align: right;\n",
              "    }\n",
              "</style>\n",
              "<table border=\"1\" class=\"dataframe\">\n",
              "  <thead>\n",
              "    <tr style=\"text-align: right;\">\n",
              "      <th></th>\n",
              "      <th>Rajonas</th>\n",
              "      <th>Gatve</th>\n",
              "      <th>Kaina</th>\n",
              "      <th>Kambariai</th>\n",
              "      <th>Plotas</th>\n",
              "      <th>Aukstas</th>\n",
              "      <th>Is viso aukstu</th>\n",
              "    </tr>\n",
              "  </thead>\n",
              "  <tbody>\n",
              "    <tr>\n",
              "      <th>0</th>\n",
              "      <td>Lazdynėliai</td>\n",
              "      <td>Bukčių g.</td>\n",
              "      <td>69070</td>\n",
              "      <td>2</td>\n",
              "      <td>40.46</td>\n",
              "      <td>2</td>\n",
              "      <td>5</td>\n",
              "    </tr>\n",
              "    <tr>\n",
              "      <th>1</th>\n",
              "      <td>Pašilaičiai</td>\n",
              "      <td>Budiniškių g.</td>\n",
              "      <td>74200</td>\n",
              "      <td>2</td>\n",
              "      <td>46.41</td>\n",
              "      <td>1</td>\n",
              "      <td>5</td>\n",
              "    </tr>\n",
              "    <tr>\n",
              "      <th>2</th>\n",
              "      <td>Balsiai</td>\n",
              "      <td>Želmenų g.</td>\n",
              "      <td>99000</td>\n",
              "      <td>4</td>\n",
              "      <td>94.00</td>\n",
              "      <td>1</td>\n",
              "      <td>1</td>\n",
              "    </tr>\n",
              "    <tr>\n",
              "      <th>3</th>\n",
              "      <td>Bajorai</td>\n",
              "      <td>Bajorų kel.</td>\n",
              "      <td>108800</td>\n",
              "      <td>4</td>\n",
              "      <td>69.51</td>\n",
              "      <td>2</td>\n",
              "      <td>6</td>\n",
              "    </tr>\n",
              "    <tr>\n",
              "      <th>4</th>\n",
              "      <td>Antakalnis</td>\n",
              "      <td>Vytauto Žalakevičiaus g.</td>\n",
              "      <td>155000</td>\n",
              "      <td>2</td>\n",
              "      <td>63.11</td>\n",
              "      <td>3</td>\n",
              "      <td>7</td>\n",
              "    </tr>\n",
              "    <tr>\n",
              "      <th>...</th>\n",
              "      <td>...</td>\n",
              "      <td>...</td>\n",
              "      <td>...</td>\n",
              "      <td>...</td>\n",
              "      <td>...</td>\n",
              "      <td>...</td>\n",
              "      <td>...</td>\n",
              "    </tr>\n",
              "    <tr>\n",
              "      <th>3199</th>\n",
              "      <td>Naujamiestis</td>\n",
              "      <td>Savanorių pr.</td>\n",
              "      <td>57000</td>\n",
              "      <td>3</td>\n",
              "      <td>56.82</td>\n",
              "      <td>2</td>\n",
              "      <td>5</td>\n",
              "    </tr>\n",
              "    <tr>\n",
              "      <th>3200</th>\n",
              "      <td>Senamiestis</td>\n",
              "      <td>Gaono g.</td>\n",
              "      <td>304000</td>\n",
              "      <td>2</td>\n",
              "      <td>115.72</td>\n",
              "      <td>2</td>\n",
              "      <td>3</td>\n",
              "    </tr>\n",
              "    <tr>\n",
              "      <th>3201</th>\n",
              "      <td>Naujininkai</td>\n",
              "      <td>Naugarduko g.</td>\n",
              "      <td>15308</td>\n",
              "      <td>1</td>\n",
              "      <td>25.89</td>\n",
              "      <td>1</td>\n",
              "      <td>1</td>\n",
              "    </tr>\n",
              "    <tr>\n",
              "      <th>3202</th>\n",
              "      <td>Fabijoniškės</td>\n",
              "      <td>S. Stanevičiaus g.</td>\n",
              "      <td>47787</td>\n",
              "      <td>3</td>\n",
              "      <td>67.00</td>\n",
              "      <td>5</td>\n",
              "      <td>5</td>\n",
              "    </tr>\n",
              "    <tr>\n",
              "      <th>3203</th>\n",
              "      <td>Žvėrynas</td>\n",
              "      <td>Birutės g.</td>\n",
              "      <td>193000</td>\n",
              "      <td>2</td>\n",
              "      <td>69.90</td>\n",
              "      <td>1</td>\n",
              "      <td>2</td>\n",
              "    </tr>\n",
              "  </tbody>\n",
              "</table>\n",
              "<p>2965 rows × 7 columns</p>\n",
              "</div>"
            ],
            "text/plain": [
              "           Rajonas                     Gatve  ...  Aukstas  Is viso aukstu\n",
              "0      Lazdynėliai                 Bukčių g.  ...        2               5\n",
              "1      Pašilaičiai             Budiniškių g.  ...        1               5\n",
              "2          Balsiai                Želmenų g.  ...        1               1\n",
              "3          Bajorai               Bajorų kel.  ...        2               6\n",
              "4       Antakalnis  Vytauto Žalakevičiaus g.  ...        3               7\n",
              "...            ...                       ...  ...      ...             ...\n",
              "3199  Naujamiestis             Savanorių pr.  ...        2               5\n",
              "3200   Senamiestis                  Gaono g.  ...        2               3\n",
              "3201   Naujininkai             Naugarduko g.  ...        1               1\n",
              "3202  Fabijoniškės        S. Stanevičiaus g.  ...        5               5\n",
              "3203      Žvėrynas                Birutės g.  ...        1               2\n",
              "\n",
              "[2965 rows x 7 columns]"
            ]
          },
          "metadata": {
            "tags": []
          },
          "execution_count": 7
        }
      ]
    },
    {
      "cell_type": "code",
      "metadata": {
        "id": "-T1KxOW-YwOX",
        "colab_type": "code",
        "outputId": "bd887cae-bc7e-480a-bf86-e7dea8229e05",
        "colab": {
          "base_uri": "https://localhost:8080/",
          "height": 307
        }
      },
      "source": [
        "sns.distplot(df_p['Kaina'])"
      ],
      "execution_count": 0,
      "outputs": [
        {
          "output_type": "execute_result",
          "data": {
            "text/plain": [
              "<matplotlib.axes._subplots.AxesSubplot at 0x7f2c08e885c0>"
            ]
          },
          "metadata": {
            "tags": []
          },
          "execution_count": 69
        },
        {
          "output_type": "display_data",
          "data": {
            "image/png": "[encoded data removed]",
            "text/plain": [
              "<Figure size 432x288 with 1 Axes>"
            ]
          },
          "metadata": {
            "tags": []
          }
        }
      ]
    },
    {
      "cell_type": "code",
      "metadata": {
        "id": "_2ymtcBGZlF0",
        "colab_type": "code",
        "colab": {}
      },
      "source": [
        "from sklearn.metrics import mean_absolute_error\n",
        "from sklearn.metrics import median_absolute_error\n",
        "from sklearn.metrics import r2_score\n",
        "from sklearn.metrics import mean_squared_error"
      ],
      "execution_count": 0,
      "outputs": []
    },
    {
      "cell_type": "code",
      "metadata": {
        "id": "IZGP5RO6kkBj",
        "colab_type": "code",
        "colab": {}
      },
      "source": [
        "df_p=pd.get_dummies(df_p, columns=['Rajonas'])"
      ],
      "execution_count": 0,
      "outputs": []
    },
    {
      "cell_type": "code",
      "metadata": {
        "id": "W2HbQA3-zRC5",
        "colab_type": "code",
        "colab": {}
      },
      "source": [
        "x=df_p.drop(['Kaina','Gatve'], axis=1)\n",
        "y=df_p['Kaina']\n",
        "x_train, x_test, y_train, y_test = train_test_split(x,y, random_state=33)"
      ],
      "execution_count": 0,
      "outputs": []
    },
    {
      "cell_type": "code",
      "metadata": {
        "id": "poi3zSvYlNd-",
        "colab_type": "code",
        "outputId": "80ce52c5-6dcc-4972-e71b-4102922c0184",
        "colab": {
          "base_uri": "https://localhost:8080/",
          "height": 51
        }
      },
      "source": [
        "from sklearn.linear_model import LinearRegression\n",
        "from sklearn.metrics import mean_squared_error\n",
        "from sklearn.model_selection import cross_val_score\n",
        "lin_reg = LinearRegression()\n",
        "\n",
        "scores = cross_val_score(lin_reg, x_train, y_train,\n",
        "                        scoring=\"neg_mean_squared_error\", cv=10)\n",
        "\n",
        "# find root mean squared error, scores is an array of negative numbers\n",
        "rmse_scores = np.sqrt(-scores)\n",
        "\n",
        "print(\"Mean:\\t\\t \", rmse_scores.mean(), \"\\nStandard Deviation:\", rmse_scores.std())"
      ],
      "execution_count": 11,
      "outputs": [
        {
          "output_type": "stream",
          "text": [
            "Mean:\t\t  35548.22257785719 \n",
            "Standard Deviation: 3597.85749757309\n"
          ],
          "name": "stdout"
        }
      ]
    },
    {
      "cell_type": "code",
      "metadata": {
        "id": "28rjHI12lRMh",
        "colab_type": "code",
        "outputId": "5d9421ea-17c2-492c-e2d8-3019ab0d4fc8",
        "colab": {
          "base_uri": "https://localhost:8080/",
          "height": 51
        }
      },
      "source": [
        "from sklearn.tree import DecisionTreeRegressor\n",
        "from sklearn.model_selection import cross_val_score\n",
        "tree_reg = DecisionTreeRegressor()\n",
        "scores = cross_val_score(tree_reg, x_train, y_train,\n",
        "                        scoring=\"neg_mean_squared_error\", cv=10)\n",
        "\n",
        "# find root mean squared error\n",
        "rmse_scores = np.sqrt(-scores)\n",
        "\n",
        "print(\"Mean:\\t\\t \", rmse_scores.mean(), \"\\nStandard Deviation:\", rmse_scores.std())"
      ],
      "execution_count": 12,
      "outputs": [
        {
          "output_type": "stream",
          "text": [
            "Mean:\t\t  39847.27700365931 \n",
            "Standard Deviation: 2763.7738911935153\n"
          ],
          "name": "stdout"
        }
      ]
    },
    {
      "cell_type": "code",
      "metadata": {
        "id": "UcXv4USElUWM",
        "colab_type": "code",
        "outputId": "75a02f70-c5d0-4ae1-a056-405cbd9cabc7",
        "colab": {
          "base_uri": "https://localhost:8080/",
          "height": 51
        }
      },
      "source": [
        "from sklearn.ensemble import RandomForestRegressor\n",
        "forest_reg = RandomForestRegressor()\n",
        "forest_reg.fit(x_train, y_train)\n",
        "RandomForestRegressor(bootstrap=True, criterion='mse', max_depth=None,\n",
        "           max_features='auto', max_leaf_nodes=None,\n",
        "           min_impurity_decrease=0.0, min_impurity_split=None,\n",
        "           min_samples_leaf=1, min_samples_split=2,\n",
        "           min_weight_fraction_leaf=0.0, n_estimators=10, n_jobs=None,\n",
        "           oob_score=False, random_state=None, verbose=0, warm_start=False)\n",
        "forest_scores = cross_val_score(forest_reg, x_train, y_train,\n",
        "                               scoring=\"neg_mean_squared_error\", cv=10)\n",
        "forest_rmse_scores = np.sqrt(-forest_scores)\n",
        "print(\"Mean:\\t\\t \", forest_rmse_scores.mean(), \"\\nStandard Deviation:\", forest_rmse_scores.std())"
      ],
      "execution_count": 13,
      "outputs": [
        {
          "output_type": "stream",
          "text": [
            "Mean:\t\t  30969.52145382703 \n",
            "Standard Deviation: 2720.9962234393747\n"
          ],
          "name": "stdout"
        }
      ]
    },
    {
      "cell_type": "code",
      "metadata": {
        "id": "8DC3YxPolbOU",
        "colab_type": "code",
        "outputId": "b249c7e1-761c-48cd-dff8-78665872e5f4",
        "colab": {
          "base_uri": "https://localhost:8080/",
          "height": 374
        }
      },
      "source": [
        "from sklearn.model_selection import GridSearchCV\n",
        "param_grid = [\n",
        "    {'n_estimators': [3, 10, 30], 'max_features': [2, 4, 6, 8]},\n",
        "    {'bootstrap': [False], 'n_estimators': [3, 10], 'max_features': [2, 3, 4]},\n",
        "  ]\n",
        "\n",
        "forest_reg = RandomForestRegressor()\n",
        "grid_search = GridSearchCV(forest_reg, param_grid, cv=5,\n",
        "                          scoring='neg_mean_squared_error')\n",
        "grid_search.fit(x_train, y_train)"
      ],
      "execution_count": 14,
      "outputs": [
        {
          "output_type": "execute_result",
          "data": {
            "text/plain": [
              "GridSearchCV(cv=5, error_score=nan,\n",
              "             estimator=RandomForestRegressor(bootstrap=True, ccp_alpha=0.0,\n",
              "                                             criterion='mse', max_depth=None,\n",
              "                                             max_features='auto',\n",
              "                                             max_leaf_nodes=None,\n",
              "                                             max_samples=None,\n",
              "                                             min_impurity_decrease=0.0,\n",
              "                                             min_impurity_split=None,\n",
              "                                             min_samples_leaf=1,\n",
              "                                             min_samples_split=2,\n",
              "                                             min_weight_fraction_leaf=0.0,\n",
              "                                             n_estimators=100, n_jobs=None,\n",
              "                                             oob_score=False, random_state=None,\n",
              "                                             verbose=0, warm_start=False),\n",
              "             iid='deprecated', n_jobs=None,\n",
              "             param_grid=[{'max_features': [2, 4, 6, 8],\n",
              "                          'n_estimators': [3, 10, 30]},\n",
              "                         {'bootstrap': [False], 'max_features': [2, 3, 4],\n",
              "                          'n_estimators': [3, 10]}],\n",
              "             pre_dispatch='2*n_jobs', refit=True, return_train_score=False,\n",
              "             scoring='neg_mean_squared_error', verbose=0)"
            ]
          },
          "metadata": {
            "tags": []
          },
          "execution_count": 14
        }
      ]
    },
    {
      "cell_type": "code",
      "metadata": {
        "id": "R-lQUa0SleMd",
        "colab_type": "code",
        "outputId": "98190c55-71cf-44e1-8a44-e7f17692b19c",
        "colab": {
          "base_uri": "https://localhost:8080/",
          "height": 357
        }
      },
      "source": [
        "cvres = grid_search.cv_results_\n",
        "print(\"{}\\t\\t {}\\n\".format('Mean Score','Parameters'))\n",
        "for mean_score, params in zip(cvres[\"mean_test_score\"], cvres[\"params\"]):\n",
        "    x = np.sqrt(-mean_score)\n",
        "    y = params\n",
        "    print(\"{:.2f}\\t {}\".format(x, y))"
      ],
      "execution_count": 15,
      "outputs": [
        {
          "output_type": "stream",
          "text": [
            "Mean Score\t\t Parameters\n",
            "\n",
            "36983.95\t {'max_features': 2, 'n_estimators': 3}\n",
            "32340.44\t {'max_features': 2, 'n_estimators': 10}\n",
            "31195.52\t {'max_features': 2, 'n_estimators': 30}\n",
            "34909.05\t {'max_features': 4, 'n_estimators': 3}\n",
            "32042.04\t {'max_features': 4, 'n_estimators': 10}\n",
            "30607.53\t {'max_features': 4, 'n_estimators': 30}\n",
            "35880.11\t {'max_features': 6, 'n_estimators': 3}\n",
            "31187.09\t {'max_features': 6, 'n_estimators': 10}\n",
            "30582.71\t {'max_features': 6, 'n_estimators': 30}\n",
            "35230.80\t {'max_features': 8, 'n_estimators': 3}\n",
            "31618.66\t {'max_features': 8, 'n_estimators': 10}\n",
            "30520.69\t {'max_features': 8, 'n_estimators': 30}\n",
            "35911.53\t {'bootstrap': False, 'max_features': 2, 'n_estimators': 3}\n",
            "32087.17\t {'bootstrap': False, 'max_features': 2, 'n_estimators': 10}\n",
            "35707.76\t {'bootstrap': False, 'max_features': 3, 'n_estimators': 3}\n",
            "32507.68\t {'bootstrap': False, 'max_features': 3, 'n_estimators': 10}\n",
            "34865.22\t {'bootstrap': False, 'max_features': 4, 'n_estimators': 3}\n",
            "32300.35\t {'bootstrap': False, 'max_features': 4, 'n_estimators': 10}\n"
          ],
          "name": "stdout"
        }
      ]
    },
    {
      "cell_type": "code",
      "metadata": {
        "id": "FasxreuKlhGy",
        "colab_type": "code",
        "outputId": "7bf71e87-5b3c-4642-a928-74435e17d1d9",
        "colab": {
          "base_uri": "https://localhost:8080/",
          "height": 398
        }
      },
      "source": [
        "model= grid_search.best_estimator_ # tinkamiausio modelio pasirinkimas: {'max_features': 8, 'n_estimators': 30}\n",
        "y_pred = model.predict(x_test)\n",
        "# find mean square error\n",
        "final_mse = mean_squared_error(y_test, y_pred)\n",
        "# find root mean square error\n",
        "final_rmse = np.sqrt(final_mse)\n",
        "\n",
        "print('Model details:')\n",
        "print('Accuracy of the model:', model.score(x_test,y_test))\n",
        "print('MAE: ', mean_absolute_error(y_test, y_pred))\n",
        "print('MedAE: ', median_absolute_error(y_test, y_pred))\n",
        "print('R^2: ', r2_score(y_test, y_pred))\n",
        "print('Mean Squared Error: ', mean_squared_error(y_test, y_pred))\n",
        "\n",
        "sns.scatterplot(y_test,y_pred)"
      ],
      "execution_count": 16,
      "outputs": [
        {
          "output_type": "stream",
          "text": [
            "Model details:\n",
            "Accuracy of the model: 0.7722389574689633\n",
            "MAE:  20149.520015972845\n",
            "MedAE:  12257.366666666669\n",
            "R^2:  0.7722389574689632\n",
            "Mean Squared Error:  962482165.1172004\n"
          ],
          "name": "stdout"
        },
        {
          "output_type": "execute_result",
          "data": {
            "text/plain": [
              "<matplotlib.axes._subplots.AxesSubplot at 0x7ff1670e9470>"
            ]
          },
          "metadata": {
            "tags": []
          },
          "execution_count": 16
        },
        {
          "output_type": "display_data",
          "data": {
            "image/png": "[encoded data removed]",
            "text/plain": [
              "<Figure size 432x288 with 1 Axes>"
            ]
          },
          "metadata": {
            "tags": []
          }
        }
      ]
    },
    {
      "cell_type": "code",
      "metadata": {
        "id": "RlAYovn7Z0y4",
        "colab_type": "code",
        "outputId": "4852e30b-c30c-4778-e785-6cbbda240459",
        "colab": {
          "base_uri": "https://localhost:8080/",
          "height": 34
        }
      },
      "source": [
        "from sklearn.externals import joblib\n",
        "joblib.dump(model, 'form_model.pkl')"
      ],
      "execution_count": 0,
      "outputs": [
        {
          "output_type": "execute_result",
          "data": {
            "text/plain": [
              "['model.pkl']"
            ]
          },
          "metadata": {
            "tags": []
          },
          "execution_count": 57
        }
      ]
    }
  ]
}