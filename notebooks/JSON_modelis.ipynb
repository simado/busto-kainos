{
  "nbformat": 4,
  "nbformat_minor": 0,
  "metadata": {
    "colab": {
      "name": "Namu Darbas.ipynb",
      "provenance": [],
      "collapsed_sections": [
        "uPtT_nX1qndz",
        "PaNQ97w13nQH",
        "t2Qlfsk4qzKQ",
        "XhvtrglA3TMp",
        "65uCHPe3DAh_",
        "RJ3aPpP_DoUX",
        "JYMuLQ2kIRb4"
      ]
    },
    "kernelspec": {
      "name": "python3",
      "display_name": "Python 3"
    }
  },
  "cells": [
    {
      "cell_type": "markdown",
      "metadata": {
        "id": "rg83FDqKogy_",
        "colab_type": "text"
      },
      "source": [
        "# Vilniaus nekilnojamojo turto (butų) analizė"
      ]
    },
    {
      "cell_type": "code",
      "metadata": {
        "id": "zoW063edZboQ",
        "colab_type": "code",
        "colab": {}
      },
      "source": [
        "import pandas as pd\n",
        "import numpy as np\n",
        "import seaborn as sns\n",
        "import matplotlib.pyplot as plt\n",
        "from sklearn.linear_model import LinearRegression\n",
        "from sklearn.model_selection import train_test_split\n",
        "from sklearn.metrics import mean_absolute_error\n",
        "import re"
      ],
      "execution_count": 0,
      "outputs": []
    },
    {
      "cell_type": "code",
      "metadata": {
        "id": "lm4I_HFWjtv6",
        "colab_type": "code",
        "outputId": "25605324-275e-4f14-883f-3990c6b8a1f1",
        "colab": {
          "resources": {
            "http://localhost:8080/nbextensions/google.colab/files.js": {
              "data": "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",
              "ok": true,
              "headers": [
                [
                  "content-type",
                  "application/javascript"
                ]
              ],
              "status": 200,
              "status_text": ""
            }
          },
          "base_uri": "https://localhost:8080/",
          "height": 139
        }
      },
      "source": [
        "from google.colab import files\n",
        "uploaded = files.upload()"
      ],
      "execution_count": 0,
      "outputs": [
        {
          "output_type": "display_data",
          "data": {
            "text/html": [
              "\n",
              "     <input type=\"file\" id=\"files-d7635220-75ef-4093-b835-f5add99fd344\" name=\"files[]\" multiple disabled />\n",
              "     <output id=\"result-d7635220-75ef-4093-b835-f5add99fd344\">\n",
              "      Upload widget is only available when the cell has been executed in the\n",
              "      current browser session. Please rerun this cell to enable.\n",
              "      </output>\n",
              "      <script src=\"/nbextensions/google.colab/files.js\"></script> "
            ],
            "text/plain": [
              "<IPython.core.display.HTML object>"
            ]
          },
          "metadata": {
            "tags": []
          }
        },
        {
          "output_type": "stream",
          "text": [
            "Saving Butai_pardavimui.csv to Butai_pardavimui.csv\n",
            "Saving vilniaus_butai.csv to vilniaus_butai.csv\n",
            "Saving zmones.csv to zmones.csv\n"
          ],
          "name": "stdout"
        }
      ]
    },
    {
      "cell_type": "markdown",
      "metadata": {
        "id": "uPtT_nX1qndz",
        "colab_type": "text"
      },
      "source": [
        "# 1. Duomenų rinkimas ir sutvarkymas"
      ]
    },
    {
      "cell_type": "markdown",
      "metadata": {
        "id": "PaNQ97w13nQH",
        "colab_type": "text"
      },
      "source": [
        "### Šiam tikslui pasirašiau scraper'į naudojant Python Request ir BeautifulSoup4 bibliotekas."
      ]
    },
    {
      "cell_type": "code",
      "metadata": {
        "id": "H-kpZcG-pmgx",
        "colab_type": "code",
        "colab": {}
      },
      "source": [
        "# Scraperis duomenims surinkti.\n",
        "scope = ['https://www.googleapis.com/auth/spreadsheets',\n",
        "         'https://www.googleapis.com/auth/drive']\n",
        "credentials = ServiceAccountCredentials.from_json_keyfile_name(\n",
        "    'python-test-42385dbbcd8b.json', scope)\n",
        "\n",
        "l_rajonas = []\n",
        "l_gatve = []\n",
        "l_kaina = []\n",
        "l_kvadratas = []\n",
        "l_kambariai = []\n",
        "l_plotas = []\n",
        "l_aukstas = []\n",
        "l_aukstu = []\n",
        "\n",
        "##########################################\n",
        "# Pirmas Puslapis parduodamu butu\n",
        "\n",
        "url = 'https://www.aruodas.lt/butai/vilniuje/'\n",
        "page = requests.get(url, allow_redirects=False)\n",
        "soup = bs(page.content, 'html.parser')\n",
        "elems = soup.find_all('tr', class_='list-row')\n",
        "for elem in elems:\n",
        "    try:\n",
        "        rajonas = elem.find(\n",
        "            'td', class_='list-adress').h3.get_text('/').split('/')[1]\n",
        "        gatve = elem.find(\n",
        "            'td', class_='list-adress').h3.get_text('/').split('/')[2]\n",
        "        l_rajonas.append(rajonas)\n",
        "        l_gatve.append(gatve)\n",
        "\n",
        "        kaina = elem.find(\n",
        "            'span', class_='list-item-price').text.strip().replace(' ', '')\n",
        "        kaina = re.sub(r'\\D', '', kaina)\n",
        "        l_kaina.append(kaina)\n",
        "\n",
        "        kvadratas = elem.find(\n",
        "            'span', class_='price-pm').text.strip().replace(' ', '')\n",
        "        kvadratas = re.sub(r'\\D', '', kvadratas)\n",
        "        l_kvadratas.append(kvadratas)\n",
        "\n",
        "        kambariai = elem.find('td', class_='list-RoomNum').text.strip()\n",
        "        l_kambariai.append(kambariai)\n",
        "\n",
        "        plotas = elem.find(\n",
        "            'td', class_='list-AreaOverall').text.strip()\n",
        "        l_plotas.append(plotas)\n",
        "\n",
        "        aukstai = elem.find(\n",
        "            'td', class_='list-Floors').text.strip().split('/')\n",
        "        aukstas = aukstai[0]\n",
        "        viso_aukstu = aukstai[1]\n",
        "        l_aukstas.append(aukstas)\n",
        "        l_aukstu.append(viso_aukstu)\n",
        "    except Exception:\n",
        "        None\n",
        "\n",
        "##########################################\n",
        "# Visi kiti puslapiai parduodamu butu\n",
        "\n",
        "i = 2\n",
        "while i >= 0:\n",
        "    url = 'https://www.aruodas.lt/butai/vilniuje/puslapis/'+str(i)+'/'\n",
        "    page = requests.get(url, allow_redirects=False)\n",
        "    soup = bs(page.content, 'html.parser')\n",
        "\n",
        "    if page.status_code == 200:\n",
        "        elems = soup.find_all('tr', class_='list-row')\n",
        "\n",
        "        for elem in elems:\n",
        "            try:\n",
        "                rajonas = elem.find(\n",
        "                    'td', class_='list-adress').h3.get_text('/').split('/')[1]\n",
        "                gatve = elem.find(\n",
        "                    'td', class_='list-adress').h3.get_text('/').split('/')[2]\n",
        "                l_rajonas.append(rajonas)\n",
        "                l_gatve.append(gatve)\n",
        "\n",
        "                kaina = elem.find(\n",
        "                    'span', class_='list-item-price').text.strip().replace(' ', '')\n",
        "                kaina = re.sub(r'\\D', '', kaina)\n",
        "                l_kaina.append(kaina)\n",
        "\n",
        "                kvadratas = elem.find(\n",
        "                    'span', class_='price-pm').text.strip().replace(' ', '')\n",
        "                kvadratas = re.sub(r'\\D', '', kvadratas)\n",
        "                l_kvadratas.append(kvadratas)\n",
        "\n",
        "                kambariai = elem.find('td', class_='list-RoomNum').text.strip()\n",
        "                l_kambariai.append(kambariai)\n",
        "\n",
        "                plotas = elem.find(\n",
        "                    'td', class_='list-AreaOverall').text.strip()\n",
        "                l_plotas.append(plotas)\n",
        "\n",
        "                aukstai = elem.find(\n",
        "                    'td', class_='list-Floors').text.strip().split('/')\n",
        "                aukstas = aukstai[0]\n",
        "                viso_aukstu = aukstai[1]\n",
        "                l_aukstas.append(aukstas)\n",
        "                l_aukstu.append(viso_aukstu)\n",
        "            except Exception:\n",
        "                None\n",
        "        i += 1\n",
        "    else:\n",
        "        break\n",
        "\n",
        "df = pandas.DataFrame(\n",
        "    {\n",
        "        'Rajonas': l_rajonas,\n",
        "        'Gatve': l_gatve,\n",
        "        'Kaina': l_kaina,\n",
        "        'Kvadrato kaina': l_kvadratas,\n",
        "        'Kambariai': l_kambariai,\n",
        "        'Plotas': l_plotas,\n",
        "        'Aukstas': l_aukstas,\n",
        "        'Is viso aukstu': l_aukstu\n",
        "    })\n",
        "\n",
        "spreadsheet_key = '1EVI7yxZf44T10eVcY1hrbBezykeUQjM_lpyev-Y6SrU'\n",
        "wks_name = 'Sheet 2'\n",
        "\n",
        "\n",
        "def job():\n",
        "    d2g.upload(df, spreadsheet_key, wks_name,\n",
        "               credentials=credentials, row_names=True)\n",
        "\n",
        "\n",
        "ln_rajonas = []\n",
        "ln_gatve = []\n",
        "ln_kaina = []\n",
        "ln_kvadratas = []\n",
        "ln_kambariai = []\n",
        "ln_plotas = []\n",
        "ln_aukstas = []\n",
        "ln_aukstu = []\n",
        "\n",
        "# job()"
      ],
      "execution_count": 0,
      "outputs": []
    },
    {
      "cell_type": "markdown",
      "metadata": {
        "id": "wBJ_ZYKwoc3E",
        "colab_type": "text"
      },
      "source": [
        "### Pirmoji lentelė kurią naudosiu yra nuscrapinti duomenys iš aruodas.lt internetinio puslapio. Duomenis sudaro parduodamo buto:\n",
        "\n",
        "\n",
        "*   Rajonas\n",
        "*   Gatvė\n",
        "*   Kaina\n",
        "*   Kambarių skaičius\n",
        "*   Buto plotas\n",
        "*   Kelintam aukšte yra butas\n",
        "*   Kiek iš viso yra butų aukšte\n"
      ]
    },
    {
      "cell_type": "code",
      "metadata": {
        "id": "VRb3Nb3_bbbr",
        "colab_type": "code",
        "outputId": "2e0dfd33-0cd2-4c43-9f71-61f404438cc9",
        "colab": {
          "base_uri": "https://localhost:8080/",
          "height": 419
        }
      },
      "source": [
        "# Pirmoji lemtele apie parduodamus butus Vilniuje\n",
        "data_p=pd.read_csv('Butai_pardavimui.csv', index_col='Unnamed: 0')\n",
        "df_p=pd.DataFrame(data_p)\n",
        "df_p=df_p.drop(['Kvadrato kaina'], axis=1)\n",
        "df_p\n",
        "\n",
        "#Kadangi butų skelbimuose yra butū bendrabučių tipuose ar skelbimų kurie yra uždeti kaip už nuomos kainą, \n",
        "# išmetame butus, kurių kaina yra žemesnė nei 10k.\n",
        "df_p=df_p.loc[df_p['Kaina']>10000]\n",
        "\n",
        "# Pasaliname isskirtis\n",
        "mean = df_p['Kaina'].mean()\n",
        "std = df_p['Kaina'].std()\n",
        "df_p = df_p.loc[(mean - 3*std <= df_p['Kaina']) & (df_p['Kaina'] <= mean + 3*std)]\n",
        "df_p"
      ],
      "execution_count": 0,
      "outputs": [
        {
          "output_type": "execute_result",
          "data": {
            "text/html": [
              "<div>\n",
              "<style scoped>\n",
              "    .dataframe tbody tr th:only-of-type {\n",
              "        vertical-align: middle;\n",
              "    }\n",
              "\n",
              "    .dataframe tbody tr th {\n",
              "        vertical-align: top;\n",
              "    }\n",
              "\n",
              "    .dataframe thead th {\n",
              "        text-align: right;\n",
              "    }\n",
              "</style>\n",
              "<table border=\"1\" class=\"dataframe\">\n",
              "  <thead>\n",
              "    <tr style=\"text-align: right;\">\n",
              "      <th></th>\n",
              "      <th>Rajonas</th>\n",
              "      <th>Gatve</th>\n",
              "      <th>Kaina</th>\n",
              "      <th>Kambariai</th>\n",
              "      <th>Plotas</th>\n",
              "      <th>Aukstas</th>\n",
              "      <th>Is viso aukstu</th>\n",
              "    </tr>\n",
              "  </thead>\n",
              "  <tbody>\n",
              "    <tr>\n",
              "      <th>0</th>\n",
              "      <td>Lazdynėliai</td>\n",
              "      <td>Bukčių g.</td>\n",
              "      <td>69070</td>\n",
              "      <td>2</td>\n",
              "      <td>40.46</td>\n",
              "      <td>2</td>\n",
              "      <td>5</td>\n",
              "    </tr>\n",
              "    <tr>\n",
              "      <th>1</th>\n",
              "      <td>Pašilaičiai</td>\n",
              "      <td>Budiniškių g.</td>\n",
              "      <td>74200</td>\n",
              "      <td>2</td>\n",
              "      <td>46.41</td>\n",
              "      <td>1</td>\n",
              "      <td>5</td>\n",
              "    </tr>\n",
              "    <tr>\n",
              "      <th>2</th>\n",
              "      <td>Balsiai</td>\n",
              "      <td>Želmenų g.</td>\n",
              "      <td>99000</td>\n",
              "      <td>4</td>\n",
              "      <td>94.00</td>\n",
              "      <td>1</td>\n",
              "      <td>1</td>\n",
              "    </tr>\n",
              "    <tr>\n",
              "      <th>3</th>\n",
              "      <td>Bajorai</td>\n",
              "      <td>Bajorų kel.</td>\n",
              "      <td>108800</td>\n",
              "      <td>4</td>\n",
              "      <td>69.51</td>\n",
              "      <td>2</td>\n",
              "      <td>6</td>\n",
              "    </tr>\n",
              "    <tr>\n",
              "      <th>4</th>\n",
              "      <td>Antakalnis</td>\n",
              "      <td>Vytauto Žalakevičiaus g.</td>\n",
              "      <td>155000</td>\n",
              "      <td>2</td>\n",
              "      <td>63.11</td>\n",
              "      <td>3</td>\n",
              "      <td>7</td>\n",
              "    </tr>\n",
              "    <tr>\n",
              "      <th>...</th>\n",
              "      <td>...</td>\n",
              "      <td>...</td>\n",
              "      <td>...</td>\n",
              "      <td>...</td>\n",
              "      <td>...</td>\n",
              "      <td>...</td>\n",
              "      <td>...</td>\n",
              "    </tr>\n",
              "    <tr>\n",
              "      <th>3199</th>\n",
              "      <td>Naujamiestis</td>\n",
              "      <td>Savanorių pr.</td>\n",
              "      <td>57000</td>\n",
              "      <td>3</td>\n",
              "      <td>56.82</td>\n",
              "      <td>2</td>\n",
              "      <td>5</td>\n",
              "    </tr>\n",
              "    <tr>\n",
              "      <th>3200</th>\n",
              "      <td>Senamiestis</td>\n",
              "      <td>Gaono g.</td>\n",
              "      <td>304000</td>\n",
              "      <td>2</td>\n",
              "      <td>115.72</td>\n",
              "      <td>2</td>\n",
              "      <td>3</td>\n",
              "    </tr>\n",
              "    <tr>\n",
              "      <th>3201</th>\n",
              "      <td>Naujininkai</td>\n",
              "      <td>Naugarduko g.</td>\n",
              "      <td>15308</td>\n",
              "      <td>1</td>\n",
              "      <td>25.89</td>\n",
              "      <td>1</td>\n",
              "      <td>1</td>\n",
              "    </tr>\n",
              "    <tr>\n",
              "      <th>3202</th>\n",
              "      <td>Fabijoniškės</td>\n",
              "      <td>S. Stanevičiaus g.</td>\n",
              "      <td>47787</td>\n",
              "      <td>3</td>\n",
              "      <td>67.00</td>\n",
              "      <td>5</td>\n",
              "      <td>5</td>\n",
              "    </tr>\n",
              "    <tr>\n",
              "      <th>3203</th>\n",
              "      <td>Žvėrynas</td>\n",
              "      <td>Birutės g.</td>\n",
              "      <td>193000</td>\n",
              "      <td>2</td>\n",
              "      <td>69.90</td>\n",
              "      <td>1</td>\n",
              "      <td>2</td>\n",
              "    </tr>\n",
              "  </tbody>\n",
              "</table>\n",
              "<p>3128 rows × 7 columns</p>\n",
              "</div>"
            ],
            "text/plain": [
              "           Rajonas                     Gatve  ...  Aukstas  Is viso aukstu\n",
              "0      Lazdynėliai                 Bukčių g.  ...        2               5\n",
              "1      Pašilaičiai             Budiniškių g.  ...        1               5\n",
              "2          Balsiai                Želmenų g.  ...        1               1\n",
              "3          Bajorai               Bajorų kel.  ...        2               6\n",
              "4       Antakalnis  Vytauto Žalakevičiaus g.  ...        3               7\n",
              "...            ...                       ...  ...      ...             ...\n",
              "3199  Naujamiestis             Savanorių pr.  ...        2               5\n",
              "3200   Senamiestis                  Gaono g.  ...        2               3\n",
              "3201   Naujininkai             Naugarduko g.  ...        1               1\n",
              "3202  Fabijoniškės        S. Stanevičiaus g.  ...        5               5\n",
              "3203      Žvėrynas                Birutės g.  ...        1               2\n",
              "\n",
              "[3128 rows x 7 columns]"
            ]
          },
          "metadata": {
            "tags": []
          },
          "execution_count": 4
        }
      ]
    },
    {
      "cell_type": "markdown",
      "metadata": {
        "id": "_pKhEq10p38f",
        "colab_type": "text"
      },
      "source": [
        "### Toliau prie esamos lentelės pridedu duomenis iš Vilnius Open Data informaciją apie visus registruotus butus Vilniuje iš: https://github.com/vilnius/apartment-buildings"
      ]
    },
    {
      "cell_type": "code",
      "metadata": {
        "id": "qQnudYr-bhVg",
        "colab_type": "code",
        "colab": {}
      },
      "source": [
        "# itraukiama namu data is Vilnius Open Data\n",
        "data_butai=pd.read_csv('vilniaus_butai.csv', sep=';', index_col='id')\n",
        "df_butai=pd.DataFrame(data_butai)\n",
        "\n",
        "#### DUOMENU PATIKRA ####\n",
        "\n",
        "#patikriname duomenis ir ka galime issimti:\n",
        "df_butai.isna().sum() # patikrina skaiciu kiek visoje lenteleje yra tusciu reiksmiu\n",
        "missing=df_butai.isna().mean() # patikriname kiek vidutuniskai truksta reiksmiu, jei >70 tokias reikmes galime istrinti\n",
        "missing[missing>0.7] #statistiskai galime ismesti duomenis kuriu truksta daugiau nei 70 procentu\n",
        "\n",
        "#### DUOMENU TVARKYMAS ####\n",
        "\n",
        "# Isimame nereikalingus stulpelius, tuos kurie yra nereiksmingi ir nereikalingi\n",
        "df_butai= df_butai.drop(['namo_valdytojas', 'valdymo_forma', 'paskyrimo_pagrindas', 'administratoriaus_pabaigos_Data'\n",
        "              , 'uni_nr', 'korpusas', 'sklypo_plotas', 'renovacijos_statusas','energ_naudingumo_klase'], axis=1)\n",
        "\n",
        "# sutvarkome renovacijus metu stulpeli taip, kad 0 nera renovuotas, 1 yra renovuotas, nes:\n",
        "# duomenu yra nedaug, taciau jie yra svarbus, kad juos ismesti:\n",
        "#https://stackoverflow.com/questions/37543647/how-to-replace-all-non-nan-entries-of-a-dataframe-with-1-and-all-nan-with-0\n",
        "df_butai['renov_metai']=df_butai['renov_metai'].notnull().astype('int')\n",
        "\n",
        "\n",
        "# Atfiltruojame tik gyvenamos paskirties namus\n",
        "df_butai=df_butai.loc[df_butai['paskirtis'] == 'Gyvenamoji (trys ir daugiau butų)']\n",
        "\n",
        "# sutvarkome gatves grupavimui:\n",
        "split_data1=df_butai['adresas'].str.partition('g.')\n",
        "testas = split_data1[0]+split_data1[1]\n",
        "df_butai['adresas']=testas\n",
        "split_data2=df_butai['adresas'].str.partition('kel.')\n",
        "testas = split_data2[0]+split_data2[1]\n",
        "df_butai['adresas']=testas\n",
        "split_data3=df_butai['adresas'].str.partition('pr.')\n",
        "testas = split_data3[0]+split_data3[1]\n",
        "df_butai['adresas']=testas\n",
        "split_data4=df_butai['adresas'].str.partition('al.')\n",
        "testas = split_data4[0]+split_data4[1]\n",
        "df_butai['adresas']=testas\n",
        "split_data5=df_butai['adresas'].str.partition('pl.')\n",
        "testas = split_data5[0]+split_data5[1]\n",
        "df_butai['adresas']=testas\n",
        "\n",
        "#### DUOMENU PARUOSIMAS DARBUI ####\n",
        "# Sukuriame nauja DF kurioje gatves bus sugrupuotos ir jai priskirtos sumos:\n",
        "butai1=df_butai[['adresas','bendr_plotas','naud_plotas', 'butu_skaicius','negyvenamuju_palapu_skaicius','renov_metai']].groupby(['adresas']).sum().reset_index()\n",
        "# Sukuriame nauja DF kurioje gatves bus sugrupuotos ir jai priskirti vidurkiai:\n",
        "butai2=df_butai[['adresas', 'build_year']].groupby(['adresas']).mean().reset_index()\n",
        "\n",
        "#sudarome sutvarkyta lentele:\n",
        "# https://pandas.pydata.org/pandas-docs/stable/user_guide/merging.html\n",
        "df_butai=pd.concat([butai1, butai2['build_year']], axis=1)\n",
        "# ir pakeiciame pavadinimus columns del tikslumo:\n",
        "df_butai=df_butai.rename(columns={\"renov_metai\": \"renov_skaicius\", \"build_year\": \"vid_statybos_m\"})"
      ],
      "execution_count": 0,
      "outputs": []
    },
    {
      "cell_type": "code",
      "metadata": {
        "id": "KK-9_gJYb7Bt",
        "colab_type": "code",
        "colab": {}
      },
      "source": [
        "df_bendras=df_p.merge(df_butai, left_on='Gatve', right_on='adresas', how='left')\n",
        "df_bendras=df_bendras.dropna()\n",
        "df_bendras=df_bendras.drop(['adresas'], axis=1)"
      ],
      "execution_count": 0,
      "outputs": []
    },
    {
      "cell_type": "markdown",
      "metadata": {
        "id": "zz-yzOEDqMYO",
        "colab_type": "text"
      },
      "source": [
        "### Galiausiai, prie naujos lentelės pridedu dar ir duomenis apie registruotus Vilniaus gyventojus ir sujungiu juos per Gatves. Duomenys taip pat yra iš Vilnius Open Data: https://github.com/vilnius/gyventojai"
      ]
    },
    {
      "cell_type": "code",
      "metadata": {
        "id": "EcfW4T-cnQgV",
        "colab_type": "code",
        "outputId": "0c08c0c9-70a8-4884-c365-503df06be4e7",
        "colab": {
          "base_uri": "https://localhost:8080/",
          "height": 419
        }
      },
      "source": [
        "## Ideja prijungti duomenis apie zmones\n",
        "data_zmones=pd.read_csv('zmones.csv')\n",
        "df_zmones=pd.DataFrame(data_zmones)\n",
        "df_zmones_pilnas=df_zmones.drop(['SENIUNNR','TER_REJ_KODAS','GATV_K','GAT_ID','GIMIMO_VALSTYBE'], axis=1)\n",
        "df_zmones_pilnas['SEIMOS_PADETIS']=df_zmones_pilnas['SEIMOS_PADETIS'].fillna('Vi')\n",
        "df_zmones['SEIMOS_PADETIS']=df_zmones['SEIMOS_PADETIS'].fillna('Vi')\n",
        "df_zmones=df_zmones.drop(['SENIUNNR','TER_REJ_KODAS','GATV_K','GAT_ID','GIMIMO_VALSTYBE'], axis=1)\n",
        "\n",
        "# # pakeiciame LYTIS duomenis Vyrus(V) kaip 0, Moters (M) - 1\n",
        "# df_zmones=df_zmones.replace({'LYTIS' : { 'V' : 0, 'M' : 1}})\n",
        "# # pakeiciame SEIMOS_PADETIS duomenis Vede(V):1, Issiskyre(I):2, Naslys/-e(N):3, NaN:0\n",
        "# df_zmones=df_zmones.replace({'SEIMOS_PADETIS' : { 'V' : 1, 'I' : 2, 'N': 3}}).fillna(0)\n",
        "\n",
        "# sukategorizuojame lyti ir seimos padeti\n",
        "df_zmones=pd.get_dummies(df_zmones, columns=['LYTIS', 'SEIMOS_PADETIS'])\n",
        "# Pakeiciam stulpeliu pavadinimus:\n",
        "df_zmones=df_zmones.rename(columns={\"SEIMOS_PADETIS_I\": \"ISSISKYRE\", \"SEIMOS_PADETIS_N\": \"NASLYS\",\"SEIMOS_PADETIS_V\": \"VEDE\", 'SEIMOS_PADETIS_Vi': 'VIENISI'})\n",
        "\n",
        "#### DUOMENU GRUPAVIMAS ####\n",
        "# Pirmas skirstymas: suskirstyti vid. zmoniu amziu (gimimo metais) pagal gatves ir rajonus (atskirai)\n",
        "df_zmones_gamzius=df_zmones[['GATVE', 'GIMIMO_METAI']].groupby('GATVE').mean().reset_index()\n",
        "df_zmones_ramzius=df_zmones[['SENIUNIJA', 'GIMIMO_METAI']].groupby('SENIUNIJA').mean().reset_index()\n",
        "\n",
        "# Antras skirstymas: suskirstyti zmones pagal rajonus ir gatves (atskirai)\n",
        "df_zmones_rajonai=df_zmones[['SENIUNIJA','KIEK_TURI_VAIKU','LYTIS_M','LYTIS_V','ISSISKYRE','NASLYS','VEDE','VIENISI']].groupby('SENIUNIJA').sum().reset_index()\n",
        "df_zmones_gatves=df_zmones[['GATVE','KIEK_TURI_VAIKU','LYTIS_M','LYTIS_V','ISSISKYRE','NASLYS','VEDE','VIENISI']].groupby('GATVE').sum().reset_index()\n",
        "\n",
        "# Duomenu tvarkymas:\n",
        "df_zmones_rajonai=pd.concat([df_zmones_rajonai, df_zmones_ramzius['GIMIMO_METAI']], axis=1)\n",
        "df_zmones_gatves=pd.concat([df_zmones_gatves, df_zmones_gamzius['GIMIMO_METAI']], axis=1)\n",
        "\n",
        "df_zmones_rajonai=df_zmones_rajonai.rename(columns={'GIMIMO_METAI': \"VID. GIM. METAI\"})\n",
        "df_zmones_gatves=df_zmones_gatves.rename(columns={'GIMIMO_METAI': \"VID. GIM. METAI\"})\n",
        "\n",
        "# Vieno DF sukurimas PER gatves\n",
        "df_bendras=df_bendras.merge(df_zmones_gatves, left_on='Gatve', right_on='GATVE', how='left').dropna()\n",
        "df_bendras=df_bendras.drop('GATVE', axis=1)\n",
        "data_zmones"
      ],
      "execution_count": 0,
      "outputs": [
        {
          "output_type": "execute_result",
          "data": {
            "text/html": [
              "<div>\n",
              "<style scoped>\n",
              "    .dataframe tbody tr th:only-of-type {\n",
              "        vertical-align: middle;\n",
              "    }\n",
              "\n",
              "    .dataframe tbody tr th {\n",
              "        vertical-align: top;\n",
              "    }\n",
              "\n",
              "    .dataframe thead th {\n",
              "        text-align: right;\n",
              "    }\n",
              "</style>\n",
              "<table border=\"1\" class=\"dataframe\">\n",
              "  <thead>\n",
              "    <tr style=\"text-align: right;\">\n",
              "      <th></th>\n",
              "      <th>GIMIMO_METAI</th>\n",
              "      <th>GIMIMO_VALSTYBE</th>\n",
              "      <th>LYTIS</th>\n",
              "      <th>SEIMOS_PADETIS</th>\n",
              "      <th>KIEK_TURI_VAIKU</th>\n",
              "      <th>SENIUNIJA</th>\n",
              "      <th>GATVE</th>\n",
              "      <th>SENIUNNR</th>\n",
              "      <th>TER_REJ_KODAS</th>\n",
              "      <th>GATV_K</th>\n",
              "      <th>GAT_ID</th>\n",
              "    </tr>\n",
              "  </thead>\n",
              "  <tbody>\n",
              "    <tr>\n",
              "      <th>0</th>\n",
              "      <td>1945</td>\n",
              "      <td>LTU</td>\n",
              "      <td>M</td>\n",
              "      <td>V</td>\n",
              "      <td>0</td>\n",
              "      <td>Žirmūnai</td>\n",
              "      <td>Apkasų g.</td>\n",
              "      <td>2.0</td>\n",
              "      <td>G1</td>\n",
              "      <td>26.0</td>\n",
              "      <td>21887.0</td>\n",
              "    </tr>\n",
              "    <tr>\n",
              "      <th>1</th>\n",
              "      <td>1977</td>\n",
              "      <td>LTU</td>\n",
              "      <td>V</td>\n",
              "      <td>Vi</td>\n",
              "      <td>0</td>\n",
              "      <td>Žvėrynas</td>\n",
              "      <td>Latvių g.</td>\n",
              "      <td>6.0</td>\n",
              "      <td>G1</td>\n",
              "      <td>277.0</td>\n",
              "      <td>22128.0</td>\n",
              "    </tr>\n",
              "    <tr>\n",
              "      <th>2</th>\n",
              "      <td>1940</td>\n",
              "      <td>LTU</td>\n",
              "      <td>V</td>\n",
              "      <td>N</td>\n",
              "      <td>0</td>\n",
              "      <td>Antakalnis</td>\n",
              "      <td>Antakalnio g.</td>\n",
              "      <td>13.0</td>\n",
              "      <td>G1</td>\n",
              "      <td>23.0</td>\n",
              "      <td>21884.0</td>\n",
              "    </tr>\n",
              "    <tr>\n",
              "      <th>3</th>\n",
              "      <td>1987</td>\n",
              "      <td>LTU</td>\n",
              "      <td>V</td>\n",
              "      <td>V</td>\n",
              "      <td>1</td>\n",
              "      <td>Žirmūnai</td>\n",
              "      <td>Žirmūnų g.</td>\n",
              "      <td>2.0</td>\n",
              "      <td>G1</td>\n",
              "      <td>694.0</td>\n",
              "      <td>22524.0</td>\n",
              "    </tr>\n",
              "    <tr>\n",
              "      <th>4</th>\n",
              "      <td>2015</td>\n",
              "      <td>LTU</td>\n",
              "      <td>M</td>\n",
              "      <td>Vi</td>\n",
              "      <td>0</td>\n",
              "      <td>Fabijoniškės</td>\n",
              "      <td>P. Žadeikos g.</td>\n",
              "      <td>4.0</td>\n",
              "      <td>G1</td>\n",
              "      <td>381.0</td>\n",
              "      <td>22226.0</td>\n",
              "    </tr>\n",
              "    <tr>\n",
              "      <th>...</th>\n",
              "      <td>...</td>\n",
              "      <td>...</td>\n",
              "      <td>...</td>\n",
              "      <td>...</td>\n",
              "      <td>...</td>\n",
              "      <td>...</td>\n",
              "      <td>...</td>\n",
              "      <td>...</td>\n",
              "      <td>...</td>\n",
              "      <td>...</td>\n",
              "      <td>...</td>\n",
              "    </tr>\n",
              "    <tr>\n",
              "      <th>582522</th>\n",
              "      <td>2006</td>\n",
              "      <td>LTU</td>\n",
              "      <td>M</td>\n",
              "      <td>Vi</td>\n",
              "      <td>0</td>\n",
              "      <td>Žvėrynas</td>\n",
              "      <td>Blindžių g.</td>\n",
              "      <td>6.0</td>\n",
              "      <td>G1</td>\n",
              "      <td>67.0</td>\n",
              "      <td>21923.0</td>\n",
              "    </tr>\n",
              "    <tr>\n",
              "      <th>582523</th>\n",
              "      <td>1968</td>\n",
              "      <td>LTU</td>\n",
              "      <td>V</td>\n",
              "      <td>I</td>\n",
              "      <td>0</td>\n",
              "      <td>Grigiškės</td>\n",
              "      <td>Vilniaus g. (Grigiškės)</td>\n",
              "      <td>21.0</td>\n",
              "      <td>G89</td>\n",
              "      <td>505.0</td>\n",
              "      <td>24542.0</td>\n",
              "    </tr>\n",
              "    <tr>\n",
              "      <th>582524</th>\n",
              "      <td>1958</td>\n",
              "      <td>LTU</td>\n",
              "      <td>M</td>\n",
              "      <td>V</td>\n",
              "      <td>0</td>\n",
              "      <td>Verkiai</td>\n",
              "      <td>Aitvarų g.</td>\n",
              "      <td>1.0</td>\n",
              "      <td>G1</td>\n",
              "      <td>741.0</td>\n",
              "      <td>24694.0</td>\n",
              "    </tr>\n",
              "    <tr>\n",
              "      <th>582525</th>\n",
              "      <td>1953</td>\n",
              "      <td>LTU</td>\n",
              "      <td>M</td>\n",
              "      <td>N</td>\n",
              "      <td>0</td>\n",
              "      <td>Verkiai</td>\n",
              "      <td>Žaliųjų Ežerų g.</td>\n",
              "      <td>1.0</td>\n",
              "      <td>G1</td>\n",
              "      <td>560.0</td>\n",
              "      <td>22398.0</td>\n",
              "    </tr>\n",
              "    <tr>\n",
              "      <th>582526</th>\n",
              "      <td>1998</td>\n",
              "      <td>LTU</td>\n",
              "      <td>M</td>\n",
              "      <td>Vi</td>\n",
              "      <td>0</td>\n",
              "      <td>Naujamiestis</td>\n",
              "      <td>Naugarduko g.</td>\n",
              "      <td>17.0</td>\n",
              "      <td>G1</td>\n",
              "      <td>364.0</td>\n",
              "      <td>22209.0</td>\n",
              "    </tr>\n",
              "  </tbody>\n",
              "</table>\n",
              "<p>582527 rows × 11 columns</p>\n",
              "</div>"
            ],
            "text/plain": [
              "        GIMIMO_METAI GIMIMO_VALSTYBE LYTIS  ... TER_REJ_KODAS  GATV_K   GAT_ID\n",
              "0               1945             LTU     M  ...            G1    26.0  21887.0\n",
              "1               1977             LTU     V  ...            G1   277.0  22128.0\n",
              "2               1940             LTU     V  ...            G1    23.0  21884.0\n",
              "3               1987             LTU     V  ...            G1   694.0  22524.0\n",
              "4               2015             LTU     M  ...            G1   381.0  22226.0\n",
              "...              ...             ...   ...  ...           ...     ...      ...\n",
              "582522          2006             LTU     M  ...            G1    67.0  21923.0\n",
              "582523          1968             LTU     V  ...           G89   505.0  24542.0\n",
              "582524          1958             LTU     M  ...            G1   741.0  24694.0\n",
              "582525          1953             LTU     M  ...            G1   560.0  22398.0\n",
              "582526          1998             LTU     M  ...            G1   364.0  22209.0\n",
              "\n",
              "[582527 rows x 11 columns]"
            ]
          },
          "metadata": {
            "tags": []
          },
          "execution_count": 7
        }
      ]
    },
    {
      "cell_type": "markdown",
      "metadata": {
        "id": "ikVWISVZuLz1",
        "colab_type": "text"
      },
      "source": [
        "### Taip atrodo mūsų galutinė lentelė, su kuria dirbsime:"
      ]
    },
    {
      "cell_type": "code",
      "metadata": {
        "id": "01LdgJ2Eo-ag",
        "colab_type": "code",
        "outputId": "786af3ad-5d7a-4e07-9182-7cbe4aec16d9",
        "colab": {
          "base_uri": "https://localhost:8080/",
          "height": 558
        }
      },
      "source": [
        "df_bendras\n"
      ],
      "execution_count": 0,
      "outputs": [
        {
          "output_type": "execute_result",
          "data": {
            "text/html": [
              "<div>\n",
              "<style scoped>\n",
              "    .dataframe tbody tr th:only-of-type {\n",
              "        vertical-align: middle;\n",
              "    }\n",
              "\n",
              "    .dataframe tbody tr th {\n",
              "        vertical-align: top;\n",
              "    }\n",
              "\n",
              "    .dataframe thead th {\n",
              "        text-align: right;\n",
              "    }\n",
              "</style>\n",
              "<table border=\"1\" class=\"dataframe\">\n",
              "  <thead>\n",
              "    <tr style=\"text-align: right;\">\n",
              "      <th></th>\n",
              "      <th>Rajonas</th>\n",
              "      <th>Gatve</th>\n",
              "      <th>Kaina</th>\n",
              "      <th>Kambariai</th>\n",
              "      <th>Plotas</th>\n",
              "      <th>Aukstas</th>\n",
              "      <th>Is viso aukstu</th>\n",
              "      <th>bendr_plotas</th>\n",
              "      <th>naud_plotas</th>\n",
              "      <th>butu_skaicius</th>\n",
              "      <th>negyvenamuju_palapu_skaicius</th>\n",
              "      <th>renov_skaicius</th>\n",
              "      <th>vid_statybos_m</th>\n",
              "      <th>KIEK_TURI_VAIKU</th>\n",
              "      <th>LYTIS_M</th>\n",
              "      <th>LYTIS_V</th>\n",
              "      <th>ISSISKYRE</th>\n",
              "      <th>NASLYS</th>\n",
              "      <th>VEDE</th>\n",
              "      <th>VIENISI</th>\n",
              "      <th>VID. GIM. METAI</th>\n",
              "    </tr>\n",
              "  </thead>\n",
              "  <tbody>\n",
              "    <tr>\n",
              "      <th>0</th>\n",
              "      <td>Lazdynėliai</td>\n",
              "      <td>Bukčių g.</td>\n",
              "      <td>69070</td>\n",
              "      <td>2</td>\n",
              "      <td>40.46</td>\n",
              "      <td>2</td>\n",
              "      <td>5</td>\n",
              "      <td>19262.04</td>\n",
              "      <td>13889.05</td>\n",
              "      <td>218.0</td>\n",
              "      <td>65.0</td>\n",
              "      <td>1.0</td>\n",
              "      <td>1984.071429</td>\n",
              "      <td>242.0</td>\n",
              "      <td>351.0</td>\n",
              "      <td>292.0</td>\n",
              "      <td>65.0</td>\n",
              "      <td>44.0</td>\n",
              "      <td>275.0</td>\n",
              "      <td>259.0</td>\n",
              "      <td>1979.096423</td>\n",
              "    </tr>\n",
              "    <tr>\n",
              "      <th>1</th>\n",
              "      <td>Bajorai</td>\n",
              "      <td>Bajorų kel.</td>\n",
              "      <td>108800</td>\n",
              "      <td>4</td>\n",
              "      <td>69.51</td>\n",
              "      <td>2</td>\n",
              "      <td>6</td>\n",
              "      <td>52430.86</td>\n",
              "      <td>42278.57</td>\n",
              "      <td>807.0</td>\n",
              "      <td>196.0</td>\n",
              "      <td>0.0</td>\n",
              "      <td>2011.571429</td>\n",
              "      <td>964.0</td>\n",
              "      <td>852.0</td>\n",
              "      <td>824.0</td>\n",
              "      <td>119.0</td>\n",
              "      <td>29.0</td>\n",
              "      <td>767.0</td>\n",
              "      <td>761.0</td>\n",
              "      <td>1989.532220</td>\n",
              "    </tr>\n",
              "    <tr>\n",
              "      <th>2</th>\n",
              "      <td>Antakalnis</td>\n",
              "      <td>Vytauto Žalakevičiaus g.</td>\n",
              "      <td>155000</td>\n",
              "      <td>2</td>\n",
              "      <td>63.11</td>\n",
              "      <td>3</td>\n",
              "      <td>7</td>\n",
              "      <td>1532.72</td>\n",
              "      <td>1477.66</td>\n",
              "      <td>321.0</td>\n",
              "      <td>22.0</td>\n",
              "      <td>0.0</td>\n",
              "      <td>1844.666667</td>\n",
              "      <td>523.0</td>\n",
              "      <td>568.0</td>\n",
              "      <td>483.0</td>\n",
              "      <td>85.0</td>\n",
              "      <td>25.0</td>\n",
              "      <td>433.0</td>\n",
              "      <td>508.0</td>\n",
              "      <td>1987.727878</td>\n",
              "    </tr>\n",
              "    <tr>\n",
              "      <th>3</th>\n",
              "      <td>Naujininkai</td>\n",
              "      <td>Panevėžio g.</td>\n",
              "      <td>84500</td>\n",
              "      <td>2</td>\n",
              "      <td>54.00</td>\n",
              "      <td>3</td>\n",
              "      <td>4</td>\n",
              "      <td>16666.12</td>\n",
              "      <td>14022.80</td>\n",
              "      <td>287.0</td>\n",
              "      <td>30.0</td>\n",
              "      <td>0.0</td>\n",
              "      <td>1959.866667</td>\n",
              "      <td>183.0</td>\n",
              "      <td>388.0</td>\n",
              "      <td>319.0</td>\n",
              "      <td>118.0</td>\n",
              "      <td>39.0</td>\n",
              "      <td>261.0</td>\n",
              "      <td>289.0</td>\n",
              "      <td>1975.446959</td>\n",
              "    </tr>\n",
              "    <tr>\n",
              "      <th>4</th>\n",
              "      <td>Šnipiškės</td>\n",
              "      <td>Giedraičių g.</td>\n",
              "      <td>95000</td>\n",
              "      <td>2</td>\n",
              "      <td>53.61</td>\n",
              "      <td>8</td>\n",
              "      <td>10</td>\n",
              "      <td>17575.68</td>\n",
              "      <td>15816.21</td>\n",
              "      <td>286.0</td>\n",
              "      <td>9.0</td>\n",
              "      <td>0.0</td>\n",
              "      <td>1945.285714</td>\n",
              "      <td>335.0</td>\n",
              "      <td>613.0</td>\n",
              "      <td>530.0</td>\n",
              "      <td>173.0</td>\n",
              "      <td>85.0</td>\n",
              "      <td>377.0</td>\n",
              "      <td>508.0</td>\n",
              "      <td>1977.165354</td>\n",
              "    </tr>\n",
              "    <tr>\n",
              "      <th>...</th>\n",
              "      <td>...</td>\n",
              "      <td>...</td>\n",
              "      <td>...</td>\n",
              "      <td>...</td>\n",
              "      <td>...</td>\n",
              "      <td>...</td>\n",
              "      <td>...</td>\n",
              "      <td>...</td>\n",
              "      <td>...</td>\n",
              "      <td>...</td>\n",
              "      <td>...</td>\n",
              "      <td>...</td>\n",
              "      <td>...</td>\n",
              "      <td>...</td>\n",
              "      <td>...</td>\n",
              "      <td>...</td>\n",
              "      <td>...</td>\n",
              "      <td>...</td>\n",
              "      <td>...</td>\n",
              "      <td>...</td>\n",
              "      <td>...</td>\n",
              "    </tr>\n",
              "    <tr>\n",
              "      <th>2706</th>\n",
              "      <td>Naujamiestis</td>\n",
              "      <td>Savanorių pr.</td>\n",
              "      <td>57000</td>\n",
              "      <td>3</td>\n",
              "      <td>56.82</td>\n",
              "      <td>2</td>\n",
              "      <td>5</td>\n",
              "      <td>164755.20</td>\n",
              "      <td>134815.23</td>\n",
              "      <td>2684.0</td>\n",
              "      <td>117.0</td>\n",
              "      <td>1.0</td>\n",
              "      <td>1926.326923</td>\n",
              "      <td>1907.0</td>\n",
              "      <td>3615.0</td>\n",
              "      <td>2803.0</td>\n",
              "      <td>846.0</td>\n",
              "      <td>636.0</td>\n",
              "      <td>2463.0</td>\n",
              "      <td>2473.0</td>\n",
              "      <td>1975.644593</td>\n",
              "    </tr>\n",
              "    <tr>\n",
              "      <th>2707</th>\n",
              "      <td>Senamiestis</td>\n",
              "      <td>Gaono g.</td>\n",
              "      <td>304000</td>\n",
              "      <td>2</td>\n",
              "      <td>115.72</td>\n",
              "      <td>2</td>\n",
              "      <td>3</td>\n",
              "      <td>4175.75</td>\n",
              "      <td>2674.42</td>\n",
              "      <td>25.0</td>\n",
              "      <td>8.0</td>\n",
              "      <td>0.0</td>\n",
              "      <td>1940.000000</td>\n",
              "      <td>7.0</td>\n",
              "      <td>14.0</td>\n",
              "      <td>9.0</td>\n",
              "      <td>2.0</td>\n",
              "      <td>1.0</td>\n",
              "      <td>11.0</td>\n",
              "      <td>9.0</td>\n",
              "      <td>1974.130435</td>\n",
              "    </tr>\n",
              "    <tr>\n",
              "      <th>2708</th>\n",
              "      <td>Naujininkai</td>\n",
              "      <td>Naugarduko g.</td>\n",
              "      <td>15308</td>\n",
              "      <td>1</td>\n",
              "      <td>25.89</td>\n",
              "      <td>1</td>\n",
              "      <td>1</td>\n",
              "      <td>65569.51</td>\n",
              "      <td>50852.85</td>\n",
              "      <td>1067.0</td>\n",
              "      <td>89.0</td>\n",
              "      <td>0.0</td>\n",
              "      <td>1948.931818</td>\n",
              "      <td>570.0</td>\n",
              "      <td>1124.0</td>\n",
              "      <td>948.0</td>\n",
              "      <td>320.0</td>\n",
              "      <td>172.0</td>\n",
              "      <td>725.0</td>\n",
              "      <td>855.0</td>\n",
              "      <td>1975.396718</td>\n",
              "    </tr>\n",
              "    <tr>\n",
              "      <th>2709</th>\n",
              "      <td>Fabijoniškės</td>\n",
              "      <td>S. Stanevičiaus g.</td>\n",
              "      <td>47787</td>\n",
              "      <td>3</td>\n",
              "      <td>67.00</td>\n",
              "      <td>5</td>\n",
              "      <td>5</td>\n",
              "      <td>265254.25</td>\n",
              "      <td>228440.05</td>\n",
              "      <td>4184.0</td>\n",
              "      <td>129.0</td>\n",
              "      <td>3.0</td>\n",
              "      <td>1988.927536</td>\n",
              "      <td>2892.0</td>\n",
              "      <td>5315.0</td>\n",
              "      <td>4350.0</td>\n",
              "      <td>1017.0</td>\n",
              "      <td>604.0</td>\n",
              "      <td>4428.0</td>\n",
              "      <td>3616.0</td>\n",
              "      <td>1975.863632</td>\n",
              "    </tr>\n",
              "    <tr>\n",
              "      <th>2710</th>\n",
              "      <td>Žvėrynas</td>\n",
              "      <td>Birutės g.</td>\n",
              "      <td>193000</td>\n",
              "      <td>2</td>\n",
              "      <td>69.90</td>\n",
              "      <td>1</td>\n",
              "      <td>2</td>\n",
              "      <td>9789.38</td>\n",
              "      <td>7040.60</td>\n",
              "      <td>167.0</td>\n",
              "      <td>39.0</td>\n",
              "      <td>0.0</td>\n",
              "      <td>1959.700000</td>\n",
              "      <td>191.0</td>\n",
              "      <td>263.0</td>\n",
              "      <td>187.0</td>\n",
              "      <td>52.0</td>\n",
              "      <td>18.0</td>\n",
              "      <td>189.0</td>\n",
              "      <td>191.0</td>\n",
              "      <td>1979.880000</td>\n",
              "    </tr>\n",
              "  </tbody>\n",
              "</table>\n",
              "<p>2702 rows × 21 columns</p>\n",
              "</div>"
            ],
            "text/plain": [
              "           Rajonas                     Gatve  ...  VIENISI  VID. GIM. METAI\n",
              "0      Lazdynėliai                 Bukčių g.  ...    259.0      1979.096423\n",
              "1          Bajorai               Bajorų kel.  ...    761.0      1989.532220\n",
              "2       Antakalnis  Vytauto Žalakevičiaus g.  ...    508.0      1987.727878\n",
              "3      Naujininkai              Panevėžio g.  ...    289.0      1975.446959\n",
              "4        Šnipiškės             Giedraičių g.  ...    508.0      1977.165354\n",
              "...            ...                       ...  ...      ...              ...\n",
              "2706  Naujamiestis             Savanorių pr.  ...   2473.0      1975.644593\n",
              "2707   Senamiestis                  Gaono g.  ...      9.0      1974.130435\n",
              "2708   Naujininkai             Naugarduko g.  ...    855.0      1975.396718\n",
              "2709  Fabijoniškės        S. Stanevičiaus g.  ...   3616.0      1975.863632\n",
              "2710      Žvėrynas                Birutės g.  ...    191.0      1979.880000\n",
              "\n",
              "[2702 rows x 21 columns]"
            ]
          },
          "metadata": {
            "tags": []
          },
          "execution_count": 8
        }
      ]
    },
    {
      "cell_type": "markdown",
      "metadata": {
        "id": "t2Qlfsk4qzKQ",
        "colab_type": "text"
      },
      "source": [
        "# 2. Duomenų analizė ir interpretacijos"
      ]
    },
    {
      "cell_type": "markdown",
      "metadata": {
        "id": "HFudnsfVDIyF",
        "colab_type": "text"
      },
      "source": [
        "## 2.1 Su parduodamų butų duomenimis:"
      ]
    },
    {
      "cell_type": "markdown",
      "metadata": {
        "id": "_3sq8FRYsnyM",
        "colab_type": "text"
      },
      "source": [
        "### Pirmasis klausimas kuris kyla iš turimos lentelės, tai yra išsiaiškinti kokiuose rajonuose yra daugiausia skelbimų.\n",
        "Žemiau yra pateikiama vizualizacija visų rajonų pagal esamų butų skelbimų skaičių. Taip pat išvestas vidurkis skelbimų, kuris leis vizualiai pamatyti kurie rajonai yra populiaresni (daugiau skelbimų nei vidurkis) arba ne tokie populiarūs (mažiau skelbimų už vidurkį)."
      ]
    },
    {
      "cell_type": "markdown",
      "metadata": {
        "id": "IuYv2FX85hvn",
        "colab_type": "text"
      },
      "source": [
        "Čia kol kas dirbame tik su parduodamų butų (df_p) duomenimis, o ne bendrais."
      ]
    },
    {
      "cell_type": "code",
      "metadata": {
        "id": "1n-3TS-CDfmZ",
        "colab_type": "code",
        "outputId": "bbcc38e7-f560-44ba-ad69-dcafc073ef4a",
        "colab": {
          "base_uri": "https://localhost:8080/",
          "height": 699
        }
      },
      "source": [
        "# Parduodamu butu kiekis rajonuose:\n",
        "plt.figure(figsize=(20,10))\n",
        "plt.xticks(rotation=90)\n",
        "sns.countplot(x='Rajonas', data=df_p)\n",
        "viduriukas=df_p[['Rajonas','Kaina']].groupby('Rajonas').count().mean()[0]\n",
        "plt.axhline(viduriukas, c='red')\n",
        "\n",
        "### KOMENTARAS:\n",
        "# Raudona linija: vidurkis kiekviename rajone parduodamu butu."
      ],
      "execution_count": 0,
      "outputs": [
        {
          "output_type": "execute_result",
          "data": {
            "text/plain": [
              "<matplotlib.lines.Line2D at 0x7f14cc5329e8>"
            ]
          },
          "metadata": {
            "tags": []
          },
          "execution_count": 9
        },
        {
          "output_type": "display_data",
          "data": {
            "image/png": "[encoded data removed]",
            "text/plain": [
              "<Figure size 1440x720 with 1 Axes>"
            ]
          },
          "metadata": {
            "tags": []
          }
        }
      ]
    },
    {
      "cell_type": "markdown",
      "metadata": {
        "id": "ihC9z9dftLtZ",
        "colab_type": "text"
      },
      "source": [
        "Nors vizualizacija aiški, vis dėl to norėtūsi matyti visą sarašą populiarių ir nepopuliarių rajonų, bei jų skelbimų skaičių."
      ]
    },
    {
      "cell_type": "markdown",
      "metadata": {
        "id": "F6F0dKTVuUZh",
        "colab_type": "text"
      },
      "source": [
        "### Sarasas rajonų, kurių skelbimų skaičius yra didesnis nei vidurkis:"
      ]
    },
    {
      "cell_type": "code",
      "metadata": {
        "id": "r5sHLu3VxxeT",
        "colab_type": "code",
        "outputId": "9c7cf755-db4b-48ef-8e3a-a865b42cca0f",
        "colab": {
          "base_uri": "https://localhost:8080/",
          "height": 655
        }
      },
      "source": [
        "# Sarasas rajonu, kuriu skelbimu skaicius yra didesnis nei vidurkis:\n",
        "top_rajonai=df_p[['Rajonas','Kaina']].groupby('Rajonas').count()\n",
        "top_rajonai=top_rajonai[top_rajonai['Kaina']>viduriukas].sort_values('Kaina', ascending=False)\n",
        "print('Is viso skelbimu: ', top_rajonai.sum()[0])\n",
        "yy=df_p.groupby('Rajonas').mean().reset_index()\n",
        "pd.merge(yy, top_rajonai, left_on='Rajonas', right_on='Rajonas').sort_values('Kaina_y', ascending=False)[['Rajonas','Kaina_x','Kaina_y']].rename(columns={'Kaina_y': 'Kiekis','Kaina_x':'Vidutinė Kaina'})"
      ],
      "execution_count": 0,
      "outputs": [
        {
          "output_type": "stream",
          "text": [
            "Is viso skelbimu:  2665\n"
          ],
          "name": "stdout"
        },
        {
          "output_type": "execute_result",
          "data": {
            "text/html": [
              "<div>\n",
              "<style scoped>\n",
              "    .dataframe tbody tr th:only-of-type {\n",
              "        vertical-align: middle;\n",
              "    }\n",
              "\n",
              "    .dataframe tbody tr th {\n",
              "        vertical-align: top;\n",
              "    }\n",
              "\n",
              "    .dataframe thead th {\n",
              "        text-align: right;\n",
              "    }\n",
              "</style>\n",
              "<table border=\"1\" class=\"dataframe\">\n",
              "  <thead>\n",
              "    <tr style=\"text-align: right;\">\n",
              "      <th></th>\n",
              "      <th>Rajonas</th>\n",
              "      <th>Vidutinė Kaina</th>\n",
              "      <th>Kiekis</th>\n",
              "    </tr>\n",
              "  </thead>\n",
              "  <tbody>\n",
              "    <tr>\n",
              "      <th>13</th>\n",
              "      <td>Senamiestis</td>\n",
              "      <td>224072.898010</td>\n",
              "      <td>402</td>\n",
              "    </tr>\n",
              "    <tr>\n",
              "      <th>8</th>\n",
              "      <td>Naujamiestis</td>\n",
              "      <td>137155.566901</td>\n",
              "      <td>284</td>\n",
              "    </tr>\n",
              "    <tr>\n",
              "      <th>0</th>\n",
              "      <td>Antakalnis</td>\n",
              "      <td>151908.203252</td>\n",
              "      <td>246</td>\n",
              "    </tr>\n",
              "    <tr>\n",
              "      <th>16</th>\n",
              "      <td>Šnipiškės</td>\n",
              "      <td>137025.799163</td>\n",
              "      <td>239</td>\n",
              "    </tr>\n",
              "    <tr>\n",
              "      <th>12</th>\n",
              "      <td>Pilaitė</td>\n",
              "      <td>95287.362694</td>\n",
              "      <td>193</td>\n",
              "    </tr>\n",
              "    <tr>\n",
              "      <th>11</th>\n",
              "      <td>Pašilaičiai</td>\n",
              "      <td>87829.623596</td>\n",
              "      <td>178</td>\n",
              "    </tr>\n",
              "    <tr>\n",
              "      <th>17</th>\n",
              "      <td>Žirmūnai</td>\n",
              "      <td>122648.433333</td>\n",
              "      <td>150</td>\n",
              "    </tr>\n",
              "    <tr>\n",
              "      <th>14</th>\n",
              "      <td>Užupis</td>\n",
              "      <td>171799.308271</td>\n",
              "      <td>133</td>\n",
              "    </tr>\n",
              "    <tr>\n",
              "      <th>18</th>\n",
              "      <td>Žvėrynas</td>\n",
              "      <td>195168.178571</td>\n",
              "      <td>112</td>\n",
              "    </tr>\n",
              "    <tr>\n",
              "      <th>7</th>\n",
              "      <td>Lazdynėliai</td>\n",
              "      <td>92747.584158</td>\n",
              "      <td>101</td>\n",
              "    </tr>\n",
              "    <tr>\n",
              "      <th>9</th>\n",
              "      <td>Naujininkai</td>\n",
              "      <td>67827.771739</td>\n",
              "      <td>92</td>\n",
              "    </tr>\n",
              "    <tr>\n",
              "      <th>1</th>\n",
              "      <td>Bajorai</td>\n",
              "      <td>101502.067568</td>\n",
              "      <td>74</td>\n",
              "    </tr>\n",
              "    <tr>\n",
              "      <th>3</th>\n",
              "      <td>Fabijoniškės</td>\n",
              "      <td>82503.684932</td>\n",
              "      <td>73</td>\n",
              "    </tr>\n",
              "    <tr>\n",
              "      <th>10</th>\n",
              "      <td>Naujoji Vilnia</td>\n",
              "      <td>42937.708333</td>\n",
              "      <td>72</td>\n",
              "    </tr>\n",
              "    <tr>\n",
              "      <th>5</th>\n",
              "      <td>Karoliniškės</td>\n",
              "      <td>88983.304348</td>\n",
              "      <td>69</td>\n",
              "    </tr>\n",
              "    <tr>\n",
              "      <th>2</th>\n",
              "      <td>Baltupiai</td>\n",
              "      <td>104923.272727</td>\n",
              "      <td>66</td>\n",
              "    </tr>\n",
              "    <tr>\n",
              "      <th>4</th>\n",
              "      <td>Justiniškės</td>\n",
              "      <td>87032.015873</td>\n",
              "      <td>63</td>\n",
              "    </tr>\n",
              "    <tr>\n",
              "      <th>15</th>\n",
              "      <td>Šeškinė</td>\n",
              "      <td>85987.754098</td>\n",
              "      <td>61</td>\n",
              "    </tr>\n",
              "    <tr>\n",
              "      <th>6</th>\n",
              "      <td>Lazdynai</td>\n",
              "      <td>96895.491228</td>\n",
              "      <td>57</td>\n",
              "    </tr>\n",
              "  </tbody>\n",
              "</table>\n",
              "</div>"
            ],
            "text/plain": [
              "           Rajonas  Vidutinė Kaina  Kiekis\n",
              "13     Senamiestis   224072.898010     402\n",
              "8     Naujamiestis   137155.566901     284\n",
              "0       Antakalnis   151908.203252     246\n",
              "16       Šnipiškės   137025.799163     239\n",
              "12         Pilaitė    95287.362694     193\n",
              "11     Pašilaičiai    87829.623596     178\n",
              "17        Žirmūnai   122648.433333     150\n",
              "14          Užupis   171799.308271     133\n",
              "18        Žvėrynas   195168.178571     112\n",
              "7      Lazdynėliai    92747.584158     101\n",
              "9      Naujininkai    67827.771739      92\n",
              "1          Bajorai   101502.067568      74\n",
              "3     Fabijoniškės    82503.684932      73\n",
              "10  Naujoji Vilnia    42937.708333      72\n",
              "5     Karoliniškės    88983.304348      69\n",
              "2        Baltupiai   104923.272727      66\n",
              "4      Justiniškės    87032.015873      63\n",
              "15         Šeškinė    85987.754098      61\n",
              "6         Lazdynai    96895.491228      57"
            ]
          },
          "metadata": {
            "tags": []
          },
          "execution_count": 140
        }
      ]
    },
    {
      "cell_type": "markdown",
      "metadata": {
        "id": "hbd-QULQvNF4",
        "colab_type": "text"
      },
      "source": [
        "Top rajonuose iš beveik 3200 butų skelbimų, net 2665 yra populiariuosiuose rajonuose. O Top lyderis yra **Senamiestis**.\n",
        "Kiti rajonai esantys sąrašo viršuje atsilieka 1,5-4 karto. Suprantama, jog šie rajonai yra populiarūs dėl puikios lokacijos ir susisiekimo su kitais rajonais.\n",
        "\n",
        "\n"
      ]
    },
    {
      "cell_type": "code",
      "metadata": {
        "id": "3pxAAGj_WZGl",
        "colab_type": "code",
        "outputId": "b3d3d699-afcb-4531-acd8-d8c85cec8b04",
        "colab": {
          "base_uri": "https://localhost:8080/",
          "height": 1000
        }
      },
      "source": [
        "# Sarasas rajonu, kuriu skelbimu skaicius yra didesnis nei vidurkis:\n",
        "bot_rajonai=df_p[['Rajonas','Kaina']].groupby('Rajonas').count()\n",
        "bot_rajonai=bot_rajonai[bot_rajonai['Kaina']<viduriukas].sort_values('Kaina', ascending=False)\n",
        "print('Is viso skelbimu: ', bot_rajonai.sum()[0])\n",
        "yy=df_p.groupby('Rajonas').mean().reset_index()\n",
        "pd.merge(yy, bot_rajonai, left_on='Rajonas', right_on='Rajonas').sort_values('Kaina_y', ascending=False)[['Rajonas','Kaina_x','Kaina_y']].rename(columns={'Kaina_x':'Vidutinė Kaina','Kaina_y':'Kiekis'})"
      ],
      "execution_count": 0,
      "outputs": [
        {
          "output_type": "stream",
          "text": [
            "Is viso skelbimu:  463\n"
          ],
          "name": "stdout"
        },
        {
          "output_type": "execute_result",
          "data": {
            "text/html": [
              "<div>\n",
              "<style scoped>\n",
              "    .dataframe tbody tr th:only-of-type {\n",
              "        vertical-align: middle;\n",
              "    }\n",
              "\n",
              "    .dataframe tbody tr th {\n",
              "        vertical-align: top;\n",
              "    }\n",
              "\n",
              "    .dataframe thead th {\n",
              "        text-align: right;\n",
              "    }\n",
              "</style>\n",
              "<table border=\"1\" class=\"dataframe\">\n",
              "  <thead>\n",
              "    <tr style=\"text-align: right;\">\n",
              "      <th></th>\n",
              "      <th>Rajonas</th>\n",
              "      <th>Vidutinė Kaina</th>\n",
              "      <th>Kiekis</th>\n",
              "    </tr>\n",
              "  </thead>\n",
              "  <tbody>\n",
              "    <tr>\n",
              "      <th>12</th>\n",
              "      <td>Jeruzalė</td>\n",
              "      <td>111179.760870</td>\n",
              "      <td>46</td>\n",
              "    </tr>\n",
              "    <tr>\n",
              "      <th>30</th>\n",
              "      <td>Valakampiai</td>\n",
              "      <td>202152.658537</td>\n",
              "      <td>41</td>\n",
              "    </tr>\n",
              "    <tr>\n",
              "      <th>33</th>\n",
              "      <td>Viršuliškės</td>\n",
              "      <td>85180.487805</td>\n",
              "      <td>41</td>\n",
              "    </tr>\n",
              "    <tr>\n",
              "      <th>36</th>\n",
              "      <td>Šiaurės miestelis</td>\n",
              "      <td>138335.633333</td>\n",
              "      <td>30</td>\n",
              "    </tr>\n",
              "    <tr>\n",
              "      <th>17</th>\n",
              "      <td>Markučiai</td>\n",
              "      <td>128779.862069</td>\n",
              "      <td>29</td>\n",
              "    </tr>\n",
              "    <tr>\n",
              "      <th>11</th>\n",
              "      <td>Grigiškės</td>\n",
              "      <td>52770.363636</td>\n",
              "      <td>22</td>\n",
              "    </tr>\n",
              "    <tr>\n",
              "      <th>31</th>\n",
              "      <td>Verkiai</td>\n",
              "      <td>153674.761905</td>\n",
              "      <td>21</td>\n",
              "    </tr>\n",
              "    <tr>\n",
              "      <th>21</th>\n",
              "      <td>Rasos</td>\n",
              "      <td>105027.428571</td>\n",
              "      <td>21</td>\n",
              "    </tr>\n",
              "    <tr>\n",
              "      <th>23</th>\n",
              "      <td>Santariškės</td>\n",
              "      <td>128504.000000</td>\n",
              "      <td>20</td>\n",
              "    </tr>\n",
              "    <tr>\n",
              "      <th>37</th>\n",
              "      <td>Žemieji Paneriai</td>\n",
              "      <td>45625.421053</td>\n",
              "      <td>19</td>\n",
              "    </tr>\n",
              "    <tr>\n",
              "      <th>32</th>\n",
              "      <td>Vilkpėdė</td>\n",
              "      <td>92205.388889</td>\n",
              "      <td>18</td>\n",
              "    </tr>\n",
              "    <tr>\n",
              "      <th>13</th>\n",
              "      <td>Kalnėnai</td>\n",
              "      <td>100411.111111</td>\n",
              "      <td>18</td>\n",
              "    </tr>\n",
              "    <tr>\n",
              "      <th>6</th>\n",
              "      <td>Burbiškės</td>\n",
              "      <td>115685.000000</td>\n",
              "      <td>16</td>\n",
              "    </tr>\n",
              "    <tr>\n",
              "      <th>34</th>\n",
              "      <td>Visoriai</td>\n",
              "      <td>99129.083333</td>\n",
              "      <td>12</td>\n",
              "    </tr>\n",
              "    <tr>\n",
              "      <th>16</th>\n",
              "      <td>Liepkalnis</td>\n",
              "      <td>107445.454545</td>\n",
              "      <td>11</td>\n",
              "    </tr>\n",
              "    <tr>\n",
              "      <th>2</th>\n",
              "      <td>Balsiai</td>\n",
              "      <td>91720.000000</td>\n",
              "      <td>10</td>\n",
              "    </tr>\n",
              "    <tr>\n",
              "      <th>1</th>\n",
              "      <td>Avižieniai</td>\n",
              "      <td>88271.777778</td>\n",
              "      <td>9</td>\n",
              "    </tr>\n",
              "    <tr>\n",
              "      <th>28</th>\n",
              "      <td>Turniškės</td>\n",
              "      <td>177250.000000</td>\n",
              "      <td>8</td>\n",
              "    </tr>\n",
              "    <tr>\n",
              "      <th>20</th>\n",
              "      <td>Pavilnys</td>\n",
              "      <td>62000.000000</td>\n",
              "      <td>8</td>\n",
              "    </tr>\n",
              "    <tr>\n",
              "      <th>9</th>\n",
              "      <td>Filaretai</td>\n",
              "      <td>131142.857143</td>\n",
              "      <td>7</td>\n",
              "    </tr>\n",
              "    <tr>\n",
              "      <th>22</th>\n",
              "      <td>Salininkai</td>\n",
              "      <td>42185.714286</td>\n",
              "      <td>7</td>\n",
              "    </tr>\n",
              "    <tr>\n",
              "      <th>25</th>\n",
              "      <td>Tarandė</td>\n",
              "      <td>78750.000000</td>\n",
              "      <td>6</td>\n",
              "    </tr>\n",
              "    <tr>\n",
              "      <th>5</th>\n",
              "      <td>Bukiškio k.</td>\n",
              "      <td>41666.666667</td>\n",
              "      <td>6</td>\n",
              "    </tr>\n",
              "    <tr>\n",
              "      <th>27</th>\n",
              "      <td>Trakų Vokė</td>\n",
              "      <td>69380.000000</td>\n",
              "      <td>5</td>\n",
              "    </tr>\n",
              "    <tr>\n",
              "      <th>0</th>\n",
              "      <td>Aukštieji Paneriai</td>\n",
              "      <td>37580.000000</td>\n",
              "      <td>5</td>\n",
              "    </tr>\n",
              "    <tr>\n",
              "      <th>7</th>\n",
              "      <td>Didieji Gulbinai</td>\n",
              "      <td>89051.600000</td>\n",
              "      <td>5</td>\n",
              "    </tr>\n",
              "    <tr>\n",
              "      <th>19</th>\n",
              "      <td>Paneriai</td>\n",
              "      <td>65960.000000</td>\n",
              "      <td>5</td>\n",
              "    </tr>\n",
              "    <tr>\n",
              "      <th>24</th>\n",
              "      <td>Saulėtekis</td>\n",
              "      <td>139033.333333</td>\n",
              "      <td>3</td>\n",
              "    </tr>\n",
              "    <tr>\n",
              "      <th>14</th>\n",
              "      <td>Klevinės vs.</td>\n",
              "      <td>109333.333333</td>\n",
              "      <td>3</td>\n",
              "    </tr>\n",
              "    <tr>\n",
              "      <th>8</th>\n",
              "      <td>Dvarčionys</td>\n",
              "      <td>52750.000000</td>\n",
              "      <td>2</td>\n",
              "    </tr>\n",
              "    <tr>\n",
              "      <th>35</th>\n",
              "      <td>Zujūnai</td>\n",
              "      <td>104450.000000</td>\n",
              "      <td>2</td>\n",
              "    </tr>\n",
              "    <tr>\n",
              "      <th>26</th>\n",
              "      <td>Tarandės k.</td>\n",
              "      <td>119000.000000</td>\n",
              "      <td>1</td>\n",
              "    </tr>\n",
              "    <tr>\n",
              "      <th>18</th>\n",
              "      <td>Ožkiniai</td>\n",
              "      <td>75000.000000</td>\n",
              "      <td>1</td>\n",
              "    </tr>\n",
              "    <tr>\n",
              "      <th>15</th>\n",
              "      <td>Lentvario m.</td>\n",
              "      <td>89000.000000</td>\n",
              "      <td>1</td>\n",
              "    </tr>\n",
              "    <tr>\n",
              "      <th>29</th>\n",
              "      <td>Užusieniai</td>\n",
              "      <td>71000.000000</td>\n",
              "      <td>1</td>\n",
              "    </tr>\n",
              "    <tr>\n",
              "      <th>10</th>\n",
              "      <td>Gineitiškės</td>\n",
              "      <td>54000.000000</td>\n",
              "      <td>1</td>\n",
              "    </tr>\n",
              "    <tr>\n",
              "      <th>4</th>\n",
              "      <td>Buivydiškės</td>\n",
              "      <td>139900.000000</td>\n",
              "      <td>1</td>\n",
              "    </tr>\n",
              "    <tr>\n",
              "      <th>3</th>\n",
              "      <td>Buivydiškių k.</td>\n",
              "      <td>69000.000000</td>\n",
              "      <td>1</td>\n",
              "    </tr>\n",
              "  </tbody>\n",
              "</table>\n",
              "</div>"
            ],
            "text/plain": [
              "               Rajonas  Vidutinė Kaina  Kiekis\n",
              "12            Jeruzalė   111179.760870      46\n",
              "30         Valakampiai   202152.658537      41\n",
              "33         Viršuliškės    85180.487805      41\n",
              "36   Šiaurės miestelis   138335.633333      30\n",
              "17           Markučiai   128779.862069      29\n",
              "11           Grigiškės    52770.363636      22\n",
              "31             Verkiai   153674.761905      21\n",
              "21               Rasos   105027.428571      21\n",
              "23         Santariškės   128504.000000      20\n",
              "37    Žemieji Paneriai    45625.421053      19\n",
              "32            Vilkpėdė    92205.388889      18\n",
              "13            Kalnėnai   100411.111111      18\n",
              "6            Burbiškės   115685.000000      16\n",
              "34            Visoriai    99129.083333      12\n",
              "16          Liepkalnis   107445.454545      11\n",
              "2              Balsiai    91720.000000      10\n",
              "1           Avižieniai    88271.777778       9\n",
              "28           Turniškės   177250.000000       8\n",
              "20            Pavilnys    62000.000000       8\n",
              "9            Filaretai   131142.857143       7\n",
              "22          Salininkai    42185.714286       7\n",
              "25             Tarandė    78750.000000       6\n",
              "5          Bukiškio k.    41666.666667       6\n",
              "27          Trakų Vokė    69380.000000       5\n",
              "0   Aukštieji Paneriai    37580.000000       5\n",
              "7     Didieji Gulbinai    89051.600000       5\n",
              "19            Paneriai    65960.000000       5\n",
              "24          Saulėtekis   139033.333333       3\n",
              "14        Klevinės vs.   109333.333333       3\n",
              "8           Dvarčionys    52750.000000       2\n",
              "35             Zujūnai   104450.000000       2\n",
              "26         Tarandės k.   119000.000000       1\n",
              "18            Ožkiniai    75000.000000       1\n",
              "15        Lentvario m.    89000.000000       1\n",
              "29          Užusieniai    71000.000000       1\n",
              "10         Gineitiškės    54000.000000       1\n",
              "4          Buivydiškės   139900.000000       1\n",
              "3       Buivydiškių k.    69000.000000       1"
            ]
          },
          "metadata": {
            "tags": []
          },
          "execution_count": 144
        }
      ]
    },
    {
      "cell_type": "markdown",
      "metadata": {
        "id": "AITTJSqQwOuL",
        "colab_type": "text"
      },
      "source": [
        "Nepopuliariuose rajonuose dominuoje užmiesčiuose esantys butai. Normalu, jog šiuolaikinis vilnietis nori būti veiksmo centre, o ne važiuoti valandą nuo namų iki Vilniaus širdies.\n",
        "\n",
        "**Kitas paaiškinimas**: užmiestyje daugiau dominuoja gyvenamieji namai ir kotedžai, nei butai, todėl natūralu, kad užmiestyje esančių daugiabučių pasiūla bus maža.\n",
        "\n",
        "**Idėja ateičiai**: pašalinti užmiestinius rajonus, kurie vis vien yra Vilniaus miesto dalis.\n"
      ]
    },
    {
      "cell_type": "markdown",
      "metadata": {
        "id": "XRMTA17Etzj1",
        "colab_type": "text"
      },
      "source": [
        "### Žinome, kad vieni rajonai yra populiaresni už kitus, tačiau kaip skiriasi butų rodikliai tarp tų rajonų?"
      ]
    },
    {
      "cell_type": "markdown",
      "metadata": {
        "id": "MB_CQ2LzOpmS",
        "colab_type": "text"
      },
      "source": [
        "Čia darome prielaidą, jog butai skelbimuose atspindi dabartinę esamą populiarumą, tuo tarpu registruotų žmonių kiekis atitinkamuose rajonuose atspindi nusistovėjusią populiarumo tendenciją.\n",
        "\n",
        "Geriausiai dabartinį populiarumą galime įvertinti per paklausą/pasiūlą."
      ]
    },
    {
      "cell_type": "code",
      "metadata": {
        "id": "bLmnepWjW46R",
        "colab_type": "code",
        "outputId": "81a9f79f-0b49-4bba-8731-79a850463b2c",
        "colab": {
          "base_uri": "https://localhost:8080/",
          "height": 408
        }
      },
      "source": [
        "df_p_top=df_p.loc[df_p['Rajonas'].isin(top_rajonai.index)]\n",
        "df_p_bot=df_p.loc[~df_p['Rajonas'].isin(top_rajonai.index)]\n",
        "\n",
        "print('Vidutiniai butu rodikliai populiariuose rajonuose:')\n",
        "print(df_p_top.mean())\n",
        "print()\n",
        "print('Vidutiniai butu rodikliai NEpopuliariuose rajonuose:')\n",
        "print(df_p_bot.mean())\n",
        "print()\n",
        "print('Skirtumai tarp rajonu:')\n",
        "print(df_p_top.mean()-df_p_bot.mean())"
      ],
      "execution_count": 0,
      "outputs": [
        {
          "output_type": "stream",
          "text": [
            "Vidutiniai butu rodikliai populiariuose rajonuose:\n",
            "Kaina             134268.971107\n",
            "Kambariai              2.507692\n",
            "Plotas                63.151820\n",
            "Aukstas                3.502439\n",
            "Is viso aukstu         6.024015\n",
            "dtype: float64\n",
            "\n",
            "Vidutiniai butu rodikliai NEpopuliariuose rajonuose:\n",
            "Kaina             110253.736501\n",
            "Kambariai              2.546436\n",
            "Plotas                65.020799\n",
            "Aukstas                2.930886\n",
            "Is viso aukstu         4.835853\n",
            "dtype: float64\n",
            "\n",
            "Skirtumai tarp rajonu:\n",
            "Kaina             24015.234606\n",
            "Kambariai            -0.038744\n",
            "Plotas               -1.868979\n",
            "Aukstas               0.571553\n",
            "Is viso aukstu        1.188162\n",
            "dtype: float64\n"
          ],
          "name": "stdout"
        }
      ]
    },
    {
      "cell_type": "markdown",
      "metadata": {
        "id": "kIC1fu_5xY5n",
        "colab_type": "text"
      },
      "source": [
        "\n",
        "Nepopuliariuose rajonuose vidutiniškai BEVEIK tokio paties dydžio buto (2,5 kambario tačiau ~2m² didesnio pločio) kaina vidutiniškai yra mažesnė 24k eurų."
      ]
    },
    {
      "cell_type": "markdown",
      "metadata": {
        "id": "SuLlth1w8FJd",
        "colab_type": "text"
      },
      "source": [
        "### Kaip vizualiai skiriasi kainos tarp populiarių ir nepopuliarių rajonų?"
      ]
    },
    {
      "cell_type": "code",
      "metadata": {
        "id": "-vD7bgrn1tdO",
        "colab_type": "code",
        "colab": {}
      },
      "source": [
        "kainu_skirtumai=df_p[['Rajonas','Kaina']]\n",
        "kainu_skirtumai.loc[kainu_skirtumai['Rajonas'].isin(top_rajonai.index), 'Populiarumas'] = 'TOP'\n",
        "kainu_skirtumai['Populiarumas']=kainu_skirtumai['Populiarumas'].fillna('BOT')"
      ],
      "execution_count": 0,
      "outputs": []
    },
    {
      "cell_type": "code",
      "metadata": {
        "id": "NLgLA9Jb2aQe",
        "colab_type": "code",
        "outputId": "8c36da35-215a-468b-a5be-e29f48ec6bf1",
        "colab": {
          "base_uri": "https://localhost:8080/",
          "height": 296
        }
      },
      "source": [
        "sns.boxplot(x='Populiarumas', y='Kaina', data=kainu_skirtumai)"
      ],
      "execution_count": 0,
      "outputs": [
        {
          "output_type": "execute_result",
          "data": {
            "text/plain": [
              "<matplotlib.axes._subplots.AxesSubplot at 0x7f166dd25748>"
            ]
          },
          "metadata": {
            "tags": []
          },
          "execution_count": 18
        },
        {
          "output_type": "display_data",
          "data": {
            "image/png": "[encoded data removed]",
            "text/plain": [
              "<Figure size 432x288 with 1 Axes>"
            ]
          },
          "metadata": {
            "tags": []
          }
        }
      ]
    },
    {
      "cell_type": "markdown",
      "metadata": {
        "id": "4BJisb3c6eWd",
        "colab_type": "text"
      },
      "source": [
        "O dabar pateikime tai skaičiais:"
      ]
    },
    {
      "cell_type": "code",
      "metadata": {
        "id": "d0uEFfVb0pax",
        "colab_type": "code",
        "outputId": "74a1d3ae-748c-463f-d807-73e1cbb74a02",
        "colab": {
          "base_uri": "https://localhost:8080/",
          "height": 173
        }
      },
      "source": [
        "kainu_skirtumai[['Populiarumas','Kaina']].groupby('Populiarumas').describe()"
      ],
      "execution_count": 0,
      "outputs": [
        {
          "output_type": "execute_result",
          "data": {
            "text/html": [
              "<div>\n",
              "<style scoped>\n",
              "    .dataframe tbody tr th:only-of-type {\n",
              "        vertical-align: middle;\n",
              "    }\n",
              "\n",
              "    .dataframe tbody tr th {\n",
              "        vertical-align: top;\n",
              "    }\n",
              "\n",
              "    .dataframe thead tr th {\n",
              "        text-align: left;\n",
              "    }\n",
              "\n",
              "    .dataframe thead tr:last-of-type th {\n",
              "        text-align: right;\n",
              "    }\n",
              "</style>\n",
              "<table border=\"1\" class=\"dataframe\">\n",
              "  <thead>\n",
              "    <tr>\n",
              "      <th></th>\n",
              "      <th colspan=\"8\" halign=\"left\">Kaina</th>\n",
              "    </tr>\n",
              "    <tr>\n",
              "      <th></th>\n",
              "      <th>count</th>\n",
              "      <th>mean</th>\n",
              "      <th>std</th>\n",
              "      <th>min</th>\n",
              "      <th>25%</th>\n",
              "      <th>50%</th>\n",
              "      <th>75%</th>\n",
              "      <th>max</th>\n",
              "    </tr>\n",
              "    <tr>\n",
              "      <th>Populiarumas</th>\n",
              "      <th></th>\n",
              "      <th></th>\n",
              "      <th></th>\n",
              "      <th></th>\n",
              "      <th></th>\n",
              "      <th></th>\n",
              "      <th></th>\n",
              "      <th></th>\n",
              "    </tr>\n",
              "  </thead>\n",
              "  <tbody>\n",
              "    <tr>\n",
              "      <th>BOT</th>\n",
              "      <td>463.0</td>\n",
              "      <td>110253.736501</td>\n",
              "      <td>68262.994334</td>\n",
              "      <td>11100.0</td>\n",
              "      <td>65000.0</td>\n",
              "      <td>98000.0</td>\n",
              "      <td>139900.0</td>\n",
              "      <td>465000.0</td>\n",
              "    </tr>\n",
              "    <tr>\n",
              "      <th>TOP</th>\n",
              "      <td>2665.0</td>\n",
              "      <td>134268.971107</td>\n",
              "      <td>89969.749815</td>\n",
              "      <td>10900.0</td>\n",
              "      <td>76000.0</td>\n",
              "      <td>107000.0</td>\n",
              "      <td>165000.0</td>\n",
              "      <td>531875.0</td>\n",
              "    </tr>\n",
              "  </tbody>\n",
              "</table>\n",
              "</div>"
            ],
            "text/plain": [
              "               Kaina                               ...                              \n",
              "               count           mean           std  ...       50%       75%       max\n",
              "Populiarumas                                       ...                              \n",
              "BOT            463.0  110253.736501  68262.994334  ...   98000.0  139900.0  465000.0\n",
              "TOP           2665.0  134268.971107  89969.749815  ...  107000.0  165000.0  531875.0\n",
              "\n",
              "[2 rows x 8 columns]"
            ]
          },
          "metadata": {
            "tags": []
          },
          "execution_count": 14
        }
      ]
    },
    {
      "cell_type": "markdown",
      "metadata": {
        "id": "rrU_UuBKx5sY",
        "colab_type": "text"
      },
      "source": [
        "Iš šios analizės galime matyti, kad kainos atžvilgiu, tarp rajonų didelio skirtumo nėra:\n",
        "\n",
        "**Panašumai**\n",
        "*   Abiejuose rajonuose yra daugiabučio tipo butų - tai galime sakyti iš itin žemos kainos (~10k)\n",
        "*   Mediana yra panaši - skiriasi per 9 000 eur.\n",
        "*   Abiejuose rajonuose yra prabangių butų kurių kaina siekia pusę milijono.\n",
        "\n",
        "**Skirtumai**\n",
        "\n",
        "*   Didžioji skelbimų dalis skiriasi: populiarių rajonų kainos režiai yra 76-165k, tuo tarpu nepopuliariuose - 65-140k. Galime teigti, bendrai, apimant visus skelbimus, populariuose rajonuose tenka permokėti 11-25k.\n",
        "*   Butų kainos vidurkis skiriasi per 24k eurų, tačiau tai itin susiję su kitu skirtumu\n",
        "*   Jog skelbimų populiariuose rajonuose yra ~6 kartais daugiau\n",
        "\n",
        "\n",
        "\n",
        "\n"
      ]
    },
    {
      "cell_type": "markdown",
      "metadata": {
        "id": "6thC6CmlQBdg",
        "colab_type": "text"
      },
      "source": [
        "### Bendras vaizdas: butų kainos pasiskirstymas tarp visų rajonų:"
      ]
    },
    {
      "cell_type": "code",
      "metadata": {
        "id": "lYmFxOvnP9_5",
        "colab_type": "code",
        "outputId": "fb4116db-5795-40d8-be6c-9ba2d39a9b3b",
        "colab": {
          "base_uri": "https://localhost:8080/",
          "height": 699
        }
      },
      "source": [
        "plt.figure(figsize=(22, 10))\n",
        "plt.xticks(rotation=90)\n",
        "sns.boxplot(df_p['Rajonas'], df_p['Kaina'])"
      ],
      "execution_count": 0,
      "outputs": [
        {
          "output_type": "execute_result",
          "data": {
            "text/plain": [
              "<matplotlib.axes._subplots.AxesSubplot at 0x7f14cddc1828>"
            ]
          },
          "metadata": {
            "tags": []
          },
          "execution_count": 15
        },
        {
          "output_type": "display_data",
          "data": {
            "image/png": "[encoded data removed]",
            "text/plain": [
              "<Figure size 1584x720 with 1 Axes>"
            ]
          },
          "metadata": {
            "tags": []
          }
        }
      ]
    },
    {
      "cell_type": "markdown",
      "metadata": {
        "id": "WlpbNDxLDTWl",
        "colab_type": "text"
      },
      "source": [
        "## 2.2 Su Vilniuje registruotų žmonių duomenimis:"
      ]
    },
    {
      "cell_type": "markdown",
      "metadata": {
        "id": "twzdTI1ybK2Z",
        "colab_type": "text"
      },
      "source": [
        "### Registruotų gyventojų skaičius rajonuose:"
      ]
    },
    {
      "cell_type": "markdown",
      "metadata": {
        "id": "WO-39z0n8e1k",
        "colab_type": "text"
      },
      "source": [
        "Panagrinėjus būstų kainas, galime matyti kad tiek populiariuose, tiek nepopuliariuose rajonuose kainos yra panašios už tokio paties būto rodiklius. Todėl bandome išsiaiškinti kaip kainas įtakoja žmonių pasiskirstymas rajonuose."
      ]
    },
    {
      "cell_type": "code",
      "metadata": {
        "id": "Ueou5EpRbMzu",
        "colab_type": "code",
        "colab": {}
      },
      "source": [
        "rajonai=df_zmones[['SENIUNIJA','GATVE']].groupby('SENIUNIJA').count().reset_index().sort_values('GATVE', ascending=False)\n",
        "rajonai=rajonai.rename(columns={'GATVE':'Gyventojų skaičius'})\n",
        "rajonai_daug=rajonai.loc[rajonai['Gyventojų skaičius']>rajonai['Gyventojų skaičius'].mean()]\n",
        "rajonai_mazai=rajonai.loc[rajonai['Gyventojų skaičius']<rajonai['Gyventojų skaičius'].mean()]\n",
        "\n",
        "rajonai_kaina=df_p[['Kaina','Rajonas']]\n",
        "rajonai_kaina.loc[rajonai_kaina['Rajonas'].isin(rajonai_daug['SENIUNIJA'].tolist()), 'Gyventoju kiekis'] = 'Daug'\n",
        "rajonai_kaina['Gyventoju kiekis']=rajonai_kaina['Gyventoju kiekis'].fillna('Mažai')"
      ],
      "execution_count": 0,
      "outputs": []
    },
    {
      "cell_type": "code",
      "metadata": {
        "id": "jsV_WlBsjU73",
        "colab_type": "code",
        "outputId": "70857834-3769-432b-bcbf-d0b4a6a0368f",
        "colab": {
          "base_uri": "https://localhost:8080/",
          "height": 296
        }
      },
      "source": [
        "sns.boxplot(x='Gyventoju kiekis', y='Kaina', data=rajonai_kaina)"
      ],
      "execution_count": 0,
      "outputs": [
        {
          "output_type": "execute_result",
          "data": {
            "text/plain": [
              "<matplotlib.axes._subplots.AxesSubplot at 0x7f14c9225b70>"
            ]
          },
          "metadata": {
            "tags": []
          },
          "execution_count": 17
        },
        {
          "output_type": "display_data",
          "data": {
            "image/png": "[encoded data removed]",
            "text/plain": [
              "<Figure size 432x288 with 1 Axes>"
            ]
          },
          "metadata": {
            "tags": []
          }
        }
      ]
    },
    {
      "cell_type": "code",
      "metadata": {
        "id": "gmnwrgo_lSFF",
        "colab_type": "code",
        "outputId": "7e251c25-81b0-4737-9e9b-533750ead745",
        "colab": {
          "base_uri": "https://localhost:8080/",
          "height": 173
        }
      },
      "source": [
        "rajonai_kaina[['Gyventoju kiekis','Kaina']].groupby('Gyventoju kiekis').describe()"
      ],
      "execution_count": 0,
      "outputs": [
        {
          "output_type": "execute_result",
          "data": {
            "text/html": [
              "<div>\n",
              "<style scoped>\n",
              "    .dataframe tbody tr th:only-of-type {\n",
              "        vertical-align: middle;\n",
              "    }\n",
              "\n",
              "    .dataframe tbody tr th {\n",
              "        vertical-align: top;\n",
              "    }\n",
              "\n",
              "    .dataframe thead tr th {\n",
              "        text-align: left;\n",
              "    }\n",
              "\n",
              "    .dataframe thead tr:last-of-type th {\n",
              "        text-align: right;\n",
              "    }\n",
              "</style>\n",
              "<table border=\"1\" class=\"dataframe\">\n",
              "  <thead>\n",
              "    <tr>\n",
              "      <th></th>\n",
              "      <th colspan=\"8\" halign=\"left\">Kaina</th>\n",
              "    </tr>\n",
              "    <tr>\n",
              "      <th></th>\n",
              "      <th>count</th>\n",
              "      <th>mean</th>\n",
              "      <th>std</th>\n",
              "      <th>min</th>\n",
              "      <th>25%</th>\n",
              "      <th>50%</th>\n",
              "      <th>75%</th>\n",
              "      <th>max</th>\n",
              "    </tr>\n",
              "    <tr>\n",
              "      <th>Gyventoju kiekis</th>\n",
              "      <th></th>\n",
              "      <th></th>\n",
              "      <th></th>\n",
              "      <th></th>\n",
              "      <th></th>\n",
              "      <th></th>\n",
              "      <th></th>\n",
              "      <th></th>\n",
              "    </tr>\n",
              "  </thead>\n",
              "  <tbody>\n",
              "    <tr>\n",
              "      <th>Daug</th>\n",
              "      <td>1162.0</td>\n",
              "      <td>117565.341652</td>\n",
              "      <td>75376.247653</td>\n",
              "      <td>10900.0</td>\n",
              "      <td>72000.0</td>\n",
              "      <td>96250.0</td>\n",
              "      <td>142000.0</td>\n",
              "      <td>531875.0</td>\n",
              "    </tr>\n",
              "    <tr>\n",
              "      <th>Mažai</th>\n",
              "      <td>1966.0</td>\n",
              "      <td>138485.941506</td>\n",
              "      <td>93090.240393</td>\n",
              "      <td>11100.0</td>\n",
              "      <td>77000.0</td>\n",
              "      <td>110850.0</td>\n",
              "      <td>175000.0</td>\n",
              "      <td>530000.0</td>\n",
              "    </tr>\n",
              "  </tbody>\n",
              "</table>\n",
              "</div>"
            ],
            "text/plain": [
              "                   Kaina                 ...                    \n",
              "                   count           mean  ...       75%       max\n",
              "Gyventoju kiekis                         ...                    \n",
              "Daug              1162.0  117565.341652  ...  142000.0  531875.0\n",
              "Mažai             1966.0  138485.941506  ...  175000.0  530000.0\n",
              "\n",
              "[2 rows x 8 columns]"
            ]
          },
          "metadata": {
            "tags": []
          },
          "execution_count": 18
        }
      ]
    },
    {
      "cell_type": "markdown",
      "metadata": {
        "id": "TdkaJNzXlktz",
        "colab_type": "text"
      },
      "source": [
        "Kaip ir galima tikėtis, rajonuose, kur yra mažiau registruotų gyventojų, butų kaina yra didesnė: Vilniečiai vertina erdvę ir nori jog joje nebūtų sausakimša žmonių."
      ]
    },
    {
      "cell_type": "markdown",
      "metadata": {
        "id": "W2hN9dcM-rzJ",
        "colab_type": "text"
      },
      "source": [
        "### Rajonų kainos pagal vyriausius ir seniausius jos gyventojus."
      ]
    },
    {
      "cell_type": "code",
      "metadata": {
        "id": "X5j7lTOlyDSz",
        "colab_type": "code",
        "outputId": "67798925-a4f2-42f1-e7f8-d5f29932b1b1",
        "colab": {
          "base_uri": "https://localhost:8080/",
          "height": 459
        }
      },
      "source": [
        "#### Zmoniu amzius rajonuose:\n",
        "print('Jaunesi zmones gyvena siuose rajonuose: ')\n",
        "jauniausi=df_zmones_ramzius.loc[df_zmones_ramzius['GIMIMO_METAI'] > df_zmones_ramzius.mean()[0]].sort_values('GIMIMO_METAI', ascending=False)\n",
        "print(jauniausi)\n",
        "\n",
        "print()\n",
        "print('Vyriausi zmones gyvena siuose rajonuose: ')\n",
        "vyriausi=df_zmones_ramzius.loc[df_zmones_ramzius['GIMIMO_METAI'] < df_zmones_ramzius.mean()[0]].sort_values('GIMIMO_METAI', ascending=False)\n",
        "print(vyriausi)"
      ],
      "execution_count": 0,
      "outputs": [
        {
          "output_type": "stream",
          "text": [
            "Jaunesi zmones gyvena siuose rajonuose: \n",
            "          SENIUNIJA  GIMIMO_METAI\n",
            "11          Pilaitė   1983.857032\n",
            "10      Pašilaičiai   1983.298610\n",
            "14          Verkiai   1981.961792\n",
            "20         Žvėrynas   1980.676330\n",
            "13      Senamiestis   1980.067662\n",
            "9          Paneriai   1979.903967\n",
            "6      Naujamiestis   1979.499176\n",
            "8   Naujoji  Vilnia   1979.306285\n",
            "1      Fabijoniškės   1979.068036\n",
            "12            Rasos   1978.779927\n",
            "0        Antakalnis   1978.488229\n",
            "\n",
            "Vyriausi zmones gyvena siuose rajonuose: \n",
            "       SENIUNIJA  GIMIMO_METAI\n",
            "18     Šnipiškės   1977.436839\n",
            "2      Grigiškės   1977.185287\n",
            "7    Naujininkai   1977.013880\n",
            "5       Lazdynai   1976.617538\n",
            "3    Justiniškės   1976.239342\n",
            "19      Žirmūnai   1975.742953\n",
            "15      Vilkpėdė   1975.141642\n",
            "16   Viršuliškės   1974.770873\n",
            "17       Šeškinė   1974.742458\n",
            "4   Karoliniškės   1973.254760\n"
          ],
          "name": "stdout"
        }
      ]
    },
    {
      "cell_type": "markdown",
      "metadata": {
        "id": "fhWpQHzF-0c8",
        "colab_type": "text"
      },
      "source": [
        "Kai turime rajonus su vyriausiais ir seniausiais gyventojais, pažiūrėkime, kaip skirasi kainos. Pagal idėją, rajonuose, kur žmonės yra jauniausi, kainos butų kainos turėtų būti didžiausios."
      ]
    },
    {
      "cell_type": "code",
      "metadata": {
        "id": "majfD8g3-_qr",
        "colab_type": "code",
        "colab": {}
      },
      "source": [
        "# pasidarome sarašą rajonų kur yra jauniausi ir seniausi gyventojai kad galėtume atsifiltruoti butus.\n",
        "v_sarasas=vyriausi['SENIUNIJA'].tolist()\n",
        "j_sarasas=jauniausi['SENIUNIJA'].tolist()\n",
        "\n",
        "kainu_skirtumai_amzius=df_p[['Rajonas','Kaina']]\n",
        "kainu_skirtumai_amzius.loc[kainu_skirtumai['Rajonas'].isin(v_sarasas), 'Gyventojai'] = 'Vyriausi'\n",
        "kainu_skirtumai_amzius['Gyventojai']=kainu_skirtumai_amzius['Gyventojai'].fillna('Jauniausi')"
      ],
      "execution_count": 0,
      "outputs": []
    },
    {
      "cell_type": "markdown",
      "metadata": {
        "id": "9aZNgRtUAyqj",
        "colab_type": "text"
      },
      "source": [
        "Vizualus kainu pasiskirstymas:"
      ]
    },
    {
      "cell_type": "code",
      "metadata": {
        "id": "MB-doCCmAmV6",
        "colab_type": "code",
        "outputId": "768d90b5-e981-43be-b9ec-06bcb2bceffd",
        "colab": {
          "base_uri": "https://localhost:8080/",
          "height": 296
        }
      },
      "source": [
        "sns.boxplot(x='Gyventojai', y='Kaina', data=kainu_skirtumai_amzius)"
      ],
      "execution_count": 0,
      "outputs": [
        {
          "output_type": "execute_result",
          "data": {
            "text/plain": [
              "<matplotlib.axes._subplots.AxesSubplot at 0x7f14c955bc18>"
            ]
          },
          "metadata": {
            "tags": []
          },
          "execution_count": 21
        },
        {
          "output_type": "display_data",
          "data": {
            "image/png": "[encoded data removed]",
            "text/plain": [
              "<Figure size 432x288 with 1 Axes>"
            ]
          },
          "metadata": {
            "tags": []
          }
        }
      ]
    },
    {
      "cell_type": "code",
      "metadata": {
        "id": "271qsk6cA37S",
        "colab_type": "code",
        "outputId": "dd091f45-8a88-4085-eed8-8877b197d79a",
        "colab": {
          "base_uri": "https://localhost:8080/",
          "height": 173
        }
      },
      "source": [
        "kainu_skirtumai_amzius[['Gyventojai','Kaina']].groupby('Gyventojai').describe()"
      ],
      "execution_count": 0,
      "outputs": [
        {
          "output_type": "execute_result",
          "data": {
            "text/html": [
              "<div>\n",
              "<style scoped>\n",
              "    .dataframe tbody tr th:only-of-type {\n",
              "        vertical-align: middle;\n",
              "    }\n",
              "\n",
              "    .dataframe tbody tr th {\n",
              "        vertical-align: top;\n",
              "    }\n",
              "\n",
              "    .dataframe thead tr th {\n",
              "        text-align: left;\n",
              "    }\n",
              "\n",
              "    .dataframe thead tr:last-of-type th {\n",
              "        text-align: right;\n",
              "    }\n",
              "</style>\n",
              "<table border=\"1\" class=\"dataframe\">\n",
              "  <thead>\n",
              "    <tr>\n",
              "      <th></th>\n",
              "      <th colspan=\"8\" halign=\"left\">Kaina</th>\n",
              "    </tr>\n",
              "    <tr>\n",
              "      <th></th>\n",
              "      <th>count</th>\n",
              "      <th>mean</th>\n",
              "      <th>std</th>\n",
              "      <th>min</th>\n",
              "      <th>25%</th>\n",
              "      <th>50%</th>\n",
              "      <th>75%</th>\n",
              "      <th>max</th>\n",
              "    </tr>\n",
              "    <tr>\n",
              "      <th>Gyventojai</th>\n",
              "      <th></th>\n",
              "      <th></th>\n",
              "      <th></th>\n",
              "      <th></th>\n",
              "      <th></th>\n",
              "      <th></th>\n",
              "      <th></th>\n",
              "      <th></th>\n",
              "    </tr>\n",
              "  </thead>\n",
              "  <tbody>\n",
              "    <tr>\n",
              "      <th>Jauniausi</th>\n",
              "      <td>2316.0</td>\n",
              "      <td>139371.112263</td>\n",
              "      <td>91342.589399</td>\n",
              "      <td>11100.0</td>\n",
              "      <td>79900.0</td>\n",
              "      <td>112000.0</td>\n",
              "      <td>172000.00</td>\n",
              "      <td>531875.0</td>\n",
              "    </tr>\n",
              "    <tr>\n",
              "      <th>Vyriausi</th>\n",
              "      <td>812.0</td>\n",
              "      <td>106023.142857</td>\n",
              "      <td>69881.994455</td>\n",
              "      <td>10900.0</td>\n",
              "      <td>64000.0</td>\n",
              "      <td>87950.0</td>\n",
              "      <td>130916.25</td>\n",
              "      <td>504906.0</td>\n",
              "    </tr>\n",
              "  </tbody>\n",
              "</table>\n",
              "</div>"
            ],
            "text/plain": [
              "             Kaina                               ...                               \n",
              "             count           mean           std  ...       50%        75%       max\n",
              "Gyventojai                                       ...                               \n",
              "Jauniausi   2316.0  139371.112263  91342.589399  ...  112000.0  172000.00  531875.0\n",
              "Vyriausi     812.0  106023.142857  69881.994455  ...   87950.0  130916.25  504906.0\n",
              "\n",
              "[2 rows x 8 columns]"
            ]
          },
          "metadata": {
            "tags": []
          },
          "execution_count": 22
        }
      ]
    },
    {
      "cell_type": "markdown",
      "metadata": {
        "id": "ZbI7konPA_rP",
        "colab_type": "text"
      },
      "source": [
        "Kaip ir buvo galima tikėtis: rajonai, kuriuose gyvena jaunesni žmonės yra populiaresni - skelbimų yra ~3 daugiau.\n",
        "\n",
        "\n",
        "\n",
        "**Panašumai**\n",
        "*   Abiejuose rajonuose yra daugiabučio tipo butų - tai galime sakyti iš itin žemos kainos (~10k)\n",
        "*   Mediana itin ryškiai skiriasi: jaunesnių žmonių rajonuose daugiausia būtų yra apie 112k eurų ribą, tuo tarpu pas vyresnius - 88k.\n",
        "*   Abiejuose rajonuose yra prabangių butų kurių kaina siekia pusę milijono.\n",
        "\n",
        "**Skirtumai**\n",
        "\n",
        "*   Kad gyventume su jaunesniais Vilniaus gyventojais,  vidutiniškai turime permokėti 34k.\n",
        "*   Permokėjimo rėžiai: jaunesnių žmonių rajonuose kainos režiai yra 111-172k, tuo tarpu vyresnių - 109-131k. Galime teigti, bendrai, apimant visus skelbimus, kad gyvenimas tarp jaunų žmonių mums papildomai kainuoja 2-41k eurų."
      ]
    },
    {
      "cell_type": "markdown",
      "metadata": {
        "id": "Cug7qnLUC2UL",
        "colab_type": "text"
      },
      "source": [
        "### Ar populiarūs rajonai yra tie patys, kuriuose gyvena jaunesni žmonės?"
      ]
    },
    {
      "cell_type": "code",
      "metadata": {
        "id": "TWxuKt-tFn1x",
        "colab_type": "code",
        "colab": {}
      },
      "source": [
        "# sudarome bendrą lentelę su populiariais rajonais ir amžiumi.\n",
        "kainu_skirtumai_bendras=kainu_skirtumai\n",
        "kainu_skirtumai_bendras.loc[kainu_skirtumai_bendras['Rajonas'].isin(v_sarasas), 'Gyventojai'] = 'Vyriausi'\n",
        "kainu_skirtumai_bendras['Gyventojai']=kainu_skirtumai_bendras['Gyventojai'].fillna('Jauniausi')"
      ],
      "execution_count": 0,
      "outputs": []
    },
    {
      "cell_type": "code",
      "metadata": {
        "id": "BQadtEnfItpo",
        "colab_type": "code",
        "outputId": "0fcfba0b-4906-4fdc-9063-8ba551c6df80",
        "colab": {
          "base_uri": "https://localhost:8080/",
          "height": 386
        }
      },
      "source": [
        "sns.catplot(y='Kaina', x=\"Populiarumas\", hue=\"Gyventojai\", data=kainu_skirtumai_bendras, kind='bar', height=5, aspect=.7)"
      ],
      "execution_count": 0,
      "outputs": [
        {
          "output_type": "execute_result",
          "data": {
            "text/plain": [
              "<seaborn.axisgrid.FacetGrid at 0x7f14c9726470>"
            ]
          },
          "metadata": {
            "tags": []
          },
          "execution_count": 24
        },
        {
          "output_type": "display_data",
          "data": {
            "image/png": "[encoded data removed]",
            "text/plain": [
              "<Figure size 333.25x360 with 1 Axes>"
            ]
          },
          "metadata": {
            "tags": []
          }
        }
      ]
    },
    {
      "cell_type": "markdown",
      "metadata": {
        "id": "CDf7_kelL5Yy",
        "colab_type": "text"
      },
      "source": [
        "Galime matyti, jog jaunesnių žmonių, vis dėl to yra daugiau populiariuose rajonuose, nei nepopuliariuose, bei tai:\n",
        "\n",
        "\n",
        "\n",
        "*   Jei norime gyventi tarp **jaunesnių gyventojų** ir **populiariame rajone**: vidutiniškai mokėsime **143k** už būtą.\n",
        "*   Jei norime gyventi tarp **jaunesnių gyventojų** bet **ne populiariame rajone**: vidutiniškai mokėsime **117k** už butą.\n",
        "\n",
        "\n",
        "\n",
        "*   Jei norime gyventi tarp **vyresnių gyventojų** ir **populiariame rajone**: vidutiniškai mokėsime **109** už būtą.\n",
        "*   Jei norime gyventi tarp **vyresnių gyventojų** bet **ne populiariame rajone**: vidutiniškai mokėsime **78k** už butą.\n",
        "\n",
        "\n",
        "\n",
        "\n",
        "\n"
      ]
    },
    {
      "cell_type": "code",
      "metadata": {
        "id": "3F6QsVtBGSkE",
        "colab_type": "code",
        "outputId": "b6d64e23-84fd-4836-8e71-328ddd52d890",
        "colab": {
          "base_uri": "https://localhost:8080/",
          "height": 235
        }
      },
      "source": [
        "kainu_skirtumai_bendras[['Populiarumas', 'Gyventojai', 'Kaina']].groupby(['Populiarumas', 'Gyventojai']).describe()"
      ],
      "execution_count": 0,
      "outputs": [
        {
          "output_type": "execute_result",
          "data": {
            "text/html": [
              "<div>\n",
              "<style scoped>\n",
              "    .dataframe tbody tr th:only-of-type {\n",
              "        vertical-align: middle;\n",
              "    }\n",
              "\n",
              "    .dataframe tbody tr th {\n",
              "        vertical-align: top;\n",
              "    }\n",
              "\n",
              "    .dataframe thead tr th {\n",
              "        text-align: left;\n",
              "    }\n",
              "\n",
              "    .dataframe thead tr:last-of-type th {\n",
              "        text-align: right;\n",
              "    }\n",
              "</style>\n",
              "<table border=\"1\" class=\"dataframe\">\n",
              "  <thead>\n",
              "    <tr>\n",
              "      <th></th>\n",
              "      <th></th>\n",
              "      <th colspan=\"8\" halign=\"left\">Kaina</th>\n",
              "    </tr>\n",
              "    <tr>\n",
              "      <th></th>\n",
              "      <th></th>\n",
              "      <th>count</th>\n",
              "      <th>mean</th>\n",
              "      <th>std</th>\n",
              "      <th>min</th>\n",
              "      <th>25%</th>\n",
              "      <th>50%</th>\n",
              "      <th>75%</th>\n",
              "      <th>max</th>\n",
              "    </tr>\n",
              "    <tr>\n",
              "      <th>Populiarumas</th>\n",
              "      <th>Gyventojai</th>\n",
              "      <th></th>\n",
              "      <th></th>\n",
              "      <th></th>\n",
              "      <th></th>\n",
              "      <th></th>\n",
              "      <th></th>\n",
              "      <th></th>\n",
              "      <th></th>\n",
              "    </tr>\n",
              "  </thead>\n",
              "  <tbody>\n",
              "    <tr>\n",
              "      <th rowspan=\"2\" valign=\"top\">BOT</th>\n",
              "      <th>Jauniausi</th>\n",
              "      <td>382.0</td>\n",
              "      <td>117105.850785</td>\n",
              "      <td>71273.847712</td>\n",
              "      <td>11100.0</td>\n",
              "      <td>69000.0</td>\n",
              "      <td>103500.0</td>\n",
              "      <td>144000.0</td>\n",
              "      <td>465000.0</td>\n",
              "    </tr>\n",
              "    <tr>\n",
              "      <th>Vyriausi</th>\n",
              "      <td>81.0</td>\n",
              "      <td>77938.827160</td>\n",
              "      <td>37891.151572</td>\n",
              "      <td>12499.0</td>\n",
              "      <td>57000.0</td>\n",
              "      <td>71900.0</td>\n",
              "      <td>89000.0</td>\n",
              "      <td>195000.0</td>\n",
              "    </tr>\n",
              "    <tr>\n",
              "      <th rowspan=\"2\" valign=\"top\">TOP</th>\n",
              "      <th>Jauniausi</th>\n",
              "      <td>1934.0</td>\n",
              "      <td>143768.904343</td>\n",
              "      <td>94200.385608</td>\n",
              "      <td>11800.0</td>\n",
              "      <td>80000.0</td>\n",
              "      <td>115000.0</td>\n",
              "      <td>180000.0</td>\n",
              "      <td>531875.0</td>\n",
              "    </tr>\n",
              "    <tr>\n",
              "      <th>Vyriausi</th>\n",
              "      <td>731.0</td>\n",
              "      <td>109135.084815</td>\n",
              "      <td>71908.309435</td>\n",
              "      <td>10900.0</td>\n",
              "      <td>65000.0</td>\n",
              "      <td>90000.0</td>\n",
              "      <td>135000.0</td>\n",
              "      <td>504906.0</td>\n",
              "    </tr>\n",
              "  </tbody>\n",
              "</table>\n",
              "</div>"
            ],
            "text/plain": [
              "                          Kaina                 ...                    \n",
              "                          count           mean  ...       75%       max\n",
              "Populiarumas Gyventojai                         ...                    \n",
              "BOT          Jauniausi    382.0  117105.850785  ...  144000.0  465000.0\n",
              "             Vyriausi      81.0   77938.827160  ...   89000.0  195000.0\n",
              "TOP          Jauniausi   1934.0  143768.904343  ...  180000.0  531875.0\n",
              "             Vyriausi     731.0  109135.084815  ...  135000.0  504906.0\n",
              "\n",
              "[4 rows x 8 columns]"
            ]
          },
          "metadata": {
            "tags": []
          },
          "execution_count": 25
        }
      ]
    },
    {
      "cell_type": "markdown",
      "metadata": {
        "id": "JmCxQD424tKA",
        "colab_type": "text"
      },
      "source": [
        "### Popliarūs rajonai, žmonių kiekis ir jų amžius"
      ]
    },
    {
      "cell_type": "code",
      "metadata": {
        "id": "PM3txoK441pQ",
        "colab_type": "code",
        "outputId": "953e24c6-ed03-407d-9edc-a2a436f3df34",
        "colab": {
          "base_uri": "https://localhost:8080/",
          "height": 419
        }
      },
      "source": [
        "kainu_skirtumai_bendras=pd.concat([kainu_skirtumai_bendras,rajonai_kaina['Gyventoju kiekis']], axis=1)\n",
        "kainu_skirtumai_bendras"
      ],
      "execution_count": 0,
      "outputs": [
        {
          "output_type": "execute_result",
          "data": {
            "text/html": [
              "<div>\n",
              "<style scoped>\n",
              "    .dataframe tbody tr th:only-of-type {\n",
              "        vertical-align: middle;\n",
              "    }\n",
              "\n",
              "    .dataframe tbody tr th {\n",
              "        vertical-align: top;\n",
              "    }\n",
              "\n",
              "    .dataframe thead th {\n",
              "        text-align: right;\n",
              "    }\n",
              "</style>\n",
              "<table border=\"1\" class=\"dataframe\">\n",
              "  <thead>\n",
              "    <tr style=\"text-align: right;\">\n",
              "      <th></th>\n",
              "      <th>Rajonas</th>\n",
              "      <th>Kaina</th>\n",
              "      <th>Populiarumas</th>\n",
              "      <th>Gyventojai</th>\n",
              "      <th>Gyventoju kiekis</th>\n",
              "    </tr>\n",
              "  </thead>\n",
              "  <tbody>\n",
              "    <tr>\n",
              "      <th>0</th>\n",
              "      <td>Lazdynėliai</td>\n",
              "      <td>69070</td>\n",
              "      <td>TOP</td>\n",
              "      <td>Jauniausi</td>\n",
              "      <td>Mažai</td>\n",
              "    </tr>\n",
              "    <tr>\n",
              "      <th>1</th>\n",
              "      <td>Pašilaičiai</td>\n",
              "      <td>74200</td>\n",
              "      <td>TOP</td>\n",
              "      <td>Jauniausi</td>\n",
              "      <td>Daug</td>\n",
              "    </tr>\n",
              "    <tr>\n",
              "      <th>2</th>\n",
              "      <td>Balsiai</td>\n",
              "      <td>99000</td>\n",
              "      <td>BOT</td>\n",
              "      <td>Jauniausi</td>\n",
              "      <td>Mažai</td>\n",
              "    </tr>\n",
              "    <tr>\n",
              "      <th>3</th>\n",
              "      <td>Bajorai</td>\n",
              "      <td>108800</td>\n",
              "      <td>TOP</td>\n",
              "      <td>Jauniausi</td>\n",
              "      <td>Mažai</td>\n",
              "    </tr>\n",
              "    <tr>\n",
              "      <th>4</th>\n",
              "      <td>Antakalnis</td>\n",
              "      <td>155000</td>\n",
              "      <td>TOP</td>\n",
              "      <td>Jauniausi</td>\n",
              "      <td>Daug</td>\n",
              "    </tr>\n",
              "    <tr>\n",
              "      <th>...</th>\n",
              "      <td>...</td>\n",
              "      <td>...</td>\n",
              "      <td>...</td>\n",
              "      <td>...</td>\n",
              "      <td>...</td>\n",
              "    </tr>\n",
              "    <tr>\n",
              "      <th>3199</th>\n",
              "      <td>Naujamiestis</td>\n",
              "      <td>57000</td>\n",
              "      <td>TOP</td>\n",
              "      <td>Jauniausi</td>\n",
              "      <td>Daug</td>\n",
              "    </tr>\n",
              "    <tr>\n",
              "      <th>3200</th>\n",
              "      <td>Senamiestis</td>\n",
              "      <td>304000</td>\n",
              "      <td>TOP</td>\n",
              "      <td>Jauniausi</td>\n",
              "      <td>Mažai</td>\n",
              "    </tr>\n",
              "    <tr>\n",
              "      <th>3201</th>\n",
              "      <td>Naujininkai</td>\n",
              "      <td>15308</td>\n",
              "      <td>TOP</td>\n",
              "      <td>Vyriausi</td>\n",
              "      <td>Daug</td>\n",
              "    </tr>\n",
              "    <tr>\n",
              "      <th>3202</th>\n",
              "      <td>Fabijoniškės</td>\n",
              "      <td>47787</td>\n",
              "      <td>TOP</td>\n",
              "      <td>Jauniausi</td>\n",
              "      <td>Daug</td>\n",
              "    </tr>\n",
              "    <tr>\n",
              "      <th>3203</th>\n",
              "      <td>Žvėrynas</td>\n",
              "      <td>193000</td>\n",
              "      <td>TOP</td>\n",
              "      <td>Jauniausi</td>\n",
              "      <td>Mažai</td>\n",
              "    </tr>\n",
              "  </tbody>\n",
              "</table>\n",
              "<p>3128 rows × 5 columns</p>\n",
              "</div>"
            ],
            "text/plain": [
              "           Rajonas   Kaina Populiarumas Gyventojai Gyventoju kiekis\n",
              "0      Lazdynėliai   69070          TOP  Jauniausi            Mažai\n",
              "1      Pašilaičiai   74200          TOP  Jauniausi             Daug\n",
              "2          Balsiai   99000          BOT  Jauniausi            Mažai\n",
              "3          Bajorai  108800          TOP  Jauniausi            Mažai\n",
              "4       Antakalnis  155000          TOP  Jauniausi             Daug\n",
              "...            ...     ...          ...        ...              ...\n",
              "3199  Naujamiestis   57000          TOP  Jauniausi             Daug\n",
              "3200   Senamiestis  304000          TOP  Jauniausi            Mažai\n",
              "3201   Naujininkai   15308          TOP   Vyriausi             Daug\n",
              "3202  Fabijoniškės   47787          TOP  Jauniausi             Daug\n",
              "3203      Žvėrynas  193000          TOP  Jauniausi            Mažai\n",
              "\n",
              "[3128 rows x 5 columns]"
            ]
          },
          "metadata": {
            "tags": []
          },
          "execution_count": 174
        }
      ]
    },
    {
      "cell_type": "code",
      "metadata": {
        "id": "aAY_BLtz7Ak0",
        "colab_type": "code",
        "outputId": "7e80e4ce-c70c-4310-97a7-751c28b73116",
        "colab": {
          "base_uri": "https://localhost:8080/",
          "height": 386
        }
      },
      "source": [
        "sns.catplot(y='Kaina', x=\"Populiarumas\", hue=\"Gyventojai\", col='Gyventoju kiekis', data=qwewer, kind='bar', height=5, aspect=.7)"
      ],
      "execution_count": 0,
      "outputs": [
        {
          "output_type": "execute_result",
          "data": {
            "text/plain": [
              "<seaborn.axisgrid.FacetGrid at 0x7f14baf27a20>"
            ]
          },
          "metadata": {
            "tags": []
          },
          "execution_count": 172
        },
        {
          "output_type": "display_data",
          "data": {
            "image/png": "[encoded data removed]",
            "text/plain": [
              "<Figure size 585.25x360 with 2 Axes>"
            ]
          },
          "metadata": {
            "tags": []
          }
        }
      ]
    },
    {
      "cell_type": "code",
      "metadata": {
        "id": "jAlUMRzA8Kkf",
        "colab_type": "code",
        "outputId": "dc673bc8-e142-4ecd-fd81-e0635e4cfcf7",
        "colab": {
          "base_uri": "https://localhost:8080/",
          "height": 328
        }
      },
      "source": [
        "kainu_skirtumai_bendras[['Populiarumas', 'Gyventojai', 'Kaina','Gyventoju kiekis']].groupby(['Populiarumas', 'Gyventojai','Gyventoju kiekis']).describe()"
      ],
      "execution_count": 0,
      "outputs": [
        {
          "output_type": "execute_result",
          "data": {
            "text/html": [
              "<div>\n",
              "<style scoped>\n",
              "    .dataframe tbody tr th:only-of-type {\n",
              "        vertical-align: middle;\n",
              "    }\n",
              "\n",
              "    .dataframe tbody tr th {\n",
              "        vertical-align: top;\n",
              "    }\n",
              "\n",
              "    .dataframe thead tr th {\n",
              "        text-align: left;\n",
              "    }\n",
              "\n",
              "    .dataframe thead tr:last-of-type th {\n",
              "        text-align: right;\n",
              "    }\n",
              "</style>\n",
              "<table border=\"1\" class=\"dataframe\">\n",
              "  <thead>\n",
              "    <tr>\n",
              "      <th></th>\n",
              "      <th></th>\n",
              "      <th></th>\n",
              "      <th colspan=\"8\" halign=\"left\">Kaina</th>\n",
              "    </tr>\n",
              "    <tr>\n",
              "      <th></th>\n",
              "      <th></th>\n",
              "      <th></th>\n",
              "      <th>count</th>\n",
              "      <th>mean</th>\n",
              "      <th>std</th>\n",
              "      <th>min</th>\n",
              "      <th>25%</th>\n",
              "      <th>50%</th>\n",
              "      <th>75%</th>\n",
              "      <th>max</th>\n",
              "    </tr>\n",
              "    <tr>\n",
              "      <th>Populiarumas</th>\n",
              "      <th>Gyventojai</th>\n",
              "      <th>Gyventoju kiekis</th>\n",
              "      <th></th>\n",
              "      <th></th>\n",
              "      <th></th>\n",
              "      <th></th>\n",
              "      <th></th>\n",
              "      <th></th>\n",
              "      <th></th>\n",
              "      <th></th>\n",
              "    </tr>\n",
              "  </thead>\n",
              "  <tbody>\n",
              "    <tr>\n",
              "      <th rowspan=\"3\" valign=\"top\">BOT</th>\n",
              "      <th rowspan=\"2\" valign=\"top\">Jauniausi</th>\n",
              "      <th>Daug</th>\n",
              "      <td>21.0</td>\n",
              "      <td>153674.761905</td>\n",
              "      <td>122846.294841</td>\n",
              "      <td>25000.0</td>\n",
              "      <td>66800.0</td>\n",
              "      <td>101500.0</td>\n",
              "      <td>185000.0</td>\n",
              "      <td>465000.0</td>\n",
              "    </tr>\n",
              "    <tr>\n",
              "      <th>Mažai</th>\n",
              "      <td>361.0</td>\n",
              "      <td>114978.573407</td>\n",
              "      <td>66748.375155</td>\n",
              "      <td>11100.0</td>\n",
              "      <td>69000.0</td>\n",
              "      <td>104000.0</td>\n",
              "      <td>144000.0</td>\n",
              "      <td>395000.0</td>\n",
              "    </tr>\n",
              "    <tr>\n",
              "      <th>Vyriausi</th>\n",
              "      <th>Mažai</th>\n",
              "      <td>81.0</td>\n",
              "      <td>77938.827160</td>\n",
              "      <td>37891.151572</td>\n",
              "      <td>12499.0</td>\n",
              "      <td>57000.0</td>\n",
              "      <td>71900.0</td>\n",
              "      <td>89000.0</td>\n",
              "      <td>195000.0</td>\n",
              "    </tr>\n",
              "    <tr>\n",
              "      <th rowspan=\"4\" valign=\"top\">TOP</th>\n",
              "      <th rowspan=\"2\" valign=\"top\">Jauniausi</th>\n",
              "      <th>Daug</th>\n",
              "      <td>781.0</td>\n",
              "      <td>125452.037132</td>\n",
              "      <td>76512.771588</td>\n",
              "      <td>18500.0</td>\n",
              "      <td>78000.0</td>\n",
              "      <td>102000.0</td>\n",
              "      <td>149900.0</td>\n",
              "      <td>531875.0</td>\n",
              "    </tr>\n",
              "    <tr>\n",
              "      <th>Mažai</th>\n",
              "      <td>1153.0</td>\n",
              "      <td>156176.079792</td>\n",
              "      <td>102685.660486</td>\n",
              "      <td>11800.0</td>\n",
              "      <td>85000.0</td>\n",
              "      <td>122000.0</td>\n",
              "      <td>203000.0</td>\n",
              "      <td>530000.0</td>\n",
              "    </tr>\n",
              "    <tr>\n",
              "      <th rowspan=\"2\" valign=\"top\">Vyriausi</th>\n",
              "      <th>Daug</th>\n",
              "      <td>360.0</td>\n",
              "      <td>98349.211111</td>\n",
              "      <td>65054.423342</td>\n",
              "      <td>10900.0</td>\n",
              "      <td>61375.0</td>\n",
              "      <td>84900.0</td>\n",
              "      <td>120000.0</td>\n",
              "      <td>465000.0</td>\n",
              "    </tr>\n",
              "    <tr>\n",
              "      <th>Mažai</th>\n",
              "      <td>371.0</td>\n",
              "      <td>119601.161725</td>\n",
              "      <td>76632.716823</td>\n",
              "      <td>11900.0</td>\n",
              "      <td>69900.0</td>\n",
              "      <td>97000.0</td>\n",
              "      <td>147900.0</td>\n",
              "      <td>504906.0</td>\n",
              "    </tr>\n",
              "  </tbody>\n",
              "</table>\n",
              "</div>"
            ],
            "text/plain": [
              "                                           Kaina  ...          \n",
              "                                           count  ...       max\n",
              "Populiarumas Gyventojai Gyventoju kiekis          ...          \n",
              "BOT          Jauniausi  Daug                21.0  ...  465000.0\n",
              "                        Mažai              361.0  ...  395000.0\n",
              "             Vyriausi   Mažai               81.0  ...  195000.0\n",
              "TOP          Jauniausi  Daug               781.0  ...  531875.0\n",
              "                        Mažai             1153.0  ...  530000.0\n",
              "             Vyriausi   Daug               360.0  ...  465000.0\n",
              "                        Mažai              371.0  ...  504906.0\n",
              "\n",
              "[7 rows x 8 columns]"
            ]
          },
          "metadata": {
            "tags": []
          },
          "execution_count": 175
        }
      ]
    },
    {
      "cell_type": "markdown",
      "metadata": {
        "id": "FaB0SWLbOV9L",
        "colab_type": "text"
      },
      "source": [
        "### Lyties pasiskirstymas Vilniuje"
      ]
    },
    {
      "cell_type": "markdown",
      "metadata": {
        "id": "qFLuXC23bgDd",
        "colab_type": "text"
      },
      "source": [
        "Registruotų moterų gyvenančių Vilniuje yra 313k, tuo tarpu vyrų - 269k."
      ]
    },
    {
      "cell_type": "code",
      "metadata": {
        "id": "Hf5lQtboaeR4",
        "colab_type": "code",
        "outputId": "50ec672f-a526-4706-f319-7fbcc819395c",
        "colab": {
          "base_uri": "https://localhost:8080/",
          "height": 296
        }
      },
      "source": [
        "sns.countplot(x='LYTIS', data=df_zmones_pilnas)"
      ],
      "execution_count": 0,
      "outputs": [
        {
          "output_type": "execute_result",
          "data": {
            "text/plain": [
              "<matplotlib.axes._subplots.AxesSubplot at 0x7f14bb58ce80>"
            ]
          },
          "metadata": {
            "tags": []
          },
          "execution_count": 106
        },
        {
          "output_type": "display_data",
          "data": {
            "image/png": "[encoded data removed]",
            "text/plain": [
              "<Figure size 432x288 with 1 Axes>"
            ]
          },
          "metadata": {
            "tags": []
          }
        }
      ]
    },
    {
      "cell_type": "code",
      "metadata": {
        "id": "VEIA-il9a8MI",
        "colab_type": "code",
        "outputId": "0283f507-6ca5-4f79-cc3f-9f5872f1e61b",
        "colab": {
          "base_uri": "https://localhost:8080/",
          "height": 142
        }
      },
      "source": [
        "df_zmones_pilnas.groupby('LYTIS').count()"
      ],
      "execution_count": 0,
      "outputs": [
        {
          "output_type": "execute_result",
          "data": {
            "text/html": [
              "<div>\n",
              "<style scoped>\n",
              "    .dataframe tbody tr th:only-of-type {\n",
              "        vertical-align: middle;\n",
              "    }\n",
              "\n",
              "    .dataframe tbody tr th {\n",
              "        vertical-align: top;\n",
              "    }\n",
              "\n",
              "    .dataframe thead th {\n",
              "        text-align: right;\n",
              "    }\n",
              "</style>\n",
              "<table border=\"1\" class=\"dataframe\">\n",
              "  <thead>\n",
              "    <tr style=\"text-align: right;\">\n",
              "      <th></th>\n",
              "      <th>GIMIMO_METAI</th>\n",
              "      <th>SEIMOS_PADETIS</th>\n",
              "      <th>KIEK_TURI_VAIKU</th>\n",
              "      <th>SENIUNIJA</th>\n",
              "      <th>GATVE</th>\n",
              "    </tr>\n",
              "    <tr>\n",
              "      <th>LYTIS</th>\n",
              "      <th></th>\n",
              "      <th></th>\n",
              "      <th></th>\n",
              "      <th></th>\n",
              "      <th></th>\n",
              "    </tr>\n",
              "  </thead>\n",
              "  <tbody>\n",
              "    <tr>\n",
              "      <th>M</th>\n",
              "      <td>313231</td>\n",
              "      <td>313231</td>\n",
              "      <td>313231</td>\n",
              "      <td>310050</td>\n",
              "      <td>310050</td>\n",
              "    </tr>\n",
              "    <tr>\n",
              "      <th>V</th>\n",
              "      <td>269296</td>\n",
              "      <td>269296</td>\n",
              "      <td>269296</td>\n",
              "      <td>265432</td>\n",
              "      <td>265432</td>\n",
              "    </tr>\n",
              "  </tbody>\n",
              "</table>\n",
              "</div>"
            ],
            "text/plain": [
              "       GIMIMO_METAI  SEIMOS_PADETIS  KIEK_TURI_VAIKU  SENIUNIJA   GATVE\n",
              "LYTIS                                                                  \n",
              "M            313231          313231           313231     310050  310050\n",
              "V            269296          269296           269296     265432  265432"
            ]
          },
          "metadata": {
            "tags": []
          },
          "execution_count": 27
        }
      ]
    },
    {
      "cell_type": "markdown",
      "metadata": {
        "id": "aOCPQkvmbvjN",
        "colab_type": "text"
      },
      "source": [
        "### Lyties pasiskirstymas pagal rajonus"
      ]
    },
    {
      "cell_type": "code",
      "metadata": {
        "id": "psxOtyAtyDvL",
        "colab_type": "code",
        "outputId": "525562f1-0a5a-452e-a5dc-2c8b0768c083",
        "colab": {
          "base_uri": "https://localhost:8080/",
          "height": 606
        }
      },
      "source": [
        "plt.figure(figsize=(20,10))\n",
        "ax = sns.countplot(y='SENIUNIJA', hue='LYTIS', data=df_zmones_pilnas)"
      ],
      "execution_count": 0,
      "outputs": [
        {
          "output_type": "display_data",
          "data": {
            "image/png": "[encoded data removed]",
            "text/plain": [
              "<Figure size 1440x720 with 1 Axes>"
            ]
          },
          "metadata": {
            "tags": []
          }
        }
      ]
    },
    {
      "cell_type": "markdown",
      "metadata": {
        "id": "zlovCD77Z9Pe",
        "colab_type": "text"
      },
      "source": [
        "Matome, kad tik viename rajone yra daugiau vyrų nei moterų ir tai yra **Paneriai**."
      ]
    },
    {
      "cell_type": "code",
      "metadata": {
        "id": "eAwCkl4CRfpF",
        "colab_type": "code",
        "outputId": "a909d538-cb2e-4a78-ddd8-2f69dfd31594",
        "colab": {
          "base_uri": "https://localhost:8080/",
          "height": 80
        }
      },
      "source": [
        "moterys=df_zmones[['LYTIS_M','SENIUNIJA','VEDE']].loc[df_zmones['LYTIS_M']==1].groupby(['LYTIS_M','SENIUNIJA']).count().reset_index()\n",
        "moterys=moterys[['SENIUNIJA','VEDE']]\n",
        "moterys=moterys.rename(columns=({'VEDE':'Moterys'}))\n",
        "vyrai=df_zmones[['LYTIS_V','SENIUNIJA','VEDE']].loc[df_zmones['LYTIS_V']==1].groupby(['LYTIS_V','SENIUNIJA']).count().reset_index()\n",
        "vyrai=vyrai[['SENIUNIJA','VEDE']]\n",
        "vyrai=vyrai.rename(columns=({'VEDE':'Vyrai'}))\n",
        "#Sujungiame lenteles\n",
        "df_zmones_lytis=pd.merge(vyrai,moterys,on='SENIUNIJA')\n",
        "\n",
        "df_zmones_lytis.loc[df_zmones_lytis['Vyrai']>df_zmones_lytis['Moterys']]"
      ],
      "execution_count": 0,
      "outputs": [
        {
          "output_type": "execute_result",
          "data": {
            "text/html": [
              "<div>\n",
              "<style scoped>\n",
              "    .dataframe tbody tr th:only-of-type {\n",
              "        vertical-align: middle;\n",
              "    }\n",
              "\n",
              "    .dataframe tbody tr th {\n",
              "        vertical-align: top;\n",
              "    }\n",
              "\n",
              "    .dataframe thead th {\n",
              "        text-align: right;\n",
              "    }\n",
              "</style>\n",
              "<table border=\"1\" class=\"dataframe\">\n",
              "  <thead>\n",
              "    <tr style=\"text-align: right;\">\n",
              "      <th></th>\n",
              "      <th>SENIUNIJA</th>\n",
              "      <th>Vyrai</th>\n",
              "      <th>Moterys</th>\n",
              "    </tr>\n",
              "  </thead>\n",
              "  <tbody>\n",
              "    <tr>\n",
              "      <th>9</th>\n",
              "      <td>Paneriai</td>\n",
              "      <td>5733</td>\n",
              "      <td>4576</td>\n",
              "    </tr>\n",
              "  </tbody>\n",
              "</table>\n",
              "</div>"
            ],
            "text/plain": [
              "  SENIUNIJA  Vyrai  Moterys\n",
              "9  Paneriai   5733     4576"
            ]
          },
          "metadata": {
            "tags": []
          },
          "execution_count": 29
        }
      ]
    },
    {
      "cell_type": "markdown",
      "metadata": {
        "id": "gLDbl8nCgWDg",
        "colab_type": "text"
      },
      "source": [
        "### Gyventoju seimynine padetis vilniaus rajonuose, pagal lyti"
      ]
    },
    {
      "cell_type": "code",
      "metadata": {
        "id": "MFR9sKgdmPNK",
        "colab_type": "code",
        "outputId": "35581d9c-cd66-407d-c894-a9bd2192f5d1",
        "colab": {
          "base_uri": "https://localhost:8080/",
          "height": 298
        }
      },
      "source": [
        "sns.countplot(x='SEIMOS_PADETIS', data=df_zmones_pilnas)"
      ],
      "execution_count": 0,
      "outputs": [
        {
          "output_type": "execute_result",
          "data": {
            "text/plain": [
              "<matplotlib.axes._subplots.AxesSubplot at 0x7f14c783e4e0>"
            ]
          },
          "metadata": {
            "tags": []
          },
          "execution_count": 30
        },
        {
          "output_type": "display_data",
          "data": {
            "image/png": "[encoded data removed]",
            "text/plain": [
              "<Figure size 432x288 with 1 Axes>"
            ]
          },
          "metadata": {
            "tags": []
          }
        }
      ]
    },
    {
      "cell_type": "code",
      "metadata": {
        "id": "HnP6slk-msPm",
        "colab_type": "code",
        "outputId": "74078592-cb5a-4b3e-a8e4-481facf1b28b",
        "colab": {
          "base_uri": "https://localhost:8080/",
          "height": 204
        }
      },
      "source": [
        "df_zmones_pilnas[['SEIMOS_PADETIS','LYTIS']].groupby('SEIMOS_PADETIS').count()"
      ],
      "execution_count": 0,
      "outputs": [
        {
          "output_type": "execute_result",
          "data": {
            "text/html": [
              "<div>\n",
              "<style scoped>\n",
              "    .dataframe tbody tr th:only-of-type {\n",
              "        vertical-align: middle;\n",
              "    }\n",
              "\n",
              "    .dataframe tbody tr th {\n",
              "        vertical-align: top;\n",
              "    }\n",
              "\n",
              "    .dataframe thead th {\n",
              "        text-align: right;\n",
              "    }\n",
              "</style>\n",
              "<table border=\"1\" class=\"dataframe\">\n",
              "  <thead>\n",
              "    <tr style=\"text-align: right;\">\n",
              "      <th></th>\n",
              "      <th>LYTIS</th>\n",
              "    </tr>\n",
              "    <tr>\n",
              "      <th>SEIMOS_PADETIS</th>\n",
              "      <th></th>\n",
              "    </tr>\n",
              "  </thead>\n",
              "  <tbody>\n",
              "    <tr>\n",
              "      <th>I</th>\n",
              "      <td>63249</td>\n",
              "    </tr>\n",
              "    <tr>\n",
              "      <th>N</th>\n",
              "      <td>38913</td>\n",
              "    </tr>\n",
              "    <tr>\n",
              "      <th>V</th>\n",
              "      <td>241216</td>\n",
              "    </tr>\n",
              "    <tr>\n",
              "      <th>Vi</th>\n",
              "      <td>239149</td>\n",
              "    </tr>\n",
              "  </tbody>\n",
              "</table>\n",
              "</div>"
            ],
            "text/plain": [
              "                 LYTIS\n",
              "SEIMOS_PADETIS        \n",
              "I                63249\n",
              "N                38913\n",
              "V               241216\n",
              "Vi              239149"
            ]
          },
          "metadata": {
            "tags": []
          },
          "execution_count": 31
        }
      ]
    },
    {
      "cell_type": "markdown",
      "metadata": {
        "id": "mvrlLnjEmupZ",
        "colab_type": "text"
      },
      "source": [
        "Matome,jog daugiausia vilniuje vienišų ir santuokoje esančių žmonių. Tuo tarpu išsiskyrusių yra 63k, o našlių - 38K"
      ]
    },
    {
      "cell_type": "markdown",
      "metadata": {
        "id": "vYswkfSPnGzE",
        "colab_type": "text"
      },
      "source": [
        "Žmonių pasiskirstymas per rajonus:"
      ]
    },
    {
      "cell_type": "code",
      "metadata": {
        "id": "6-qwVpfIyD3Z",
        "colab_type": "code",
        "outputId": "120e42d9-f570-419e-814c-47016c6fe2ce",
        "colab": {
          "base_uri": "https://localhost:8080/",
          "height": 760
        }
      },
      "source": [
        "plt.figure(figsize=(20,10))\n",
        "g = sns.catplot(y='SENIUNIJA', hue='SEIMOS_PADETIS', col='LYTIS', data=df_zmones_pilnas, kind='count', height=10, aspect=.7);\n",
        "\n",
        "# Pakeiciamos legendos reiksmes\n",
        "new_labels = ['Vedę', 'Našliai', 'Išsiskyrę','Vieniši']\n",
        "for t, l in zip(g._legend.texts, new_labels): t.set_text(l)"
      ],
      "execution_count": 0,
      "outputs": [
        {
          "output_type": "display_data",
          "data": {
            "text/plain": [
              "<Figure size 1440x720 with 0 Axes>"
            ]
          },
          "metadata": {
            "tags": []
          }
        },
        {
          "output_type": "display_data",
          "data": {
            "image/png": "[encoded data removed]",
            "text/plain": [
              "<Figure size 1100.38x720 with 2 Axes>"
            ]
          },
          "metadata": {
            "tags": []
          }
        }
      ]
    },
    {
      "cell_type": "markdown",
      "metadata": {
        "id": "xFBrCjItcH6W",
        "colab_type": "text"
      },
      "source": [
        "### Sprendimas vienišiems žmonėms: kur gyvena daugiausia vienišų moterų ir vyrų?"
      ]
    },
    {
      "cell_type": "code",
      "metadata": {
        "id": "5Rs7ZuBaZSbx",
        "colab_type": "code",
        "colab": {}
      },
      "source": [
        "df_vienisi_zmones=df_zmones_pilnas.loc[df_zmones_pilnas['SEIMOS_PADETIS']=='Vi']\n",
        "df_vienisi_zmones=pd.get_dummies(df_vienisi_zmones, columns=['LYTIS'])\n",
        "\n",
        "\n",
        "vienisos_moterys=df_vienisi_zmones[['LYTIS_M','SENIUNIJA','GATVE']].loc[df_vienisi_zmones['LYTIS_M']==1].groupby(['LYTIS_M','SENIUNIJA']).count().reset_index()\n",
        "vienisos_moterys=vienisos_moterys[['SENIUNIJA','GATVE']]\n",
        "vienisos_moterys=vienisos_moterys.rename(columns=({'GATVE':'Moterys'}))\n",
        "\n",
        "vienisi_vyrai=df_vienisi_zmones[['LYTIS_V','SENIUNIJA','GATVE']].loc[df_vienisi_zmones['LYTIS_V']==1].groupby(['LYTIS_V','SENIUNIJA']).count().reset_index()\n",
        "vienisi_vyrai=vienisi_vyrai[['SENIUNIJA','GATVE']]\n",
        "vienisi_vyrai=vienisi_vyrai.rename(columns=({'GATVE':'Vyrai'}))\n",
        "\n",
        "#Sujungiame lenteles\n",
        "vienisi_zmones_lytis=pd.merge(vienisi_vyrai,vienisos_moterys,on='SENIUNIJA')"
      ],
      "execution_count": 0,
      "outputs": []
    },
    {
      "cell_type": "markdown",
      "metadata": {
        "id": "BuskFqS6e4t_",
        "colab_type": "text"
      },
      "source": [
        "Jeigu norime gyventi rajonuose kur yra daugiau vienišų moterų, reikėtų rinktis šiuos rajonus:"
      ]
    },
    {
      "cell_type": "code",
      "metadata": {
        "id": "eJTPopKZe2iD",
        "colab_type": "code",
        "outputId": "f890eeaf-8f52-429e-bbaf-6d91b141096c",
        "colab": {
          "base_uri": "https://localhost:8080/",
          "height": 142
        }
      },
      "source": [
        "xmoterys=vienisi_zmones_lytis.loc[vienisi_zmones_lytis['Vyrai']<vienisi_zmones_lytis['Moterys']]\n",
        "yy=df_p.groupby('Rajonas').mean().reset_index()\n",
        "pd.merge(yy, xmoterys, left_on='Rajonas', right_on='SENIUNIJA').drop(['Vyrai'], axis=1).sort_values('Moterys', ascending=False)"
      ],
      "execution_count": 0,
      "outputs": [
        {
          "output_type": "execute_result",
          "data": {
            "text/html": [
              "<div>\n",
              "<style scoped>\n",
              "    .dataframe tbody tr th:only-of-type {\n",
              "        vertical-align: middle;\n",
              "    }\n",
              "\n",
              "    .dataframe tbody tr th {\n",
              "        vertical-align: top;\n",
              "    }\n",
              "\n",
              "    .dataframe thead th {\n",
              "        text-align: right;\n",
              "    }\n",
              "</style>\n",
              "<table border=\"1\" class=\"dataframe\">\n",
              "  <thead>\n",
              "    <tr style=\"text-align: right;\">\n",
              "      <th></th>\n",
              "      <th>Rajonas</th>\n",
              "      <th>Kaina</th>\n",
              "      <th>Kambariai</th>\n",
              "      <th>Plotas</th>\n",
              "      <th>Aukstas</th>\n",
              "      <th>Is viso aukstu</th>\n",
              "      <th>SENIUNIJA</th>\n",
              "      <th>Moterys</th>\n",
              "    </tr>\n",
              "  </thead>\n",
              "  <tbody>\n",
              "    <tr>\n",
              "      <th>2</th>\n",
              "      <td>Žirmūnai</td>\n",
              "      <td>122648.433333</td>\n",
              "      <td>2.366667</td>\n",
              "      <td>58.752867</td>\n",
              "      <td>4.446667</td>\n",
              "      <td>7.333333</td>\n",
              "      <td>Žirmūnai</td>\n",
              "      <td>8962</td>\n",
              "    </tr>\n",
              "    <tr>\n",
              "      <th>0</th>\n",
              "      <td>Justiniškės</td>\n",
              "      <td>87032.015873</td>\n",
              "      <td>2.492063</td>\n",
              "      <td>57.628254</td>\n",
              "      <td>3.365079</td>\n",
              "      <td>6.111111</td>\n",
              "      <td>Justiniškės</td>\n",
              "      <td>5044</td>\n",
              "    </tr>\n",
              "    <tr>\n",
              "      <th>1</th>\n",
              "      <td>Viršuliškės</td>\n",
              "      <td>85180.487805</td>\n",
              "      <td>2.365854</td>\n",
              "      <td>52.578049</td>\n",
              "      <td>6.390244</td>\n",
              "      <td>11.731707</td>\n",
              "      <td>Viršuliškės</td>\n",
              "      <td>2641</td>\n",
              "    </tr>\n",
              "  </tbody>\n",
              "</table>\n",
              "</div>"
            ],
            "text/plain": [
              "       Rajonas          Kaina  Kambariai  ...  Is viso aukstu    SENIUNIJA  Moterys\n",
              "2     Žirmūnai  122648.433333   2.366667  ...        7.333333     Žirmūnai     8962\n",
              "0  Justiniškės   87032.015873   2.492063  ...        6.111111  Justiniškės     5044\n",
              "1  Viršuliškės   85180.487805   2.365854  ...       11.731707  Viršuliškės     2641\n",
              "\n",
              "[3 rows x 8 columns]"
            ]
          },
          "metadata": {
            "tags": []
          },
          "execution_count": 103
        }
      ]
    },
    {
      "cell_type": "markdown",
      "metadata": {
        "id": "LCrPycP1fAfK",
        "colab_type": "text"
      },
      "source": [
        "Jeigu norime gyventi rajonuose kur yra daugiau vienišų vyrų, reikėtų rinktis šiuos rajonus:"
      ]
    },
    {
      "cell_type": "code",
      "metadata": {
        "id": "Tov913xEfIK1",
        "colab_type": "code",
        "outputId": "36a2ac86-24b2-4148-8a2d-c79ccb102c91",
        "colab": {
          "base_uri": "https://localhost:8080/",
          "height": 576
        }
      },
      "source": [
        "xvyrai=vienisi_zmones_lytis.loc[vienisi_zmones_lytis['Vyrai']>vienisi_zmones_lytis['Moterys']]\n",
        "yy=df_p.groupby('Rajonas').mean().reset_index()\n",
        "pd.merge(yy, xvyrai, left_on='Rajonas', right_on='SENIUNIJA').drop(['Moterys'], axis=1).sort_values('Vyrai', ascending=False)"
      ],
      "execution_count": 0,
      "outputs": [
        {
          "output_type": "execute_result",
          "data": {
            "text/html": [
              "<div>\n",
              "<style scoped>\n",
              "    .dataframe tbody tr th:only-of-type {\n",
              "        vertical-align: middle;\n",
              "    }\n",
              "\n",
              "    .dataframe tbody tr th {\n",
              "        vertical-align: top;\n",
              "    }\n",
              "\n",
              "    .dataframe thead th {\n",
              "        text-align: right;\n",
              "    }\n",
              "</style>\n",
              "<table border=\"1\" class=\"dataframe\">\n",
              "  <thead>\n",
              "    <tr style=\"text-align: right;\">\n",
              "      <th></th>\n",
              "      <th>Rajonas</th>\n",
              "      <th>Kaina</th>\n",
              "      <th>Kambariai</th>\n",
              "      <th>Plotas</th>\n",
              "      <th>Aukstas</th>\n",
              "      <th>Is viso aukstu</th>\n",
              "      <th>SENIUNIJA</th>\n",
              "      <th>Vyrai</th>\n",
              "    </tr>\n",
              "  </thead>\n",
              "  <tbody>\n",
              "    <tr>\n",
              "      <th>12</th>\n",
              "      <td>Verkiai</td>\n",
              "      <td>153674.761905</td>\n",
              "      <td>2.619048</td>\n",
              "      <td>70.894762</td>\n",
              "      <td>3.809524</td>\n",
              "      <td>5.571429</td>\n",
              "      <td>Verkiai</td>\n",
              "      <td>10913</td>\n",
              "    </tr>\n",
              "    <tr>\n",
              "      <th>8</th>\n",
              "      <td>Pašilaičiai</td>\n",
              "      <td>87829.623596</td>\n",
              "      <td>2.410112</td>\n",
              "      <td>58.724101</td>\n",
              "      <td>5.067416</td>\n",
              "      <td>7.915730</td>\n",
              "      <td>Pašilaičiai</td>\n",
              "      <td>8788</td>\n",
              "    </tr>\n",
              "    <tr>\n",
              "      <th>0</th>\n",
              "      <td>Antakalnis</td>\n",
              "      <td>151908.203252</td>\n",
              "      <td>2.772358</td>\n",
              "      <td>72.605041</td>\n",
              "      <td>2.772358</td>\n",
              "      <td>4.760163</td>\n",
              "      <td>Antakalnis</td>\n",
              "      <td>8732</td>\n",
              "    </tr>\n",
              "    <tr>\n",
              "      <th>5</th>\n",
              "      <td>Naujamiestis</td>\n",
              "      <td>137155.566901</td>\n",
              "      <td>2.299296</td>\n",
              "      <td>58.069120</td>\n",
              "      <td>3.408451</td>\n",
              "      <td>6.218310</td>\n",
              "      <td>Naujamiestis</td>\n",
              "      <td>8344</td>\n",
              "    </tr>\n",
              "    <tr>\n",
              "      <th>1</th>\n",
              "      <td>Fabijoniškės</td>\n",
              "      <td>82503.684932</td>\n",
              "      <td>2.657534</td>\n",
              "      <td>63.540137</td>\n",
              "      <td>5.671233</td>\n",
              "      <td>9.191781</td>\n",
              "      <td>Fabijoniškės</td>\n",
              "      <td>7695</td>\n",
              "    </tr>\n",
              "    <tr>\n",
              "      <th>4</th>\n",
              "      <td>Lazdynai</td>\n",
              "      <td>96895.491228</td>\n",
              "      <td>2.491228</td>\n",
              "      <td>60.180702</td>\n",
              "      <td>3.701754</td>\n",
              "      <td>5.964912</td>\n",
              "      <td>Lazdynai</td>\n",
              "      <td>6673</td>\n",
              "    </tr>\n",
              "    <tr>\n",
              "      <th>6</th>\n",
              "      <td>Naujininkai</td>\n",
              "      <td>67827.771739</td>\n",
              "      <td>2.152174</td>\n",
              "      <td>49.326196</td>\n",
              "      <td>2.597826</td>\n",
              "      <td>4.010870</td>\n",
              "      <td>Naujininkai</td>\n",
              "      <td>6456</td>\n",
              "    </tr>\n",
              "    <tr>\n",
              "      <th>9</th>\n",
              "      <td>Pilaitė</td>\n",
              "      <td>95287.362694</td>\n",
              "      <td>2.632124</td>\n",
              "      <td>61.329223</td>\n",
              "      <td>3.264249</td>\n",
              "      <td>5.626943</td>\n",
              "      <td>Pilaitė</td>\n",
              "      <td>5967</td>\n",
              "    </tr>\n",
              "    <tr>\n",
              "      <th>14</th>\n",
              "      <td>Šeškinė</td>\n",
              "      <td>85987.754098</td>\n",
              "      <td>2.114754</td>\n",
              "      <td>50.815246</td>\n",
              "      <td>3.819672</td>\n",
              "      <td>7.459016</td>\n",
              "      <td>Šeškinė</td>\n",
              "      <td>5931</td>\n",
              "    </tr>\n",
              "    <tr>\n",
              "      <th>11</th>\n",
              "      <td>Senamiestis</td>\n",
              "      <td>224072.898010</td>\n",
              "      <td>2.820896</td>\n",
              "      <td>78.703458</td>\n",
              "      <td>2.905473</td>\n",
              "      <td>4.353234</td>\n",
              "      <td>Senamiestis</td>\n",
              "      <td>5038</td>\n",
              "    </tr>\n",
              "    <tr>\n",
              "      <th>3</th>\n",
              "      <td>Karoliniškės</td>\n",
              "      <td>88983.304348</td>\n",
              "      <td>2.405797</td>\n",
              "      <td>58.175942</td>\n",
              "      <td>3.521739</td>\n",
              "      <td>7.840580</td>\n",
              "      <td>Karoliniškės</td>\n",
              "      <td>4648</td>\n",
              "    </tr>\n",
              "    <tr>\n",
              "      <th>13</th>\n",
              "      <td>Vilkpėdė</td>\n",
              "      <td>92205.388889</td>\n",
              "      <td>2.055556</td>\n",
              "      <td>67.730000</td>\n",
              "      <td>2.555556</td>\n",
              "      <td>4.388889</td>\n",
              "      <td>Vilkpėdė</td>\n",
              "      <td>3935</td>\n",
              "    </tr>\n",
              "    <tr>\n",
              "      <th>15</th>\n",
              "      <td>Šnipiškės</td>\n",
              "      <td>137025.799163</td>\n",
              "      <td>2.443515</td>\n",
              "      <td>60.828703</td>\n",
              "      <td>5.167364</td>\n",
              "      <td>9.891213</td>\n",
              "      <td>Šnipiškės</td>\n",
              "      <td>3608</td>\n",
              "    </tr>\n",
              "    <tr>\n",
              "      <th>16</th>\n",
              "      <td>Žvėrynas</td>\n",
              "      <td>195168.178571</td>\n",
              "      <td>2.642857</td>\n",
              "      <td>73.099464</td>\n",
              "      <td>2.732143</td>\n",
              "      <td>4.383929</td>\n",
              "      <td>Žvėrynas</td>\n",
              "      <td>3073</td>\n",
              "    </tr>\n",
              "    <tr>\n",
              "      <th>7</th>\n",
              "      <td>Paneriai</td>\n",
              "      <td>65960.000000</td>\n",
              "      <td>2.400000</td>\n",
              "      <td>64.770000</td>\n",
              "      <td>2.400000</td>\n",
              "      <td>2.600000</td>\n",
              "      <td>Paneriai</td>\n",
              "      <td>3010</td>\n",
              "    </tr>\n",
              "    <tr>\n",
              "      <th>2</th>\n",
              "      <td>Grigiškės</td>\n",
              "      <td>52770.363636</td>\n",
              "      <td>1.954545</td>\n",
              "      <td>45.665909</td>\n",
              "      <td>2.318182</td>\n",
              "      <td>3.772727</td>\n",
              "      <td>Grigiškės</td>\n",
              "      <td>2912</td>\n",
              "    </tr>\n",
              "    <tr>\n",
              "      <th>10</th>\n",
              "      <td>Rasos</td>\n",
              "      <td>105027.428571</td>\n",
              "      <td>2.428571</td>\n",
              "      <td>63.883810</td>\n",
              "      <td>2.238095</td>\n",
              "      <td>3.523810</td>\n",
              "      <td>Rasos</td>\n",
              "      <td>2495</td>\n",
              "    </tr>\n",
              "  </tbody>\n",
              "</table>\n",
              "</div>"
            ],
            "text/plain": [
              "         Rajonas          Kaina  Kambariai  ...  Is viso aukstu     SENIUNIJA  Vyrai\n",
              "12       Verkiai  153674.761905   2.619048  ...        5.571429       Verkiai  10913\n",
              "8    Pašilaičiai   87829.623596   2.410112  ...        7.915730   Pašilaičiai   8788\n",
              "0     Antakalnis  151908.203252   2.772358  ...        4.760163    Antakalnis   8732\n",
              "5   Naujamiestis  137155.566901   2.299296  ...        6.218310  Naujamiestis   8344\n",
              "1   Fabijoniškės   82503.684932   2.657534  ...        9.191781  Fabijoniškės   7695\n",
              "4       Lazdynai   96895.491228   2.491228  ...        5.964912      Lazdynai   6673\n",
              "6    Naujininkai   67827.771739   2.152174  ...        4.010870   Naujininkai   6456\n",
              "9        Pilaitė   95287.362694   2.632124  ...        5.626943       Pilaitė   5967\n",
              "14       Šeškinė   85987.754098   2.114754  ...        7.459016       Šeškinė   5931\n",
              "11   Senamiestis  224072.898010   2.820896  ...        4.353234   Senamiestis   5038\n",
              "3   Karoliniškės   88983.304348   2.405797  ...        7.840580  Karoliniškės   4648\n",
              "13      Vilkpėdė   92205.388889   2.055556  ...        4.388889      Vilkpėdė   3935\n",
              "15     Šnipiškės  137025.799163   2.443515  ...        9.891213     Šnipiškės   3608\n",
              "16      Žvėrynas  195168.178571   2.642857  ...        4.383929      Žvėrynas   3073\n",
              "7       Paneriai   65960.000000   2.400000  ...        2.600000      Paneriai   3010\n",
              "2      Grigiškės   52770.363636   1.954545  ...        3.772727     Grigiškės   2912\n",
              "10         Rasos  105027.428571   2.428571  ...        3.523810         Rasos   2495\n",
              "\n",
              "[17 rows x 8 columns]"
            ]
          },
          "metadata": {
            "tags": []
          },
          "execution_count": 102
        }
      ]
    },
    {
      "cell_type": "markdown",
      "metadata": {
        "id": "XhvtrglA3TMp",
        "colab_type": "text"
      },
      "source": [
        "### Interaktyvus sprendimas: rask partnerį su +- 3 metų skirtumu ir sužinok kiek vidutiniškai tame rajone kainuoja tavo butas!"
      ]
    },
    {
      "cell_type": "code",
      "metadata": {
        "id": "gP1rS_fhxW1M",
        "colab_type": "code",
        "outputId": "d717f61f-6fc3-4957-ef14-357280f4565e",
        "colab": {
          "base_uri": "https://localhost:8080/",
          "height": 703
        }
      },
      "source": [
        "x=int(input('Įveskite savo amžių: '))\n",
        "y=input('Lytis: ')\n",
        "xx=2020-x\n",
        "tinder=df_zmones_pilnas.loc[(df_zmones_pilnas['GIMIMO_METAI']>xx-3)&(df_zmones_pilnas['GIMIMO_METAI']<xx+3)&(df_zmones_pilnas['LYTIS']!=y)&(df_zmones_pilnas['SEIMOS_PADETIS']=='Vi')]\n",
        "tinder=tinder[['SENIUNIJA','LYTIS']].groupby('SENIUNIJA').count().sort_values('LYTIS', ascending=False)\n",
        "yy=df_p.groupby('Rajonas').mean().reset_index()\n",
        "pd.merge(yy, tinder, left_on='Rajonas', right_on='SENIUNIJA').sort_values('LYTIS', ascending=False)"
      ],
      "execution_count": 0,
      "outputs": [
        {
          "output_type": "stream",
          "text": [
            "Įveskite savo amžių: 25\n",
            "Lytis: V\n"
          ],
          "name": "stdout"
        },
        {
          "output_type": "execute_result",
          "data": {
            "text/html": [
              "<div>\n",
              "<style scoped>\n",
              "    .dataframe tbody tr th:only-of-type {\n",
              "        vertical-align: middle;\n",
              "    }\n",
              "\n",
              "    .dataframe tbody tr th {\n",
              "        vertical-align: top;\n",
              "    }\n",
              "\n",
              "    .dataframe thead th {\n",
              "        text-align: right;\n",
              "    }\n",
              "</style>\n",
              "<table border=\"1\" class=\"dataframe\">\n",
              "  <thead>\n",
              "    <tr style=\"text-align: right;\">\n",
              "      <th></th>\n",
              "      <th>Rajonas</th>\n",
              "      <th>Kaina</th>\n",
              "      <th>Kambariai</th>\n",
              "      <th>Plotas</th>\n",
              "      <th>Aukstas</th>\n",
              "      <th>Is viso aukstu</th>\n",
              "      <th>LYTIS</th>\n",
              "    </tr>\n",
              "  </thead>\n",
              "  <tbody>\n",
              "    <tr>\n",
              "      <th>13</th>\n",
              "      <td>Verkiai</td>\n",
              "      <td>153674.761905</td>\n",
              "      <td>2.619048</td>\n",
              "      <td>70.894762</td>\n",
              "      <td>3.809524</td>\n",
              "      <td>5.571429</td>\n",
              "      <td>1003</td>\n",
              "    </tr>\n",
              "    <tr>\n",
              "      <th>0</th>\n",
              "      <td>Antakalnis</td>\n",
              "      <td>151908.203252</td>\n",
              "      <td>2.772358</td>\n",
              "      <td>72.605041</td>\n",
              "      <td>2.772358</td>\n",
              "      <td>4.760163</td>\n",
              "      <td>857</td>\n",
              "    </tr>\n",
              "    <tr>\n",
              "      <th>18</th>\n",
              "      <td>Žirmūnai</td>\n",
              "      <td>122648.433333</td>\n",
              "      <td>2.366667</td>\n",
              "      <td>58.752867</td>\n",
              "      <td>4.446667</td>\n",
              "      <td>7.333333</td>\n",
              "      <td>826</td>\n",
              "    </tr>\n",
              "    <tr>\n",
              "      <th>9</th>\n",
              "      <td>Pašilaičiai</td>\n",
              "      <td>87829.623596</td>\n",
              "      <td>2.410112</td>\n",
              "      <td>58.724101</td>\n",
              "      <td>5.067416</td>\n",
              "      <td>7.915730</td>\n",
              "      <td>678</td>\n",
              "    </tr>\n",
              "    <tr>\n",
              "      <th>1</th>\n",
              "      <td>Fabijoniškės</td>\n",
              "      <td>82503.684932</td>\n",
              "      <td>2.657534</td>\n",
              "      <td>63.540137</td>\n",
              "      <td>5.671233</td>\n",
              "      <td>9.191781</td>\n",
              "      <td>652</td>\n",
              "    </tr>\n",
              "    <tr>\n",
              "      <th>7</th>\n",
              "      <td>Naujininkai</td>\n",
              "      <td>67827.771739</td>\n",
              "      <td>2.152174</td>\n",
              "      <td>49.326196</td>\n",
              "      <td>2.597826</td>\n",
              "      <td>4.010870</td>\n",
              "      <td>618</td>\n",
              "    </tr>\n",
              "    <tr>\n",
              "      <th>6</th>\n",
              "      <td>Naujamiestis</td>\n",
              "      <td>137155.566901</td>\n",
              "      <td>2.299296</td>\n",
              "      <td>58.069120</td>\n",
              "      <td>3.408451</td>\n",
              "      <td>6.218310</td>\n",
              "      <td>606</td>\n",
              "    </tr>\n",
              "    <tr>\n",
              "      <th>5</th>\n",
              "      <td>Lazdynai</td>\n",
              "      <td>96895.491228</td>\n",
              "      <td>2.491228</td>\n",
              "      <td>60.180702</td>\n",
              "      <td>3.701754</td>\n",
              "      <td>5.964912</td>\n",
              "      <td>575</td>\n",
              "    </tr>\n",
              "    <tr>\n",
              "      <th>10</th>\n",
              "      <td>Pilaitė</td>\n",
              "      <td>95287.362694</td>\n",
              "      <td>2.632124</td>\n",
              "      <td>61.329223</td>\n",
              "      <td>3.264249</td>\n",
              "      <td>5.626943</td>\n",
              "      <td>547</td>\n",
              "    </tr>\n",
              "    <tr>\n",
              "      <th>16</th>\n",
              "      <td>Šeškinė</td>\n",
              "      <td>85987.754098</td>\n",
              "      <td>2.114754</td>\n",
              "      <td>50.815246</td>\n",
              "      <td>3.819672</td>\n",
              "      <td>7.459016</td>\n",
              "      <td>483</td>\n",
              "    </tr>\n",
              "    <tr>\n",
              "      <th>4</th>\n",
              "      <td>Karoliniškės</td>\n",
              "      <td>88983.304348</td>\n",
              "      <td>2.405797</td>\n",
              "      <td>58.175942</td>\n",
              "      <td>3.521739</td>\n",
              "      <td>7.840580</td>\n",
              "      <td>436</td>\n",
              "    </tr>\n",
              "    <tr>\n",
              "      <th>12</th>\n",
              "      <td>Senamiestis</td>\n",
              "      <td>224072.898010</td>\n",
              "      <td>2.820896</td>\n",
              "      <td>78.703458</td>\n",
              "      <td>2.905473</td>\n",
              "      <td>4.353234</td>\n",
              "      <td>428</td>\n",
              "    </tr>\n",
              "    <tr>\n",
              "      <th>3</th>\n",
              "      <td>Justiniškės</td>\n",
              "      <td>87032.015873</td>\n",
              "      <td>2.492063</td>\n",
              "      <td>57.628254</td>\n",
              "      <td>3.365079</td>\n",
              "      <td>6.111111</td>\n",
              "      <td>412</td>\n",
              "    </tr>\n",
              "    <tr>\n",
              "      <th>17</th>\n",
              "      <td>Šnipiškės</td>\n",
              "      <td>137025.799163</td>\n",
              "      <td>2.443515</td>\n",
              "      <td>60.828703</td>\n",
              "      <td>5.167364</td>\n",
              "      <td>9.891213</td>\n",
              "      <td>396</td>\n",
              "    </tr>\n",
              "    <tr>\n",
              "      <th>14</th>\n",
              "      <td>Vilkpėdė</td>\n",
              "      <td>92205.388889</td>\n",
              "      <td>2.055556</td>\n",
              "      <td>67.730000</td>\n",
              "      <td>2.555556</td>\n",
              "      <td>4.388889</td>\n",
              "      <td>395</td>\n",
              "    </tr>\n",
              "    <tr>\n",
              "      <th>15</th>\n",
              "      <td>Viršuliškės</td>\n",
              "      <td>85180.487805</td>\n",
              "      <td>2.365854</td>\n",
              "      <td>52.578049</td>\n",
              "      <td>6.390244</td>\n",
              "      <td>11.731707</td>\n",
              "      <td>253</td>\n",
              "    </tr>\n",
              "    <tr>\n",
              "      <th>19</th>\n",
              "      <td>Žvėrynas</td>\n",
              "      <td>195168.178571</td>\n",
              "      <td>2.642857</td>\n",
              "      <td>73.099464</td>\n",
              "      <td>2.732143</td>\n",
              "      <td>4.383929</td>\n",
              "      <td>244</td>\n",
              "    </tr>\n",
              "    <tr>\n",
              "      <th>11</th>\n",
              "      <td>Rasos</td>\n",
              "      <td>105027.428571</td>\n",
              "      <td>2.428571</td>\n",
              "      <td>63.883810</td>\n",
              "      <td>2.238095</td>\n",
              "      <td>3.523810</td>\n",
              "      <td>215</td>\n",
              "    </tr>\n",
              "    <tr>\n",
              "      <th>2</th>\n",
              "      <td>Grigiškės</td>\n",
              "      <td>52770.363636</td>\n",
              "      <td>1.954545</td>\n",
              "      <td>45.665909</td>\n",
              "      <td>2.318182</td>\n",
              "      <td>3.772727</td>\n",
              "      <td>165</td>\n",
              "    </tr>\n",
              "    <tr>\n",
              "      <th>8</th>\n",
              "      <td>Paneriai</td>\n",
              "      <td>65960.000000</td>\n",
              "      <td>2.400000</td>\n",
              "      <td>64.770000</td>\n",
              "      <td>2.400000</td>\n",
              "      <td>2.600000</td>\n",
              "      <td>164</td>\n",
              "    </tr>\n",
              "  </tbody>\n",
              "</table>\n",
              "</div>"
            ],
            "text/plain": [
              "         Rajonas          Kaina  Kambariai  ...   Aukstas  Is viso aukstu  LYTIS\n",
              "13       Verkiai  153674.761905   2.619048  ...  3.809524        5.571429   1003\n",
              "0     Antakalnis  151908.203252   2.772358  ...  2.772358        4.760163    857\n",
              "18      Žirmūnai  122648.433333   2.366667  ...  4.446667        7.333333    826\n",
              "9    Pašilaičiai   87829.623596   2.410112  ...  5.067416        7.915730    678\n",
              "1   Fabijoniškės   82503.684932   2.657534  ...  5.671233        9.191781    652\n",
              "7    Naujininkai   67827.771739   2.152174  ...  2.597826        4.010870    618\n",
              "6   Naujamiestis  137155.566901   2.299296  ...  3.408451        6.218310    606\n",
              "5       Lazdynai   96895.491228   2.491228  ...  3.701754        5.964912    575\n",
              "10       Pilaitė   95287.362694   2.632124  ...  3.264249        5.626943    547\n",
              "16       Šeškinė   85987.754098   2.114754  ...  3.819672        7.459016    483\n",
              "4   Karoliniškės   88983.304348   2.405797  ...  3.521739        7.840580    436\n",
              "12   Senamiestis  224072.898010   2.820896  ...  2.905473        4.353234    428\n",
              "3    Justiniškės   87032.015873   2.492063  ...  3.365079        6.111111    412\n",
              "17     Šnipiškės  137025.799163   2.443515  ...  5.167364        9.891213    396\n",
              "14      Vilkpėdė   92205.388889   2.055556  ...  2.555556        4.388889    395\n",
              "15   Viršuliškės   85180.487805   2.365854  ...  6.390244       11.731707    253\n",
              "19      Žvėrynas  195168.178571   2.642857  ...  2.732143        4.383929    244\n",
              "11         Rasos  105027.428571   2.428571  ...  2.238095        3.523810    215\n",
              "2      Grigiškės   52770.363636   1.954545  ...  2.318182        3.772727    165\n",
              "8       Paneriai   65960.000000   2.400000  ...  2.400000        2.600000    164\n",
              "\n",
              "[20 rows x 7 columns]"
            ]
          },
          "metadata": {
            "tags": []
          },
          "execution_count": 179
        }
      ]
    },
    {
      "cell_type": "code",
      "metadata": {
        "id": "HCL0t8J00wV_",
        "colab_type": "code",
        "colab": {}
      },
      "source": [
        ""
      ],
      "execution_count": 0,
      "outputs": []
    },
    {
      "cell_type": "markdown",
      "metadata": {
        "id": "_UnrDPwfyJJ7",
        "colab_type": "text"
      },
      "source": [
        "# 3. Duomenų prognozavimas naudojant regresinius modelius"
      ]
    },
    {
      "cell_type": "markdown",
      "metadata": {
        "id": "UTMzV6Uy7ByU",
        "colab_type": "text"
      },
      "source": [
        "Modeliams naudosime bendra lentelė iš visų turimų duomenų kuri yra apdirbta ir paruošta naudojimui.\n",
        "\n",
        "**Svarbu:** Visi duomenys tarpusavį yra apjungti per Gatves."
      ]
    },
    {
      "cell_type": "code",
      "metadata": {
        "id": "jXJyqx92oys4",
        "colab_type": "code",
        "outputId": "f01eaedf-5419-4b2b-92a7-78d6add020f4",
        "colab": {
          "base_uri": "https://localhost:8080/",
          "height": 558
        }
      },
      "source": [
        "df_bendras"
      ],
      "execution_count": 0,
      "outputs": [
        {
          "output_type": "execute_result",
          "data": {
            "text/html": [
              "<div>\n",
              "<style scoped>\n",
              "    .dataframe tbody tr th:only-of-type {\n",
              "        vertical-align: middle;\n",
              "    }\n",
              "\n",
              "    .dataframe tbody tr th {\n",
              "        vertical-align: top;\n",
              "    }\n",
              "\n",
              "    .dataframe thead th {\n",
              "        text-align: right;\n",
              "    }\n",
              "</style>\n",
              "<table border=\"1\" class=\"dataframe\">\n",
              "  <thead>\n",
              "    <tr style=\"text-align: right;\">\n",
              "      <th></th>\n",
              "      <th>Rajonas</th>\n",
              "      <th>Gatve</th>\n",
              "      <th>Kaina</th>\n",
              "      <th>Kambariai</th>\n",
              "      <th>Plotas</th>\n",
              "      <th>Aukstas</th>\n",
              "      <th>Is viso aukstu</th>\n",
              "      <th>bendr_plotas</th>\n",
              "      <th>naud_plotas</th>\n",
              "      <th>butu_skaicius</th>\n",
              "      <th>negyvenamuju_palapu_skaicius</th>\n",
              "      <th>renov_skaicius</th>\n",
              "      <th>vid_statybos_m</th>\n",
              "      <th>KIEK_TURI_VAIKU</th>\n",
              "      <th>LYTIS_M</th>\n",
              "      <th>LYTIS_V</th>\n",
              "      <th>ISSISKYRE</th>\n",
              "      <th>NASLYS</th>\n",
              "      <th>VEDE</th>\n",
              "      <th>VIENISI</th>\n",
              "      <th>VID. GIM. METAI</th>\n",
              "    </tr>\n",
              "  </thead>\n",
              "  <tbody>\n",
              "    <tr>\n",
              "      <th>0</th>\n",
              "      <td>Lazdynėliai</td>\n",
              "      <td>Bukčių g.</td>\n",
              "      <td>69070</td>\n",
              "      <td>2</td>\n",
              "      <td>40.46</td>\n",
              "      <td>2</td>\n",
              "      <td>5</td>\n",
              "      <td>19262.04</td>\n",
              "      <td>13889.05</td>\n",
              "      <td>218.0</td>\n",
              "      <td>65.0</td>\n",
              "      <td>1.0</td>\n",
              "      <td>1984.071429</td>\n",
              "      <td>242.0</td>\n",
              "      <td>351.0</td>\n",
              "      <td>292.0</td>\n",
              "      <td>65.0</td>\n",
              "      <td>44.0</td>\n",
              "      <td>275.0</td>\n",
              "      <td>259.0</td>\n",
              "      <td>1979.096423</td>\n",
              "    </tr>\n",
              "    <tr>\n",
              "      <th>1</th>\n",
              "      <td>Bajorai</td>\n",
              "      <td>Bajorų kel.</td>\n",
              "      <td>108800</td>\n",
              "      <td>4</td>\n",
              "      <td>69.51</td>\n",
              "      <td>2</td>\n",
              "      <td>6</td>\n",
              "      <td>52430.86</td>\n",
              "      <td>42278.57</td>\n",
              "      <td>807.0</td>\n",
              "      <td>196.0</td>\n",
              "      <td>0.0</td>\n",
              "      <td>2011.571429</td>\n",
              "      <td>964.0</td>\n",
              "      <td>852.0</td>\n",
              "      <td>824.0</td>\n",
              "      <td>119.0</td>\n",
              "      <td>29.0</td>\n",
              "      <td>767.0</td>\n",
              "      <td>761.0</td>\n",
              "      <td>1989.532220</td>\n",
              "    </tr>\n",
              "    <tr>\n",
              "      <th>2</th>\n",
              "      <td>Antakalnis</td>\n",
              "      <td>Vytauto Žalakevičiaus g.</td>\n",
              "      <td>155000</td>\n",
              "      <td>2</td>\n",
              "      <td>63.11</td>\n",
              "      <td>3</td>\n",
              "      <td>7</td>\n",
              "      <td>1532.72</td>\n",
              "      <td>1477.66</td>\n",
              "      <td>321.0</td>\n",
              "      <td>22.0</td>\n",
              "      <td>0.0</td>\n",
              "      <td>1844.666667</td>\n",
              "      <td>523.0</td>\n",
              "      <td>568.0</td>\n",
              "      <td>483.0</td>\n",
              "      <td>85.0</td>\n",
              "      <td>25.0</td>\n",
              "      <td>433.0</td>\n",
              "      <td>508.0</td>\n",
              "      <td>1987.727878</td>\n",
              "    </tr>\n",
              "    <tr>\n",
              "      <th>3</th>\n",
              "      <td>Naujininkai</td>\n",
              "      <td>Panevėžio g.</td>\n",
              "      <td>84500</td>\n",
              "      <td>2</td>\n",
              "      <td>54.00</td>\n",
              "      <td>3</td>\n",
              "      <td>4</td>\n",
              "      <td>16666.12</td>\n",
              "      <td>14022.80</td>\n",
              "      <td>287.0</td>\n",
              "      <td>30.0</td>\n",
              "      <td>0.0</td>\n",
              "      <td>1959.866667</td>\n",
              "      <td>183.0</td>\n",
              "      <td>388.0</td>\n",
              "      <td>319.0</td>\n",
              "      <td>118.0</td>\n",
              "      <td>39.0</td>\n",
              "      <td>261.0</td>\n",
              "      <td>289.0</td>\n",
              "      <td>1975.446959</td>\n",
              "    </tr>\n",
              "    <tr>\n",
              "      <th>4</th>\n",
              "      <td>Šnipiškės</td>\n",
              "      <td>Giedraičių g.</td>\n",
              "      <td>95000</td>\n",
              "      <td>2</td>\n",
              "      <td>53.61</td>\n",
              "      <td>8</td>\n",
              "      <td>10</td>\n",
              "      <td>17575.68</td>\n",
              "      <td>15816.21</td>\n",
              "      <td>286.0</td>\n",
              "      <td>9.0</td>\n",
              "      <td>0.0</td>\n",
              "      <td>1945.285714</td>\n",
              "      <td>335.0</td>\n",
              "      <td>613.0</td>\n",
              "      <td>530.0</td>\n",
              "      <td>173.0</td>\n",
              "      <td>85.0</td>\n",
              "      <td>377.0</td>\n",
              "      <td>508.0</td>\n",
              "      <td>1977.165354</td>\n",
              "    </tr>\n",
              "    <tr>\n",
              "      <th>...</th>\n",
              "      <td>...</td>\n",
              "      <td>...</td>\n",
              "      <td>...</td>\n",
              "      <td>...</td>\n",
              "      <td>...</td>\n",
              "      <td>...</td>\n",
              "      <td>...</td>\n",
              "      <td>...</td>\n",
              "      <td>...</td>\n",
              "      <td>...</td>\n",
              "      <td>...</td>\n",
              "      <td>...</td>\n",
              "      <td>...</td>\n",
              "      <td>...</td>\n",
              "      <td>...</td>\n",
              "      <td>...</td>\n",
              "      <td>...</td>\n",
              "      <td>...</td>\n",
              "      <td>...</td>\n",
              "      <td>...</td>\n",
              "      <td>...</td>\n",
              "    </tr>\n",
              "    <tr>\n",
              "      <th>2706</th>\n",
              "      <td>Naujamiestis</td>\n",
              "      <td>Savanorių pr.</td>\n",
              "      <td>57000</td>\n",
              "      <td>3</td>\n",
              "      <td>56.82</td>\n",
              "      <td>2</td>\n",
              "      <td>5</td>\n",
              "      <td>164755.20</td>\n",
              "      <td>134815.23</td>\n",
              "      <td>2684.0</td>\n",
              "      <td>117.0</td>\n",
              "      <td>1.0</td>\n",
              "      <td>1926.326923</td>\n",
              "      <td>1907.0</td>\n",
              "      <td>3615.0</td>\n",
              "      <td>2803.0</td>\n",
              "      <td>846.0</td>\n",
              "      <td>636.0</td>\n",
              "      <td>2463.0</td>\n",
              "      <td>2473.0</td>\n",
              "      <td>1975.644593</td>\n",
              "    </tr>\n",
              "    <tr>\n",
              "      <th>2707</th>\n",
              "      <td>Senamiestis</td>\n",
              "      <td>Gaono g.</td>\n",
              "      <td>304000</td>\n",
              "      <td>2</td>\n",
              "      <td>115.72</td>\n",
              "      <td>2</td>\n",
              "      <td>3</td>\n",
              "      <td>4175.75</td>\n",
              "      <td>2674.42</td>\n",
              "      <td>25.0</td>\n",
              "      <td>8.0</td>\n",
              "      <td>0.0</td>\n",
              "      <td>1940.000000</td>\n",
              "      <td>7.0</td>\n",
              "      <td>14.0</td>\n",
              "      <td>9.0</td>\n",
              "      <td>2.0</td>\n",
              "      <td>1.0</td>\n",
              "      <td>11.0</td>\n",
              "      <td>9.0</td>\n",
              "      <td>1974.130435</td>\n",
              "    </tr>\n",
              "    <tr>\n",
              "      <th>2708</th>\n",
              "      <td>Naujininkai</td>\n",
              "      <td>Naugarduko g.</td>\n",
              "      <td>15308</td>\n",
              "      <td>1</td>\n",
              "      <td>25.89</td>\n",
              "      <td>1</td>\n",
              "      <td>1</td>\n",
              "      <td>65569.51</td>\n",
              "      <td>50852.85</td>\n",
              "      <td>1067.0</td>\n",
              "      <td>89.0</td>\n",
              "      <td>0.0</td>\n",
              "      <td>1948.931818</td>\n",
              "      <td>570.0</td>\n",
              "      <td>1124.0</td>\n",
              "      <td>948.0</td>\n",
              "      <td>320.0</td>\n",
              "      <td>172.0</td>\n",
              "      <td>725.0</td>\n",
              "      <td>855.0</td>\n",
              "      <td>1975.396718</td>\n",
              "    </tr>\n",
              "    <tr>\n",
              "      <th>2709</th>\n",
              "      <td>Fabijoniškės</td>\n",
              "      <td>S. Stanevičiaus g.</td>\n",
              "      <td>47787</td>\n",
              "      <td>3</td>\n",
              "      <td>67.00</td>\n",
              "      <td>5</td>\n",
              "      <td>5</td>\n",
              "      <td>265254.25</td>\n",
              "      <td>228440.05</td>\n",
              "      <td>4184.0</td>\n",
              "      <td>129.0</td>\n",
              "      <td>3.0</td>\n",
              "      <td>1988.927536</td>\n",
              "      <td>2892.0</td>\n",
              "      <td>5315.0</td>\n",
              "      <td>4350.0</td>\n",
              "      <td>1017.0</td>\n",
              "      <td>604.0</td>\n",
              "      <td>4428.0</td>\n",
              "      <td>3616.0</td>\n",
              "      <td>1975.863632</td>\n",
              "    </tr>\n",
              "    <tr>\n",
              "      <th>2710</th>\n",
              "      <td>Žvėrynas</td>\n",
              "      <td>Birutės g.</td>\n",
              "      <td>193000</td>\n",
              "      <td>2</td>\n",
              "      <td>69.90</td>\n",
              "      <td>1</td>\n",
              "      <td>2</td>\n",
              "      <td>9789.38</td>\n",
              "      <td>7040.60</td>\n",
              "      <td>167.0</td>\n",
              "      <td>39.0</td>\n",
              "      <td>0.0</td>\n",
              "      <td>1959.700000</td>\n",
              "      <td>191.0</td>\n",
              "      <td>263.0</td>\n",
              "      <td>187.0</td>\n",
              "      <td>52.0</td>\n",
              "      <td>18.0</td>\n",
              "      <td>189.0</td>\n",
              "      <td>191.0</td>\n",
              "      <td>1979.880000</td>\n",
              "    </tr>\n",
              "  </tbody>\n",
              "</table>\n",
              "<p>2702 rows × 21 columns</p>\n",
              "</div>"
            ],
            "text/plain": [
              "           Rajonas                     Gatve  ...  VIENISI  VID. GIM. METAI\n",
              "0      Lazdynėliai                 Bukčių g.  ...    259.0      1979.096423\n",
              "1          Bajorai               Bajorų kel.  ...    761.0      1989.532220\n",
              "2       Antakalnis  Vytauto Žalakevičiaus g.  ...    508.0      1987.727878\n",
              "3      Naujininkai              Panevėžio g.  ...    289.0      1975.446959\n",
              "4        Šnipiškės             Giedraičių g.  ...    508.0      1977.165354\n",
              "...            ...                       ...  ...      ...              ...\n",
              "2706  Naujamiestis             Savanorių pr.  ...   2473.0      1975.644593\n",
              "2707   Senamiestis                  Gaono g.  ...      9.0      1974.130435\n",
              "2708   Naujininkai             Naugarduko g.  ...    855.0      1975.396718\n",
              "2709  Fabijoniškės        S. Stanevičiaus g.  ...   3616.0      1975.863632\n",
              "2710      Žvėrynas                Birutės g.  ...    191.0      1979.880000\n",
              "\n",
              "[2702 rows x 21 columns]"
            ]
          },
          "metadata": {
            "tags": []
          },
          "execution_count": 9
        }
      ]
    },
    {
      "cell_type": "code",
      "metadata": {
        "id": "9LOJDLF4DVof",
        "colab_type": "code",
        "outputId": "3d486d14-a9e9-439d-c0f9-bf4d14447ba4",
        "colab": {
          "base_uri": "https://localhost:8080/",
          "height": 692
        }
      },
      "source": [
        "df_bendras.corr()"
      ],
      "execution_count": 0,
      "outputs": [
        {
          "output_type": "execute_result",
          "data": {
            "text/html": [
              "<div>\n",
              "<style scoped>\n",
              "    .dataframe tbody tr th:only-of-type {\n",
              "        vertical-align: middle;\n",
              "    }\n",
              "\n",
              "    .dataframe tbody tr th {\n",
              "        vertical-align: top;\n",
              "    }\n",
              "\n",
              "    .dataframe thead th {\n",
              "        text-align: right;\n",
              "    }\n",
              "</style>\n",
              "<table border=\"1\" class=\"dataframe\">\n",
              "  <thead>\n",
              "    <tr style=\"text-align: right;\">\n",
              "      <th></th>\n",
              "      <th>Kaina</th>\n",
              "      <th>Kambariai</th>\n",
              "      <th>Plotas</th>\n",
              "      <th>Aukstas</th>\n",
              "      <th>Is viso aukstu</th>\n",
              "      <th>bendr_plotas</th>\n",
              "      <th>naud_plotas</th>\n",
              "      <th>butu_skaicius</th>\n",
              "      <th>negyvenamuju_palapu_skaicius</th>\n",
              "      <th>renov_skaicius</th>\n",
              "      <th>vid_statybos_m</th>\n",
              "      <th>KIEK_TURI_VAIKU</th>\n",
              "      <th>LYTIS_M</th>\n",
              "      <th>LYTIS_V</th>\n",
              "      <th>ISSISKYRE</th>\n",
              "      <th>NASLYS</th>\n",
              "      <th>VEDE</th>\n",
              "      <th>VIENISI</th>\n",
              "      <th>VID. GIM. METAI</th>\n",
              "    </tr>\n",
              "  </thead>\n",
              "  <tbody>\n",
              "    <tr>\n",
              "      <th>Kaina</th>\n",
              "      <td>1.000000</td>\n",
              "      <td>0.586022</td>\n",
              "      <td>0.744361</td>\n",
              "      <td>0.099518</td>\n",
              "      <td>0.059685</td>\n",
              "      <td>-0.221242</td>\n",
              "      <td>-0.234289</td>\n",
              "      <td>-0.234806</td>\n",
              "      <td>-0.091721</td>\n",
              "      <td>-0.088060</td>\n",
              "      <td>-0.016522</td>\n",
              "      <td>-0.248630</td>\n",
              "      <td>-0.250134</td>\n",
              "      <td>-0.251750</td>\n",
              "      <td>-0.252514</td>\n",
              "      <td>-0.236527</td>\n",
              "      <td>-0.250827</td>\n",
              "      <td>-0.249326</td>\n",
              "      <td>0.129434</td>\n",
              "    </tr>\n",
              "    <tr>\n",
              "      <th>Kambariai</th>\n",
              "      <td>0.586022</td>\n",
              "      <td>1.000000</td>\n",
              "      <td>0.818758</td>\n",
              "      <td>0.007024</td>\n",
              "      <td>-0.020603</td>\n",
              "      <td>-0.071210</td>\n",
              "      <td>-0.072547</td>\n",
              "      <td>-0.080612</td>\n",
              "      <td>-0.036003</td>\n",
              "      <td>-0.029599</td>\n",
              "      <td>-0.023030</td>\n",
              "      <td>-0.062520</td>\n",
              "      <td>-0.069709</td>\n",
              "      <td>-0.067900</td>\n",
              "      <td>-0.081767</td>\n",
              "      <td>-0.076749</td>\n",
              "      <td>-0.062517</td>\n",
              "      <td>-0.068627</td>\n",
              "      <td>0.039904</td>\n",
              "    </tr>\n",
              "    <tr>\n",
              "      <th>Plotas</th>\n",
              "      <td>0.744361</td>\n",
              "      <td>0.818758</td>\n",
              "      <td>1.000000</td>\n",
              "      <td>0.053865</td>\n",
              "      <td>0.011939</td>\n",
              "      <td>-0.112591</td>\n",
              "      <td>-0.118035</td>\n",
              "      <td>-0.127407</td>\n",
              "      <td>-0.031547</td>\n",
              "      <td>-0.050533</td>\n",
              "      <td>0.004503</td>\n",
              "      <td>-0.111386</td>\n",
              "      <td>-0.122076</td>\n",
              "      <td>-0.119352</td>\n",
              "      <td>-0.132439</td>\n",
              "      <td>-0.127071</td>\n",
              "      <td>-0.116222</td>\n",
              "      <td>-0.118557</td>\n",
              "      <td>0.058415</td>\n",
              "    </tr>\n",
              "    <tr>\n",
              "      <th>Aukstas</th>\n",
              "      <td>0.099518</td>\n",
              "      <td>0.007024</td>\n",
              "      <td>0.053865</td>\n",
              "      <td>1.000000</td>\n",
              "      <td>0.733786</td>\n",
              "      <td>0.105095</td>\n",
              "      <td>0.105425</td>\n",
              "      <td>0.090660</td>\n",
              "      <td>0.137490</td>\n",
              "      <td>0.023268</td>\n",
              "      <td>0.054049</td>\n",
              "      <td>0.136967</td>\n",
              "      <td>0.104593</td>\n",
              "      <td>0.110656</td>\n",
              "      <td>0.094133</td>\n",
              "      <td>0.075734</td>\n",
              "      <td>0.108338</td>\n",
              "      <td>0.116224</td>\n",
              "      <td>0.058873</td>\n",
              "    </tr>\n",
              "    <tr>\n",
              "      <th>Is viso aukstu</th>\n",
              "      <td>0.059685</td>\n",
              "      <td>-0.020603</td>\n",
              "      <td>0.011939</td>\n",
              "      <td>0.733786</td>\n",
              "      <td>1.000000</td>\n",
              "      <td>0.094710</td>\n",
              "      <td>0.099016</td>\n",
              "      <td>0.081914</td>\n",
              "      <td>0.078890</td>\n",
              "      <td>0.028813</td>\n",
              "      <td>0.046791</td>\n",
              "      <td>0.122876</td>\n",
              "      <td>0.095897</td>\n",
              "      <td>0.100419</td>\n",
              "      <td>0.084543</td>\n",
              "      <td>0.074404</td>\n",
              "      <td>0.100699</td>\n",
              "      <td>0.103171</td>\n",
              "      <td>0.054429</td>\n",
              "    </tr>\n",
              "    <tr>\n",
              "      <th>bendr_plotas</th>\n",
              "      <td>-0.221242</td>\n",
              "      <td>-0.071210</td>\n",
              "      <td>-0.112591</td>\n",
              "      <td>0.105095</td>\n",
              "      <td>0.094710</td>\n",
              "      <td>1.000000</td>\n",
              "      <td>0.996133</td>\n",
              "      <td>0.991364</td>\n",
              "      <td>0.530746</td>\n",
              "      <td>0.704377</td>\n",
              "      <td>0.052973</td>\n",
              "      <td>0.925539</td>\n",
              "      <td>0.964182</td>\n",
              "      <td>0.960926</td>\n",
              "      <td>0.964294</td>\n",
              "      <td>0.950410</td>\n",
              "      <td>0.951852</td>\n",
              "      <td>0.960041</td>\n",
              "      <td>-0.365625</td>\n",
              "    </tr>\n",
              "    <tr>\n",
              "      <th>naud_plotas</th>\n",
              "      <td>-0.234289</td>\n",
              "      <td>-0.072547</td>\n",
              "      <td>-0.118035</td>\n",
              "      <td>0.105425</td>\n",
              "      <td>0.099016</td>\n",
              "      <td>0.996133</td>\n",
              "      <td>1.000000</td>\n",
              "      <td>0.991507</td>\n",
              "      <td>0.495331</td>\n",
              "      <td>0.692238</td>\n",
              "      <td>0.053227</td>\n",
              "      <td>0.926934</td>\n",
              "      <td>0.968644</td>\n",
              "      <td>0.964938</td>\n",
              "      <td>0.966529</td>\n",
              "      <td>0.956135</td>\n",
              "      <td>0.958850</td>\n",
              "      <td>0.961491</td>\n",
              "      <td>-0.378171</td>\n",
              "    </tr>\n",
              "    <tr>\n",
              "      <th>butu_skaicius</th>\n",
              "      <td>-0.234806</td>\n",
              "      <td>-0.080612</td>\n",
              "      <td>-0.127407</td>\n",
              "      <td>0.090660</td>\n",
              "      <td>0.081914</td>\n",
              "      <td>0.991364</td>\n",
              "      <td>0.991507</td>\n",
              "      <td>1.000000</td>\n",
              "      <td>0.490432</td>\n",
              "      <td>0.737544</td>\n",
              "      <td>0.049233</td>\n",
              "      <td>0.908882</td>\n",
              "      <td>0.963869</td>\n",
              "      <td>0.955400</td>\n",
              "      <td>0.972872</td>\n",
              "      <td>0.970983</td>\n",
              "      <td>0.945513</td>\n",
              "      <td>0.952238</td>\n",
              "      <td>-0.397363</td>\n",
              "    </tr>\n",
              "    <tr>\n",
              "      <th>negyvenamuju_palapu_skaicius</th>\n",
              "      <td>-0.091721</td>\n",
              "      <td>-0.036003</td>\n",
              "      <td>-0.031547</td>\n",
              "      <td>0.137490</td>\n",
              "      <td>0.078890</td>\n",
              "      <td>0.530746</td>\n",
              "      <td>0.495331</td>\n",
              "      <td>0.490432</td>\n",
              "      <td>1.000000</td>\n",
              "      <td>0.342724</td>\n",
              "      <td>0.058209</td>\n",
              "      <td>0.517658</td>\n",
              "      <td>0.428584</td>\n",
              "      <td>0.439449</td>\n",
              "      <td>0.408984</td>\n",
              "      <td>0.362567</td>\n",
              "      <td>0.418567</td>\n",
              "      <td>0.467516</td>\n",
              "      <td>0.121462</td>\n",
              "    </tr>\n",
              "    <tr>\n",
              "      <th>renov_skaicius</th>\n",
              "      <td>-0.088060</td>\n",
              "      <td>-0.029599</td>\n",
              "      <td>-0.050533</td>\n",
              "      <td>0.023268</td>\n",
              "      <td>0.028813</td>\n",
              "      <td>0.704377</td>\n",
              "      <td>0.692238</td>\n",
              "      <td>0.737544</td>\n",
              "      <td>0.342724</td>\n",
              "      <td>1.000000</td>\n",
              "      <td>0.023806</td>\n",
              "      <td>0.602504</td>\n",
              "      <td>0.674876</td>\n",
              "      <td>0.653500</td>\n",
              "      <td>0.695734</td>\n",
              "      <td>0.734863</td>\n",
              "      <td>0.636394</td>\n",
              "      <td>0.658757</td>\n",
              "      <td>-0.325909</td>\n",
              "    </tr>\n",
              "    <tr>\n",
              "      <th>vid_statybos_m</th>\n",
              "      <td>-0.016522</td>\n",
              "      <td>-0.023030</td>\n",
              "      <td>0.004503</td>\n",
              "      <td>0.054049</td>\n",
              "      <td>0.046791</td>\n",
              "      <td>0.052973</td>\n",
              "      <td>0.053227</td>\n",
              "      <td>0.049233</td>\n",
              "      <td>0.058209</td>\n",
              "      <td>0.023806</td>\n",
              "      <td>1.000000</td>\n",
              "      <td>0.062073</td>\n",
              "      <td>0.045058</td>\n",
              "      <td>0.046539</td>\n",
              "      <td>0.044954</td>\n",
              "      <td>0.038778</td>\n",
              "      <td>0.049343</td>\n",
              "      <td>0.042801</td>\n",
              "      <td>-0.012516</td>\n",
              "    </tr>\n",
              "    <tr>\n",
              "      <th>KIEK_TURI_VAIKU</th>\n",
              "      <td>-0.248630</td>\n",
              "      <td>-0.062520</td>\n",
              "      <td>-0.111386</td>\n",
              "      <td>0.136967</td>\n",
              "      <td>0.122876</td>\n",
              "      <td>0.925539</td>\n",
              "      <td>0.926934</td>\n",
              "      <td>0.908882</td>\n",
              "      <td>0.517658</td>\n",
              "      <td>0.602504</td>\n",
              "      <td>0.062073</td>\n",
              "      <td>1.000000</td>\n",
              "      <td>0.972937</td>\n",
              "      <td>0.981419</td>\n",
              "      <td>0.942890</td>\n",
              "      <td>0.894907</td>\n",
              "      <td>0.980156</td>\n",
              "      <td>0.986482</td>\n",
              "      <td>-0.232379</td>\n",
              "    </tr>\n",
              "    <tr>\n",
              "      <th>LYTIS_M</th>\n",
              "      <td>-0.250134</td>\n",
              "      <td>-0.069709</td>\n",
              "      <td>-0.122076</td>\n",
              "      <td>0.104593</td>\n",
              "      <td>0.095897</td>\n",
              "      <td>0.964182</td>\n",
              "      <td>0.968644</td>\n",
              "      <td>0.963869</td>\n",
              "      <td>0.428584</td>\n",
              "      <td>0.674876</td>\n",
              "      <td>0.045058</td>\n",
              "      <td>0.972937</td>\n",
              "      <td>1.000000</td>\n",
              "      <td>0.998230</td>\n",
              "      <td>0.991254</td>\n",
              "      <td>0.968729</td>\n",
              "      <td>0.995343</td>\n",
              "      <td>0.995673</td>\n",
              "      <td>-0.371047</td>\n",
              "    </tr>\n",
              "    <tr>\n",
              "      <th>LYTIS_V</th>\n",
              "      <td>-0.251750</td>\n",
              "      <td>-0.067900</td>\n",
              "      <td>-0.119352</td>\n",
              "      <td>0.110656</td>\n",
              "      <td>0.100419</td>\n",
              "      <td>0.960926</td>\n",
              "      <td>0.964938</td>\n",
              "      <td>0.955400</td>\n",
              "      <td>0.439449</td>\n",
              "      <td>0.653500</td>\n",
              "      <td>0.046539</td>\n",
              "      <td>0.981419</td>\n",
              "      <td>0.998230</td>\n",
              "      <td>1.000000</td>\n",
              "      <td>0.985126</td>\n",
              "      <td>0.955435</td>\n",
              "      <td>0.997164</td>\n",
              "      <td>0.998369</td>\n",
              "      <td>-0.347604</td>\n",
              "    </tr>\n",
              "    <tr>\n",
              "      <th>ISSISKYRE</th>\n",
              "      <td>-0.252514</td>\n",
              "      <td>-0.081767</td>\n",
              "      <td>-0.132439</td>\n",
              "      <td>0.094133</td>\n",
              "      <td>0.084543</td>\n",
              "      <td>0.964294</td>\n",
              "      <td>0.966529</td>\n",
              "      <td>0.972872</td>\n",
              "      <td>0.408984</td>\n",
              "      <td>0.695734</td>\n",
              "      <td>0.044954</td>\n",
              "      <td>0.942890</td>\n",
              "      <td>0.991254</td>\n",
              "      <td>0.985126</td>\n",
              "      <td>1.000000</td>\n",
              "      <td>0.986687</td>\n",
              "      <td>0.975662</td>\n",
              "      <td>0.981777</td>\n",
              "      <td>-0.424876</td>\n",
              "    </tr>\n",
              "    <tr>\n",
              "      <th>NASLYS</th>\n",
              "      <td>-0.236527</td>\n",
              "      <td>-0.076749</td>\n",
              "      <td>-0.127071</td>\n",
              "      <td>0.075734</td>\n",
              "      <td>0.074404</td>\n",
              "      <td>0.950410</td>\n",
              "      <td>0.956135</td>\n",
              "      <td>0.970983</td>\n",
              "      <td>0.362567</td>\n",
              "      <td>0.734863</td>\n",
              "      <td>0.038778</td>\n",
              "      <td>0.894907</td>\n",
              "      <td>0.968729</td>\n",
              "      <td>0.955435</td>\n",
              "      <td>0.986687</td>\n",
              "      <td>1.000000</td>\n",
              "      <td>0.945354</td>\n",
              "      <td>0.948011</td>\n",
              "      <td>-0.463725</td>\n",
              "    </tr>\n",
              "    <tr>\n",
              "      <th>VEDE</th>\n",
              "      <td>-0.250827</td>\n",
              "      <td>-0.062517</td>\n",
              "      <td>-0.116222</td>\n",
              "      <td>0.108338</td>\n",
              "      <td>0.100699</td>\n",
              "      <td>0.951852</td>\n",
              "      <td>0.958850</td>\n",
              "      <td>0.945513</td>\n",
              "      <td>0.418567</td>\n",
              "      <td>0.636394</td>\n",
              "      <td>0.049343</td>\n",
              "      <td>0.980156</td>\n",
              "      <td>0.995343</td>\n",
              "      <td>0.997164</td>\n",
              "      <td>0.975662</td>\n",
              "      <td>0.945354</td>\n",
              "      <td>1.000000</td>\n",
              "      <td>0.993177</td>\n",
              "      <td>-0.345379</td>\n",
              "    </tr>\n",
              "    <tr>\n",
              "      <th>VIENISI</th>\n",
              "      <td>-0.249326</td>\n",
              "      <td>-0.068627</td>\n",
              "      <td>-0.118557</td>\n",
              "      <td>0.116224</td>\n",
              "      <td>0.103171</td>\n",
              "      <td>0.960041</td>\n",
              "      <td>0.961491</td>\n",
              "      <td>0.952238</td>\n",
              "      <td>0.467516</td>\n",
              "      <td>0.658757</td>\n",
              "      <td>0.042801</td>\n",
              "      <td>0.986482</td>\n",
              "      <td>0.995673</td>\n",
              "      <td>0.998369</td>\n",
              "      <td>0.981777</td>\n",
              "      <td>0.948011</td>\n",
              "      <td>0.993177</td>\n",
              "      <td>1.000000</td>\n",
              "      <td>-0.324798</td>\n",
              "    </tr>\n",
              "    <tr>\n",
              "      <th>VID. GIM. METAI</th>\n",
              "      <td>0.129434</td>\n",
              "      <td>0.039904</td>\n",
              "      <td>0.058415</td>\n",
              "      <td>0.058873</td>\n",
              "      <td>0.054429</td>\n",
              "      <td>-0.365625</td>\n",
              "      <td>-0.378171</td>\n",
              "      <td>-0.397363</td>\n",
              "      <td>0.121462</td>\n",
              "      <td>-0.325909</td>\n",
              "      <td>-0.012516</td>\n",
              "      <td>-0.232379</td>\n",
              "      <td>-0.371047</td>\n",
              "      <td>-0.347604</td>\n",
              "      <td>-0.424876</td>\n",
              "      <td>-0.463725</td>\n",
              "      <td>-0.345379</td>\n",
              "      <td>-0.324798</td>\n",
              "      <td>1.000000</td>\n",
              "    </tr>\n",
              "  </tbody>\n",
              "</table>\n",
              "</div>"
            ],
            "text/plain": [
              "                                 Kaina  Kambariai  ...   VIENISI  VID. GIM. METAI\n",
              "Kaina                         1.000000   0.586022  ... -0.249326         0.129434\n",
              "Kambariai                     0.586022   1.000000  ... -0.068627         0.039904\n",
              "Plotas                        0.744361   0.818758  ... -0.118557         0.058415\n",
              "Aukstas                       0.099518   0.007024  ...  0.116224         0.058873\n",
              "Is viso aukstu                0.059685  -0.020603  ...  0.103171         0.054429\n",
              "bendr_plotas                 -0.221242  -0.071210  ...  0.960041        -0.365625\n",
              "naud_plotas                  -0.234289  -0.072547  ...  0.961491        -0.378171\n",
              "butu_skaicius                -0.234806  -0.080612  ...  0.952238        -0.397363\n",
              "negyvenamuju_palapu_skaicius -0.091721  -0.036003  ...  0.467516         0.121462\n",
              "renov_skaicius               -0.088060  -0.029599  ...  0.658757        -0.325909\n",
              "vid_statybos_m               -0.016522  -0.023030  ...  0.042801        -0.012516\n",
              "KIEK_TURI_VAIKU              -0.248630  -0.062520  ...  0.986482        -0.232379\n",
              "LYTIS_M                      -0.250134  -0.069709  ...  0.995673        -0.371047\n",
              "LYTIS_V                      -0.251750  -0.067900  ...  0.998369        -0.347604\n",
              "ISSISKYRE                    -0.252514  -0.081767  ...  0.981777        -0.424876\n",
              "NASLYS                       -0.236527  -0.076749  ...  0.948011        -0.463725\n",
              "VEDE                         -0.250827  -0.062517  ...  0.993177        -0.345379\n",
              "VIENISI                      -0.249326  -0.068627  ...  1.000000        -0.324798\n",
              "VID. GIM. METAI               0.129434   0.039904  ... -0.324798         1.000000\n",
              "\n",
              "[19 rows x 19 columns]"
            ]
          },
          "metadata": {
            "tags": []
          },
          "execution_count": 81
        }
      ]
    },
    {
      "cell_type": "code",
      "metadata": {
        "id": "I6du1FpfBDmh",
        "colab_type": "code",
        "outputId": "2566ab6e-9f5e-4259-d110-f2bd192a7bd1",
        "colab": {
          "base_uri": "https://localhost:8080/",
          "height": 435
        }
      },
      "source": [
        "sns.heatmap(df_bendras.corr())"
      ],
      "execution_count": 0,
      "outputs": [
        {
          "output_type": "execute_result",
          "data": {
            "text/plain": [
              "<matplotlib.axes._subplots.AxesSubplot at 0x7f14bacb5588>"
            ]
          },
          "metadata": {
            "tags": []
          },
          "execution_count": 178
        },
        {
          "output_type": "display_data",
          "data": {
            "image/png": "[encoded data removed]",
            "text/plain": [
              "<Figure size 432x288 with 2 Axes>"
            ]
          },
          "metadata": {
            "tags": []
          }
        }
      ]
    },
    {
      "cell_type": "code",
      "metadata": {
        "id": "kUOihdy986fG",
        "colab_type": "code",
        "colab": {}
      },
      "source": [
        "from sklearn.metrics import mean_absolute_error\n",
        "from sklearn.metrics import median_absolute_error\n",
        "from sklearn.metrics import r2_score\n",
        "from sklearn.metrics import mean_squared_error"
      ],
      "execution_count": 0,
      "outputs": []
    },
    {
      "cell_type": "markdown",
      "metadata": {
        "id": "iOykTH_qyVeO",
        "colab_type": "text"
      },
      "source": [
        "## 3.1 Tiesinis regresijos modelis "
      ]
    },
    {
      "cell_type": "markdown",
      "metadata": {
        "id": "NOUlHvc968l4",
        "colab_type": "text"
      },
      "source": [
        "Pirmiausia testuosime paprastą tiesinį regresinį modelį, tačiau neįtrauksime Gatvių ir Rajonų, kaip reikšmių.\n",
        "\n",
        "Nesirenkame įtraukti gatvių, nes tuomet yra tiesiog per daug kintamųjų."
      ]
    },
    {
      "cell_type": "code",
      "metadata": {
        "id": "BZPXRynxpEHK",
        "colab_type": "code",
        "outputId": "67df3a70-c71f-437d-8b85-33cffb72a74f",
        "colab": {
          "base_uri": "https://localhost:8080/",
          "height": 364
        }
      },
      "source": [
        "######## REGRESINIS MODELIS 1 ########\n",
        "# Be rajonu\n",
        "model1=LinearRegression()\n",
        "x1=df_bendras.drop(['Kaina','Gatve','Rajonas'], axis=1)\n",
        "y1=df_bendras['Kaina']\n",
        "\n",
        "x0_train, x0_test, y0_train, y0_test = train_test_split(x1,y1, random_state=33)\n",
        "model1.fit(x0_train, y0_train)\n",
        "y0_pred = model1.predict(x0_test)\n",
        "\n",
        "#Modelio tikrinimas vizualiai:\n",
        "sns.scatterplot(y0_test,y0_pred)\n",
        "\n",
        "# koks yra modelio nuokrypis tarp test ir predict duomenu.\n",
        "\n",
        "print('Accuracy of the model: ' + str(model1.score(x0_test,y0_test)))\n",
        "print('MAE: ', mean_absolute_error(y0_test, y0_pred))\n",
        "print('MedAE: ', median_absolute_error(y0_test, y0_pred))\n",
        "print('R^2: ', r2_score(y0_test, y0_pred))\n",
        "print('Mean Squared Error: ', mean_squared_error(y0_test, y0_pred))"
      ],
      "execution_count": 0,
      "outputs": [
        {
          "output_type": "stream",
          "text": [
            "Accuracy of the model: 0.6093509250702742\n",
            "MAE:  37790.51483810916\n",
            "MedAE:  26945.995844664518\n",
            "R^2:  0.6093509250702742\n",
            "Mean Squared Error:  3161818226.81206\n"
          ],
          "name": "stdout"
        },
        {
          "output_type": "display_data",
          "data": {
            "image/png": "[encoded data removed]",
            "text/plain": [
              "<Figure size 432x288 with 1 Axes>"
            ]
          },
          "metadata": {
            "tags": []
          }
        }
      ]
    },
    {
      "cell_type": "markdown",
      "metadata": {
        "id": "Ao3b3XkHydUz",
        "colab_type": "text"
      },
      "source": [
        "## 3.2 Tiesinis regresijos modelis naudojant sukategorizuotus rajonus"
      ]
    },
    {
      "cell_type": "markdown",
      "metadata": {
        "id": "UDVtwdTk9s6i",
        "colab_type": "text"
      },
      "source": [
        "Įdedame ir sukategorizuotus rajonus, nes akivaizdu, kad rajonas daro reikšmę buto kainai."
      ]
    },
    {
      "cell_type": "code",
      "metadata": {
        "id": "xRB3X-Tcp1Le",
        "colab_type": "code",
        "outputId": "47d608f7-6a95-436d-c1f3-df95a0ba8875",
        "colab": {
          "base_uri": "https://localhost:8080/",
          "height": 364
        }
      },
      "source": [
        "df_bendras_m2=pd.get_dummies(df_bendras, columns=['Rajonas'])\n",
        "model2=LinearRegression()\n",
        "x2=df_bendras_m2.drop(['Kaina','Gatve'], axis=1)\n",
        "y2=df_bendras_m2['Kaina']\n",
        "\n",
        "x_train, x_test, y_train, y_test = train_test_split(x2,y2, random_state=33)\n",
        "model2.fit(x_train, y_train)\n",
        "y2_pred = model2.predict(x_test)\n",
        "\n",
        "#Modelio tikrinimas vizualiai:\n",
        "sns.scatterplot(y_test,y2_pred)\n",
        "\n",
        "print('Accuracy of the model: ' + str(model2.score(x_test,y_test)))\n",
        "print('MAE: ', mean_absolute_error(y_test, y2_pred))\n",
        "print('MedAE: ', median_absolute_error(y_test, y2_pred))\n",
        "print('R^2: ', r2_score(y_test, y2_pred))\n",
        "print('Mean Squared Error: ', mean_squared_error(y_test, y2_pred))"
      ],
      "execution_count": 0,
      "outputs": [
        {
          "output_type": "stream",
          "text": [
            "Accuracy of the model: 0.7252656894799343\n",
            "MAE:  30086.344112242357\n",
            "MedAE:  19610.250341851497\n",
            "R^2:  0.7252656894799343\n",
            "Mean Squared Error:  2223632426.8507533\n"
          ],
          "name": "stdout"
        },
        {
          "output_type": "display_data",
          "data": {
            "image/png": "[encoded data removed]",
            "text/plain": [
              "<Figure size 432x288 with 1 Axes>"
            ]
          },
          "metadata": {
            "tags": []
          }
        }
      ]
    },
    {
      "cell_type": "markdown",
      "metadata": {
        "id": "YxiD-prJylM9",
        "colab_type": "text"
      },
      "source": [
        "## 3.3 Gradient Modelis"
      ]
    },
    {
      "cell_type": "code",
      "metadata": {
        "id": "FcrZcOepq3q3",
        "colab_type": "code",
        "outputId": "7739075d-ba9c-4b6b-a6d2-0c9e532777b2",
        "colab": {
          "base_uri": "https://localhost:8080/",
          "height": 367
        }
      },
      "source": [
        "################ REGRESINIS MODELIS 3 : GRADIENT MODEL \n",
        "#https://scikit-learn.org/stable/modules/generated/sklearn.ensemble.GradientBoostingRegressor.html\n",
        "from sklearn import ensemble\n",
        "# x3=df_bendras_m2.drop(['Kaina','Gatve'], axis=1)\n",
        "# y3=df_bendras_m2['Kaina']\n",
        "# x_train, x_test, y_train, y_test = train_test_split(x2,y2, random_state=33)\n",
        "\n",
        "model3=ensemble.GradientBoostingRegressor(n_estimators=400, max_depth=5, min_samples_split=2, learning_rate=0.1, loss='ls')\n",
        "model3.fit(x_train, y_train)\n",
        "y3_pred = model3.predict(x_test)\n",
        "sns.scatterplot(y_test,y3_pred)\n",
        "\n",
        "print('Accuracy of the model: ' + str(model3.score(x_test,y_test)))\n",
        "print('MAE: ', mean_absolute_error(y_test, y3_pred))\n",
        "print('MedAE: ', median_absolute_error(y_test, y3_pred))\n",
        "print('R^2: ', r2_score(y_test, y3_pred))\n",
        "print('Mean Squared Error: ', mean_squared_error(y_test, y3_pred))"
      ],
      "execution_count": 0,
      "outputs": [
        {
          "output_type": "stream",
          "text": [
            "Accuracy of the model: 0.8335048012215979\n",
            "MAE:  21371.169645949205\n",
            "MedAE:  10588.483758956041\n",
            "R^2:  0.8335048012215979\n",
            "Mean Squared Error:  1347571485.4027197\n"
          ],
          "name": "stdout"
        },
        {
          "output_type": "display_data",
          "data": {
            "image/png": "[encoded data removed]",
            "text/plain": [
              "<Figure size 432x288 with 1 Axes>"
            ]
          },
          "metadata": {
            "tags": []
          }
        }
      ]
    },
    {
      "cell_type": "markdown",
      "metadata": {
        "id": "J4xRprZ1ypEZ",
        "colab_type": "text"
      },
      "source": [
        "## 3.4 Ensemble Learning — Random Forest Regressor"
      ]
    },
    {
      "cell_type": "code",
      "metadata": {
        "id": "Dtuh5hKrrjAJ",
        "colab_type": "code",
        "outputId": "5eec3a26-6799-4790-9092-5b7049f42e56",
        "colab": {
          "base_uri": "https://localhost:8080/",
          "height": 51
        }
      },
      "source": [
        "### REGRESINIS MODELIS 4 : Ensemble Learning — Random Forest Regressor\n",
        "from sklearn.linear_model import LinearRegression\n",
        "from sklearn.metrics import mean_squared_error\n",
        "from sklearn.model_selection import cross_val_score\n",
        "lin_reg = LinearRegression()\n",
        "\n",
        "scores = cross_val_score(lin_reg, x_train, y_train,\n",
        "                        scoring=\"neg_mean_squared_error\", cv=10)\n",
        "\n",
        "# find root mean squared error, scores is an array of negative numbers\n",
        "rmse_scores = np.sqrt(-scores)\n",
        "\n",
        "print(\"Mean:\\t\\t \", rmse_scores.mean(), \"\\nStandard Deviation:\", rmse_scores.std())"
      ],
      "execution_count": 0,
      "outputs": [
        {
          "output_type": "stream",
          "text": [
            "Mean:\t\t  47950.352224854716 \n",
            "Standard Deviation: 4564.249876609716\n"
          ],
          "name": "stdout"
        }
      ]
    },
    {
      "cell_type": "code",
      "metadata": {
        "id": "sScgwLOFsi5a",
        "colab_type": "code",
        "outputId": "aef35d57-393e-45e6-df49-95fe01533200",
        "colab": {
          "base_uri": "https://localhost:8080/",
          "height": 51
        }
      },
      "source": [
        "from sklearn.tree import DecisionTreeRegressor\n",
        "from sklearn.model_selection import cross_val_score\n",
        "tree_reg = DecisionTreeRegressor()\n",
        "scores = cross_val_score(tree_reg, x_train, y_train,\n",
        "                        scoring=\"neg_mean_squared_error\", cv=10)\n",
        "\n",
        "# find root mean squared error\n",
        "rmse_scores = np.sqrt(-scores)\n",
        "\n",
        "print(\"Mean:\\t\\t \", rmse_scores.mean(), \"\\nStandard Deviation:\", rmse_scores.std())"
      ],
      "execution_count": 0,
      "outputs": [
        {
          "output_type": "stream",
          "text": [
            "Mean:\t\t  56230.22107162336 \n",
            "Standard Deviation: 4362.7849125193425\n"
          ],
          "name": "stdout"
        }
      ]
    },
    {
      "cell_type": "code",
      "metadata": {
        "id": "botmu2rusnPQ",
        "colab_type": "code",
        "outputId": "ff0fdb38-aefc-4a91-cdf1-b3d11a05fe66",
        "colab": {
          "base_uri": "https://localhost:8080/",
          "height": 51
        }
      },
      "source": [
        "from sklearn.ensemble import RandomForestRegressor\n",
        "forest_reg = RandomForestRegressor()\n",
        "forest_reg.fit(x_train, y_train)\n",
        "RandomForestRegressor(bootstrap=True, criterion='mse', max_depth=None,\n",
        "           max_features='auto', max_leaf_nodes=None,\n",
        "           min_impurity_decrease=0.0, min_impurity_split=None,\n",
        "           min_samples_leaf=1, min_samples_split=2,\n",
        "           min_weight_fraction_leaf=0.0, n_estimators=10, n_jobs=None,\n",
        "           oob_score=False, random_state=None, verbose=0, warm_start=False)\n",
        "forest_scores = cross_val_score(forest_reg, x_train, y_train,\n",
        "                               scoring=\"neg_mean_squared_error\", cv=10)\n",
        "forest_rmse_scores = np.sqrt(-forest_scores)\n",
        "print(\"Mean:\\t\\t \", forest_rmse_scores.mean(), \"\\nStandard Deviation:\", forest_rmse_scores.std())"
      ],
      "execution_count": 0,
      "outputs": [
        {
          "output_type": "stream",
          "text": [
            "Mean:\t\t  39074.80235145347 \n",
            "Standard Deviation: 5378.401295785784\n"
          ],
          "name": "stdout"
        }
      ]
    },
    {
      "cell_type": "code",
      "metadata": {
        "id": "PSDIny-3s07w",
        "colab_type": "code",
        "outputId": "1cf977ef-fd3b-4b09-c445-b80f3b6f5824",
        "colab": {
          "base_uri": "https://localhost:8080/",
          "height": 374
        }
      },
      "source": [
        "from sklearn.model_selection import GridSearchCV\n",
        "param_grid = [\n",
        "    {'n_estimators': [3, 10, 30], 'max_features': [2, 4, 6, 8]},\n",
        "    {'bootstrap': [False], 'n_estimators': [3, 10], 'max_features': [2, 3, 4]},\n",
        "  ]\n",
        "\n",
        "forest_reg = RandomForestRegressor()\n",
        "grid_search = GridSearchCV(forest_reg, param_grid, cv=5,\n",
        "                          scoring='neg_mean_squared_error')\n",
        "grid_search.fit(x_train, y_train)"
      ],
      "execution_count": 0,
      "outputs": [
        {
          "output_type": "execute_result",
          "data": {
            "text/plain": [
              "GridSearchCV(cv=5, error_score=nan,\n",
              "             estimator=RandomForestRegressor(bootstrap=True, ccp_alpha=0.0,\n",
              "                                             criterion='mse', max_depth=None,\n",
              "                                             max_features='auto',\n",
              "                                             max_leaf_nodes=None,\n",
              "                                             max_samples=None,\n",
              "                                             min_impurity_decrease=0.0,\n",
              "                                             min_impurity_split=None,\n",
              "                                             min_samples_leaf=1,\n",
              "                                             min_samples_split=2,\n",
              "                                             min_weight_fraction_leaf=0.0,\n",
              "                                             n_estimators=100, n_jobs=None,\n",
              "                                             oob_score=False, random_state=None,\n",
              "                                             verbose=0, warm_start=False),\n",
              "             iid='deprecated', n_jobs=None,\n",
              "             param_grid=[{'max_features': [2, 4, 6, 8],\n",
              "                          'n_estimators': [3, 10, 30]},\n",
              "                         {'bootstrap': [False], 'max_features': [2, 3, 4],\n",
              "                          'n_estimators': [3, 10]}],\n",
              "             pre_dispatch='2*n_jobs', refit=True, return_train_score=False,\n",
              "             scoring='neg_mean_squared_error', verbose=0)"
            ]
          },
          "metadata": {
            "tags": []
          },
          "execution_count": 45
        }
      ]
    },
    {
      "cell_type": "code",
      "metadata": {
        "id": "6cfAUV70s86c",
        "colab_type": "code",
        "outputId": "3b337e98-781a-4b40-ce31-0fead0e903d6",
        "colab": {
          "base_uri": "https://localhost:8080/",
          "height": 357
        }
      },
      "source": [
        "cvres = grid_search.cv_results_\n",
        "print(\"{}\\t\\t {}\\n\".format('Mean Score','Parameters'))\n",
        "for mean_score, params in zip(cvres[\"mean_test_score\"], cvres[\"params\"]):\n",
        "    x = np.sqrt(-mean_score)\n",
        "    y = params\n",
        "    print(\"{:.2f}\\t {}\".format(x, y))"
      ],
      "execution_count": 0,
      "outputs": [
        {
          "output_type": "stream",
          "text": [
            "Mean Score\t\t Parameters\n",
            "\n",
            "51573.57\t {'max_features': 2, 'n_estimators': 3}\n",
            "48339.56\t {'max_features': 2, 'n_estimators': 10}\n",
            "45194.80\t {'max_features': 2, 'n_estimators': 30}\n",
            "51193.28\t {'max_features': 4, 'n_estimators': 3}\n",
            "43443.18\t {'max_features': 4, 'n_estimators': 10}\n",
            "43205.99\t {'max_features': 4, 'n_estimators': 30}\n",
            "49173.54\t {'max_features': 6, 'n_estimators': 3}\n",
            "44502.73\t {'max_features': 6, 'n_estimators': 10}\n",
            "42060.84\t {'max_features': 6, 'n_estimators': 30}\n",
            "49359.36\t {'max_features': 8, 'n_estimators': 3}\n",
            "42060.81\t {'max_features': 8, 'n_estimators': 10}\n",
            "41219.94\t {'max_features': 8, 'n_estimators': 30}\n",
            "51651.65\t {'bootstrap': False, 'max_features': 2, 'n_estimators': 3}\n",
            "45267.47\t {'bootstrap': False, 'max_features': 2, 'n_estimators': 10}\n",
            "51394.97\t {'bootstrap': False, 'max_features': 3, 'n_estimators': 3}\n",
            "44781.04\t {'bootstrap': False, 'max_features': 3, 'n_estimators': 10}\n",
            "49920.21\t {'bootstrap': False, 'max_features': 4, 'n_estimators': 3}\n",
            "43615.15\t {'bootstrap': False, 'max_features': 4, 'n_estimators': 10}\n"
          ],
          "name": "stdout"
        }
      ]
    },
    {
      "cell_type": "code",
      "metadata": {
        "id": "gQ_l0nzitF3T",
        "colab_type": "code",
        "outputId": "5d1d247b-10d6-4e46-c542-9c856504b925",
        "colab": {
          "base_uri": "https://localhost:8080/",
          "height": 398
        }
      },
      "source": [
        "model4= grid_search.best_estimator_ # tinkamiausio modelio pasirinkimas: {'max_features': 8, 'n_estimators': 30}\n",
        "y4_pred = model4.predict(x_test)\n",
        "# find mean square error\n",
        "final_mse = mean_squared_error(y_test, y4_pred)\n",
        "# find root mean square error\n",
        "final_rmse = np.sqrt(final_mse)\n",
        "\n",
        "print('Model details:')\n",
        "print('Accuracy of the model:', model4.score(x_test,y_test))\n",
        "print('MAE: ', mean_absolute_error(y_test, y4_pred))\n",
        "print('MedAE: ', median_absolute_error(y_test, y4_pred))\n",
        "print('R^2: ', r2_score(y_test, y4_pred))\n",
        "print('Mean Squared Error: ', mean_squared_error(y_test, y4_pred))\n",
        "\n",
        "sns.scatterplot(y_test,y4_pred)"
      ],
      "execution_count": 0,
      "outputs": [
        {
          "output_type": "stream",
          "text": [
            "Model details:\n",
            "Accuracy of the model: 0.7964205349386962\n",
            "MAE:  23874.860703367143\n",
            "MedAE:  12155.299999999996\n",
            "R^2:  0.7964205349386962\n",
            "Mean Squared Error:  1647722481.7472603\n"
          ],
          "name": "stdout"
        },
        {
          "output_type": "execute_result",
          "data": {
            "text/plain": [
              "<matplotlib.axes._subplots.AxesSubplot at 0x7f14bc3decf8>"
            ]
          },
          "metadata": {
            "tags": []
          },
          "execution_count": 57
        },
        {
          "output_type": "display_data",
          "data": {
            "image/png": "[encoded data removed]",
            "text/plain": [
              "<Figure size 432x288 with 1 Axes>"
            ]
          },
          "metadata": {
            "tags": []
          }
        }
      ]
    },
    {
      "cell_type": "markdown",
      "metadata": {
        "id": "65uCHPe3DAh_",
        "colab_type": "text"
      },
      "source": [
        "## 3.5 Modelis: ElasticNet"
      ]
    },
    {
      "cell_type": "code",
      "metadata": {
        "id": "p9lYahb_C3Kl",
        "colab_type": "code",
        "outputId": "d7f8b3f7-b474-432a-de1b-0c0e3a9de031",
        "colab": {
          "base_uri": "https://localhost:8080/",
          "height": 435
        }
      },
      "source": [
        "from sklearn.linear_model import ElasticNet\n",
        "model5 = ElasticNet()\n",
        "\n",
        "model5.fit(x_train,  y_train) \n",
        "y5_pred = model5.predict(x_test)\n",
        "\n",
        "sns.scatterplot(y_test, y5_pred)\n",
        "\n",
        "print('Model details:')\n",
        "print('Accuracy of the model:', model5.score(x_test,y_test))\n",
        "print('MAE: ', mean_absolute_error(y_test, y5_pred))\n",
        "print('MedAE: ', median_absolute_error(y_test, y5_pred))\n",
        "print('R^2: ', r2_score(y_test, y5_pred))\n",
        "print('Mean Squared Error: ', mean_squared_error(y_test, y5_pred))"
      ],
      "execution_count": 0,
      "outputs": [
        {
          "output_type": "stream",
          "text": [
            "/usr/local/lib/python3.6/dist-packages/sklearn/linear_model/_coordinate_descent.py:476: ConvergenceWarning: Objective did not converge. You might want to increase the number of iterations. Duality gap: 3110837845365.909, tolerance: 1660442061.441304\n",
            "  positive)\n"
          ],
          "name": "stderr"
        },
        {
          "output_type": "stream",
          "text": [
            "Model details:\n",
            "Accuracy of the model: 0.6302626597574372\n",
            "MAE:  36376.96750808573\n",
            "MedAE:  25188.55155096366\n",
            "R^2:  0.6302626597574372\n",
            "Mean Squared Error:  2992563752.31977\n"
          ],
          "name": "stdout"
        },
        {
          "output_type": "display_data",
          "data": {
            "image/png": "[encoded data removed]",
            "text/plain": [
              "<Figure size 432x288 with 1 Axes>"
            ]
          },
          "metadata": {
            "tags": []
          }
        }
      ]
    },
    {
      "cell_type": "markdown",
      "metadata": {
        "id": "RJ3aPpP_DoUX",
        "colab_type": "text"
      },
      "source": [
        "## 3.6 Modelis: XGBRegressor"
      ]
    },
    {
      "cell_type": "code",
      "metadata": {
        "id": "B-chxlzjDwvX",
        "colab_type": "code",
        "outputId": "8079a6dc-a7e8-452a-f7d1-ada76ac5a812",
        "colab": {
          "base_uri": "https://localhost:8080/",
          "height": 432
        }
      },
      "source": [
        "from xgboost import XGBRegressor\n",
        "\n",
        "model6 = XGBRegressor()\n",
        "\n",
        "model6.fit(x_train, y_train)\n",
        "y6_pred = model6.predict(x_test)\n",
        "\n",
        "sns.scatterplot(y_test, y6_pred)\n",
        "\n",
        "print('Model details:')\n",
        "print('Accuracy of the model:', model6.score(x_test,y_test))\n",
        "print('MAE: ', mean_absolute_error(y_test, y6_pred))\n",
        "print('MedAE: ', median_absolute_error(y_test, y6_pred))\n",
        "print('R^2: ', r2_score(y_test, y6_pred))\n",
        "print('Mean Squared Error: ', mean_squared_error(y_test, y6_pred))"
      ],
      "execution_count": 0,
      "outputs": [
        {
          "output_type": "stream",
          "text": [
            "/usr/local/lib/python3.6/dist-packages/xgboost/core.py:587: FutureWarning: Series.base is deprecated and will be removed in a future version\n",
            "  if getattr(data, 'base', None) is not None and \\\n"
          ],
          "name": "stderr"
        },
        {
          "output_type": "stream",
          "text": [
            "[08:57:30] WARNING: /workspace/src/objective/regression_obj.cu:152: reg:linear is now deprecated in favor of reg:squarederror.\n",
            "Model details:\n",
            "Accuracy of the model: 0.796871884270046\n",
            "MAE:  25930.531833264955\n",
            "MedAE:  15347.79296875\n",
            "R^2:  0.796871884270046\n",
            "Mean Squared Error:  1644069370.4663038\n"
          ],
          "name": "stdout"
        },
        {
          "output_type": "display_data",
          "data": {
            "image/png": "[encoded data removed]",
            "text/plain": [
              "<Figure size 432x288 with 1 Axes>"
            ]
          },
          "metadata": {
            "tags": []
          }
        }
      ]
    },
    {
      "cell_type": "markdown",
      "metadata": {
        "id": "JYMuLQ2kIRb4",
        "colab_type": "text"
      },
      "source": [
        "## 3.7 Modelis: Lasso"
      ]
    },
    {
      "cell_type": "code",
      "metadata": {
        "id": "2vV52DqYIU4p",
        "colab_type": "code",
        "outputId": "f9f97644-b694-49a5-8f47-b750bee76333",
        "colab": {
          "base_uri": "https://localhost:8080/",
          "height": 435
        }
      },
      "source": [
        "from sklearn.linear_model import Lasso\n",
        "\n",
        "model7=Lasso()\n",
        "model7.fit(x_train, y_train)\n",
        "y7_pred = model7.predict(x_test)\n",
        "\n",
        "sns.scatterplot(y_test, y7_pred)\n",
        "\n",
        "print('Model details:')\n",
        "print('Accuracy of the model:', model6.score(x_test,y_test))\n",
        "print('MAE: ', mean_absolute_error(y_test, y7_pred))\n",
        "print('MedAE: ', median_absolute_error(y_test, y7_pred))\n",
        "print('R^2: ', r2_score(y_test, y7_pred))\n",
        "print('Mean Squared Error: ', mean_squared_error(y_test, y7_pred))"
      ],
      "execution_count": 0,
      "outputs": [
        {
          "output_type": "stream",
          "text": [
            "/usr/local/lib/python3.6/dist-packages/sklearn/linear_model/_coordinate_descent.py:476: ConvergenceWarning: Objective did not converge. You might want to increase the number of iterations. Duality gap: 2211279917927.511, tolerance: 1660442061.441304\n",
            "  positive)\n"
          ],
          "name": "stderr"
        },
        {
          "output_type": "stream",
          "text": [
            "Model details:\n",
            "Accuracy of the model: 0.796871884270046\n",
            "MAE:  29927.68967490666\n",
            "MedAE:  19946.691683059325\n",
            "R^2:  0.7255283256844833\n",
            "Mean Squared Error:  2221506713.53961\n"
          ],
          "name": "stdout"
        },
        {
          "output_type": "display_data",
          "data": {
            "image/png": "[encoded data removed]",
            "text/plain": [
              "<Figure size 432x288 with 1 Axes>"
            ]
          },
          "metadata": {
            "tags": []
          }
        }
      ]
    },
    {
      "cell_type": "markdown",
      "metadata": {
        "id": "cYBrJIpYjpnr",
        "colab_type": "text"
      },
      "source": [
        "## API modelis"
      ]
    },
    {
      "cell_type": "code",
      "metadata": {
        "id": "eiSdtloHL0Er",
        "colab_type": "code",
        "outputId": "387ce161-d8a9-4636-befe-f95f75189428",
        "colab": {
          "base_uri": "https://localhost:8080/",
          "height": 364
        }
      },
      "source": [
        "df_bendras_m2=df_bendras_m2.loc[df_bendras_m2['Kaina']<200000]\n",
        "x3=df_bendras_m2.drop(['Kaina','Gatve'], axis=1)\n",
        "y3=df_bendras_m2['Kaina']\n",
        "x_train, x_test, y_train, y_test = train_test_split(x3,y3, random_state=33)\n",
        "\n",
        "json_model=ensemble.GradientBoostingRegressor(n_estimators=400, max_depth=5, min_samples_split=2, learning_rate=0.1, loss='ls')\n",
        "json_model.fit(x_train, y_train)\n",
        "y3_pred = json_model.predict(x_test)\n",
        "sns.scatterplot(y_test,y3_pred)\n",
        "\n",
        "print('Accuracy of the model: ' + str(json_model.score(x_test,y_test)))\n",
        "print('MAE: ', mean_absolute_error(y_test, y3_pred))\n",
        "print('MedAE: ', median_absolute_error(y_test, y3_pred))\n",
        "print('R^2: ', r2_score(y_test, y3_pred))\n",
        "print('Mean Squared Error: ', mean_squared_error(y_test, y3_pred))"
      ],
      "execution_count": 0,
      "outputs": [
        {
          "output_type": "stream",
          "text": [
            "Accuracy of the model: 0.8197476108367181\n",
            "MAE:  12520.767997789622\n",
            "MedAE:  8046.9778489238815\n",
            "R^2:  0.8197476108367182\n",
            "Mean Squared Error:  341778443.5052944\n"
          ],
          "name": "stdout"
        },
        {
          "output_type": "display_data",
          "data": {
            "image/png": "[encoded data removed]",
            "text/plain": [
              "<Figure size 432x288 with 1 Axes>"
            ]
          },
          "metadata": {
            "tags": []
          }
        }
      ]
    },
    {
      "cell_type": "code",
      "metadata": {
        "id": "K20zvIop7XAy",
        "colab_type": "code",
        "outputId": "1cb24345-5595-43f1-ce95-09ca5df2d9b8",
        "colab": {
          "base_uri": "https://localhost:8080/",
          "height": 34
        }
      },
      "source": [
        "# Modelio issaugojimas .model formatu API kurimui\n",
        "from sklearn.externals import joblib\n",
        "joblib.dump(json_model, 'json_model.pkl')"
      ],
      "execution_count": 0,
      "outputs": [
        {
          "output_type": "execute_result",
          "data": {
            "text/plain": [
              "['json_model.pkl']"
            ]
          },
          "metadata": {
            "tags": []
          },
          "execution_count": 25
        }
      ]
    }
  ]
}